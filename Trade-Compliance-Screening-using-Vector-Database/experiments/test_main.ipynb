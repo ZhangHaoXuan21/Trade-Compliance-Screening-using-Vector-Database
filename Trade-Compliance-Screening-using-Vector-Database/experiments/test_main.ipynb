{
 "cells": [
  {
   "cell_type": "code",
   "execution_count": 1,
   "metadata": {},
   "outputs": [],
   "source": [
    "from langchain_huggingface import HuggingFaceEmbeddings\n",
    "from dotenv import load_dotenv\n",
    "import os\n"
   ]
  },
  {
   "cell_type": "markdown",
   "metadata": {},
   "source": [
    "# 1. Test the Predictor"
   ]
  },
  {
   "cell_type": "code",
   "execution_count": 3,
   "metadata": {},
   "outputs": [
    {
     "name": "stderr",
     "output_type": "stream",
     "text": [
      "flash_attn is not installed. Using PyTorch native attention implementation.\n",
      "flash_attn is not installed. Using PyTorch native attention implementation.\n",
      "flash_attn is not installed. Using PyTorch native attention implementation.\n",
      "flash_attn is not installed. Using PyTorch native attention implementation.\n",
      "flash_attn is not installed. Using PyTorch native attention implementation.\n",
      "flash_attn is not installed. Using PyTorch native attention implementation.\n",
      "flash_attn is not installed. Using PyTorch native attention implementation.\n",
      "flash_attn is not installed. Using PyTorch native attention implementation.\n",
      "flash_attn is not installed. Using PyTorch native attention implementation.\n",
      "flash_attn is not installed. Using PyTorch native attention implementation.\n",
      "flash_attn is not installed. Using PyTorch native attention implementation.\n",
      "flash_attn is not installed. Using PyTorch native attention implementation.\n",
      "flash_attn is not installed. Using PyTorch native attention implementation.\n",
      "flash_attn is not installed. Using PyTorch native attention implementation.\n",
      "flash_attn is not installed. Using PyTorch native attention implementation.\n",
      "flash_attn is not installed. Using PyTorch native attention implementation.\n",
      "flash_attn is not installed. Using PyTorch native attention implementation.\n",
      "flash_attn is not installed. Using PyTorch native attention implementation.\n",
      "flash_attn is not installed. Using PyTorch native attention implementation.\n",
      "flash_attn is not installed. Using PyTorch native attention implementation.\n",
      "flash_attn is not installed. Using PyTorch native attention implementation.\n",
      "flash_attn is not installed. Using PyTorch native attention implementation.\n",
      "flash_attn is not installed. Using PyTorch native attention implementation.\n",
      "flash_attn is not installed. Using PyTorch native attention implementation.\n",
      "flash_attn is not installed. Using PyTorch native attention implementation.\n"
     ]
    }
   ],
   "source": [
    "load_dotenv()\n",
    "\n",
    "QDRANT_URL = os.getenv(\"QDRANT_URL\")\n",
    "QDRANT_API_KEY = os.getenv(\"QDRANT_API_KEY\")\n",
    "\n",
    "model_name = \"jinaai/jina-embeddings-v3\"\n",
    "model_kwargs = {'device': 'cuda', 'trust_remote_code':True}\n",
    "encode_kwargs = {'normalize_embeddings': False}\n",
    "jina_embeddings = HuggingFaceEmbeddings(\n",
    "    model_name=model_name,\n",
    "    model_kwargs=model_kwargs,\n",
    "    encode_kwargs=encode_kwargs\n",
    ")"
   ]
  },
  {
   "cell_type": "code",
   "execution_count": 4,
   "metadata": {},
   "outputs": [],
   "source": [
    "from vector_shield.vector import QdrantVectorStorePredictor\n",
    "\n",
    "qdrant_db_predictor = QdrantVectorStorePredictor(\n",
    "    embeddings=jina_embeddings,\n",
    "    retrieval_top_k=20,\n",
    "    reranker_top_k=5,\n",
    "    db_url=QDRANT_URL,\n",
    "    api_key=QDRANT_API_KEY,\n",
    "    collection_name=\"transaction_description\"\n",
    ")"
   ]
  },
  {
   "cell_type": "code",
   "execution_count": 5,
   "metadata": {},
   "outputs": [
    {
     "data": {
      "application/vnd.jupyter.widget-view+json": {
       "model_id": "9a5ba4e10b25477c98c41998f0f80799",
       "version_major": 2,
       "version_minor": 0
      },
      "text/plain": [
       "Fetching 29 files:   0%|          | 0/29 [00:00<?, ?it/s]"
      ]
     },
     "metadata": {},
     "output_type": "display_data"
    }
   ],
   "source": [
    "qdrant_db_predictor.connect_vector_db()"
   ]
  },
  {
   "cell_type": "code",
   "execution_count": 6,
   "metadata": {},
   "outputs": [
    {
     "name": "stdout",
     "output_type": "stream",
     "text": [
      "The transaction description seems having similar meaning with the **sensitive** descriptions below: \n",
      "\n",
      "1.**Transaction description:** Advanced machine gun with high-rate of fire and armor-piercing ammunition.\n",
      "  **Sensitive Type:** weaponry\n",
      "  **Transaction Type:** None\n",
      "\n",
      "2.**Transaction description:** Advanced main battle rifle with high-velocity ammunition and ballistic computer.\n",
      "  **Sensitive Type:** weaponry\n",
      "  **Transaction Type:** None\n",
      "\n",
      "3.**Transaction description:** High-explosive and armor-piercing ammunition for use in small arms and machine guns.\n",
      "  **Sensitive Type:** weaponry\n",
      "  **Transaction Type:** None\n",
      "\n",
      "4.**Transaction description:** High-velocity armor-piercing bullet for anti-tank and anti-vehicle applications\n",
      "  **Sensitive Type:** weaponry\n",
      "  **Transaction Type:** None\n",
      "\n",
      "5.**Transaction description:** High-velocity sniper bullet for anti-personnel and anti-vehicle applications\n",
      "  **Sensitive Type:** weaponry\n",
      "  **Transaction Type:** None\n",
      "\n",
      "\n"
     ]
    }
   ],
   "source": [
    "transaction_description = \"\"\"\n",
    "AK-47 with 7.62mm bullet\n",
    "\"\"\"\n",
    "\n",
    "predict_data = qdrant_db_predictor.predict(transaction_description, explain=True)\n",
    "print(predict_data['explain'])"
   ]
  },
  {
   "cell_type": "code",
   "execution_count": 7,
   "metadata": {},
   "outputs": [
    {
     "data": {
      "text/plain": [
       "{'prediction': 'sensitive',\n",
       " 'probability_score': 1.0,\n",
       " 'explain': 'The transaction description seems having similar meaning with the **sensitive** descriptions below: \\n\\n1.**Transaction description:** Advanced machine gun with high-rate of fire and armor-piercing ammunition.\\n  **Sensitive Type:** weaponry\\n  **Transaction Type:** None\\n\\n2.**Transaction description:** Advanced main battle rifle with high-velocity ammunition and ballistic computer.\\n  **Sensitive Type:** weaponry\\n  **Transaction Type:** None\\n\\n3.**Transaction description:** High-explosive and armor-piercing ammunition for use in small arms and machine guns.\\n  **Sensitive Type:** weaponry\\n  **Transaction Type:** None\\n\\n4.**Transaction description:** High-velocity armor-piercing bullet for anti-tank and anti-vehicle applications\\n  **Sensitive Type:** weaponry\\n  **Transaction Type:** None\\n\\n5.**Transaction description:** High-velocity sniper bullet for anti-personnel and anti-vehicle applications\\n  **Sensitive Type:** weaponry\\n  **Transaction Type:** None\\n\\n'}"
      ]
     },
     "execution_count": 7,
     "metadata": {},
     "output_type": "execute_result"
    }
   ],
   "source": [
    "predict_data"
   ]
  },
  {
   "cell_type": "markdown",
   "metadata": {},
   "source": [
    "## 2. Test the API"
   ]
  },
  {
   "cell_type": "code",
   "execution_count": 9,
   "metadata": {},
   "outputs": [],
   "source": [
    "import requests\n",
    "\n",
    "user_query = \"AK-47 with 7.62mm bullet\"\n",
    "\n",
    "url = \"http://127.0.0.1:8000/predict\"  # Replace with your server URL if deployed\n",
    "\n",
    "# Define the JSON payload\n",
    "payload = {\n",
    "    \"user_query\": user_query\n",
    "}\n",
    "\n",
    "# Make the POST request\n",
    "response = requests.post(url, json=payload).json()"
   ]
  },
  {
   "cell_type": "code",
   "execution_count": 10,
   "metadata": {},
   "outputs": [
    {
     "data": {
      "text/plain": [
       "{'response': {'prediction': 'sensitive',\n",
       "  'probability_score': 1.0,\n",
       "  'explain': 'The transaction description seems having similar meaning with the **sensitive** descriptions below: \\n\\n1.**Transaction description:** Advanced machine gun with high-rate of fire and armor-piercing ammunition.\\n  **Sensitive Type:** weaponry\\n  **Transaction Type:** None\\n\\n2.**Transaction description:** Advanced main battle rifle with high-velocity ammunition and ballistic computer.\\n  **Sensitive Type:** weaponry\\n  **Transaction Type:** None\\n\\n3.**Transaction description:** High-explosive and armor-piercing ammunition for use in small arms and machine guns.\\n  **Sensitive Type:** weaponry\\n  **Transaction Type:** None\\n\\n4.**Transaction description:** High-velocity armor-piercing bullet for anti-tank and anti-vehicle applications\\n  **Sensitive Type:** weaponry\\n  **Transaction Type:** None\\n\\n5.**Transaction description:** High-velocity sniper bullet for anti-personnel and anti-vehicle applications\\n  **Sensitive Type:** weaponry\\n  **Transaction Type:** None\\n\\n'}}"
      ]
     },
     "execution_count": 10,
     "metadata": {},
     "output_type": "execute_result"
    }
   ],
   "source": [
    "response"
   ]
  }
 ],
 "metadata": {
  "kernelspec": {
   "display_name": "jaredllm",
   "language": "python",
   "name": "python3"
  },
  "language_info": {
   "codemirror_mode": {
    "name": "ipython",
    "version": 3
   },
   "file_extension": ".py",
   "mimetype": "text/x-python",
   "name": "python",
   "nbconvert_exporter": "python",
   "pygments_lexer": "ipython3",
   "version": "3.12.4"
  }
 },
 "nbformat": 4,
 "nbformat_minor": 2
}
