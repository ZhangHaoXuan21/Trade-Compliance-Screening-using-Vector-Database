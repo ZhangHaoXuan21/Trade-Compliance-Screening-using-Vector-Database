{
 "cells": [
  {
   "cell_type": "markdown",
   "metadata": {},
   "source": [
    "# 1. Generate Synthetic Data using LLM"
   ]
  },
  {
   "cell_type": "markdown",
   "metadata": {},
   "source": [
    "## 1.1 Generate Sensitive Transaction Description"
   ]
  },
  {
   "cell_type": "code",
   "execution_count": 1,
   "metadata": {},
   "outputs": [],
   "source": [
    "from pydantic import BaseModel, Field\n",
    "from typing_extensions import List\n",
    "\n",
    "\n",
    "\n",
    "class SensitiveTransactionDesc(BaseModel):\n",
    "    dual_use_items: List[str] = Field(description=\"Item Descriptions for Dual-Use Items\")\n",
    "    uranium: List[str] = Field(description=\"Item Descriptions for Uranium\")\n",
    "    weaponry: List[str] = Field(description=\"Item Descriptions for Weaponry\")\n",
    "    dangerous_chemical: List[str] = Field(description=\"Item Descriptions for Dangerous Chemical\")"
   ]
  },
  {
   "cell_type": "code",
   "execution_count": 2,
   "metadata": {},
   "outputs": [],
   "source": [
    "sensitive_data_prompt_template = \"\"\" \n",
    "You are an expert technical writer specializing in creating detailed and realistic descriptions for various items, including sensitive or regulated materials. Your task is to generate synthetic item descriptions that are plausible, specific, and appropriate for their category. Each description should be 1-2 sentences long and highlight key characteristics or potential applications of the item. Below are examples of item types and descriptions for reference:\n",
    "\n",
    "Examples:\n",
    "\n",
    "1. Dual-Use Items:\n",
    "-\"High-performance centrifuge suitable for medical diagnostics and isotope separation applications.\"\n",
    "-\"Advanced microprocessor designed for industrial automation and secure communication systems.\"\n",
    "\n",
    "2. Uranium:\n",
    "-\"Low-enriched uranium suitable for use in civilian nuclear power generation.\"\n",
    "-\"Uranium hexafluoride in gaseous form for isotope separation in nuclear facilities.\"\n",
    "\n",
    "3. Weaponry:\n",
    "-\"Tactical-grade night vision scope with enhanced image stabilization and thermal imaging.\"\n",
    "-\"Portable surface-to-air missile system designed for short-range aerial defense.\"\n",
    "\n",
    "4. Dangerous Chemical:\n",
    "-\"Concentrated hydrofluoric acid for etching and cleaning processes in semiconductor manufacturing.\"\n",
    "-\"Explosive-grade ammonium nitrate engineered for controlled detonation in mining operations.\"\n",
    "\n",
    "Your Task:\n",
    "Now,generate exactly 50 unique descriptions for each type. Ensure that the descriptions are wide variety than the examples provided, technically accurate, and realistic.\n",
    "\n",
    "\"\"\"\n",
    "\n",
    "sensitive_data_prompt_template_2 = \"\"\" \n",
    "You are an expert technical writer specializing in creating detailed and realistic descriptions for various items, including sensitive or regulated materials. Your task is to generate synthetic item descriptions that are plausible, specific, and appropriate for their category. Each description should be 1-2 sentences long and highlight key characteristics or potential applications of the item. Below are examples of item types and descriptions for reference:\n",
    "\n",
    "Examples:\n",
    "\n",
    "1. Dual-Use Items:\n",
    "-\"High-performance centrifuge suitable for medical diagnostics and isotope separation applications.\"\n",
    "-\"Advanced microprocessor designed for industrial automation and secure communication systems.\"\n",
    "\n",
    "2. Uranium:\n",
    "-\"Low-enriched uranium suitable for use in civilian nuclear power generation.\"\n",
    "-\"Uranium hexafluoride in gaseous form for isotope separation in nuclear facilities.\"\n",
    "\n",
    "3. Weaponry:\n",
    "-\"Tactical-grade night vision scope with enhanced image stabilization and thermal imaging.\"\n",
    "-\"Portable surface-to-air missile system designed for short-range aerial defense.\"\n",
    "\n",
    "4. Dangerous Chemical:\n",
    "-\"Concentrated hydrofluoric acid for etching and cleaning processes in semiconductor manufacturing.\"\n",
    "-\"Explosive-grade ammonium nitrate engineered for controlled detonation in mining operations.\"\n",
    "\n",
    "Your Task:\n",
    "Now,generate exactly 30 unique descriptions for Dual-Use Items,\n",
    "exactly 30 unique descriptions for Uranium, exactly 30 unique descriptions for Weaponry,\n",
    "exactly 30 unique descriptions for Dangerous Chemical\n",
    "Ensure that the descriptions are wide variety than the examples provided, technically accurate, and realistic.\n",
    "\n",
    "\"\"\"\n"
   ]
  },
  {
   "cell_type": "code",
   "execution_count": 3,
   "metadata": {},
   "outputs": [],
   "source": [
    "from langchain_groq import ChatGroq\n",
    "import config\n",
    "\n",
    "\n",
    "groq_llama_3_1_70b = ChatGroq(\n",
    "    model=\"llama-3.1-70b-versatile\",\n",
    "    temperature=0.3,\n",
    "    api_key=config.GROQ_API_KEY\n",
    ")\n",
    "\n",
    "groq_llama_3_2_90b = ChatGroq(\n",
    "    model=\"llama-3.2-90b-text-preview\",\n",
    "    temperature=0.3,\n",
    "    api_key=config.GROQ_API_KEY\n",
    ")\n",
    "\n",
    "synthetic_llm = groq_llama_3_1_70b\n",
    "\n",
    "structured_llm = synthetic_llm.with_structured_output(SensitiveTransactionDesc)\n"
   ]
  },
  {
   "cell_type": "code",
   "execution_count": 4,
   "metadata": {},
   "outputs": [],
   "source": [
    "result = structured_llm.invoke(sensitive_data_prompt_template)"
   ]
  },
  {
   "cell_type": "code",
   "execution_count": 5,
   "metadata": {},
   "outputs": [
    {
     "data": {
      "text/plain": [
       "['Tactical-grade night vision scope with enhanced image stabilization and thermal imaging',\n",
       " 'Portable surface-to-air missile system designed for short-range aerial defense',\n",
       " 'High-velocity sniper rifle for long-range precision shooting',\n",
       " 'Advanced combat helmet with integrated communication and ballistic protection',\n",
       " 'Specialized body armor for high-risk law enforcement and military applications',\n",
       " 'High-performance grenade launcher for infantry and special operations',\n",
       " 'Advanced mortar system for indirect fire support and artillery applications',\n",
       " 'Specialized rocket-propelled grenade for anti-tank and anti-infantry applications',\n",
       " 'High-speed patrol boat for maritime interdiction and special operations',\n",
       " 'Advanced unmanned aerial vehicle for reconnaissance and surveillance',\n",
       " 'Specialized explosive ordnance disposal equipment for bomb disposal and demining',\n",
       " 'High-performance assault rifle for close-quarters combat and special operations',\n",
       " 'Advanced machine gun for suppressive fire and area defense',\n",
       " 'Specialized sniper rifle for long-range precision shooting and counter-sniper applications',\n",
       " 'High-velocity pistol for concealed carry and law enforcement applications',\n",
       " 'Advanced less-lethal munition for crowd control and riot situations',\n",
       " 'Specialized pepper spray for self-defense and law enforcement applications',\n",
       " 'High-performance stun gun for self-defense and law enforcement applications',\n",
       " 'Advanced riot shield for crowd control and riot situations',\n",
       " 'Specialized baton for self-defense and law enforcement applications',\n",
       " 'High-performance handcuff for law enforcement and corrections applications',\n",
       " 'Advanced leg iron for corrections and prisoner transport',\n",
       " 'Specialized restraint system for high-risk prisoners and violent offenders',\n",
       " 'High-performance pepper ball launcher for crowd control and riot situations',\n",
       " 'Advanced smoke grenade for concealment and escape applications',\n",
       " 'Specialized CS gas grenade for crowd control and riot situations',\n",
       " 'High-performance flash-bang grenade for disorientation and distraction',\n",
       " 'Advanced stinger grenade for area denial and crowd control',\n",
       " 'Specialized fragmentation grenade for anti-infantry and anti-vehicle applications',\n",
       " 'High-performance thermite grenade for incendiary and sabotage applications',\n",
       " 'Advanced white phosphorus grenade for smoke and incendiary applications',\n",
       " 'Specialized napalm grenade for incendiary and area denial applications',\n",
       " 'High-performance fuel-air explosive for area denial and anti-infantry applications',\n",
       " 'Advanced thermobaric grenade for area denial and anti-infantry applications',\n",
       " 'Specialized high-explosive grenade for anti-infantry and anti-vehicle applications']"
      ]
     },
     "execution_count": 5,
     "metadata": {},
     "output_type": "execute_result"
    }
   ],
   "source": [
    "result.weaponry"
   ]
  },
  {
   "cell_type": "code",
   "execution_count": 6,
   "metadata": {},
   "outputs": [
    {
     "name": "stdout",
     "output_type": "stream",
     "text": [
      "45\n",
      "36\n",
      "35\n",
      "48\n"
     ]
    }
   ],
   "source": [
    "print(len(result.dual_use_items))\n",
    "print(len(result.uranium))\n",
    "print(len(result.weaponry))\n",
    "print(len(result.dangerous_chemical))"
   ]
  },
  {
   "cell_type": "code",
   "execution_count": 7,
   "metadata": {},
   "outputs": [],
   "source": [
    "sensitive_transaction_description = {\n",
    "    'transaction_description':[],\n",
    "    \"sensitive_type\":[]\n",
    "}"
   ]
  },
  {
   "cell_type": "code",
   "execution_count": 8,
   "metadata": {},
   "outputs": [
    {
     "name": "stderr",
     "output_type": "stream",
     "text": [
      "Generating Sensitive Transaction Description:   0%|          | 0/40 [00:00<?, ?it/s]"
     ]
    },
    {
     "name": "stdout",
     "output_type": "stream",
     "text": [
      "Generation Successful for iteration number 0\n"
     ]
    },
    {
     "name": "stderr",
     "output_type": "stream",
     "text": [
      "Generating Sensitive Transaction Description:   2%|▎         | 1/40 [01:13<47:31, 73.12s/it]"
     ]
    },
    {
     "name": "stdout",
     "output_type": "stream",
     "text": [
      "Failed for iteration number 1\n"
     ]
    },
    {
     "name": "stderr",
     "output_type": "stream",
     "text": [
      "Generating Sensitive Transaction Description:   5%|▌         | 2/40 [02:47<54:24, 85.92s/it]"
     ]
    },
    {
     "name": "stdout",
     "output_type": "stream",
     "text": [
      "Failed for iteration number 2\n"
     ]
    },
    {
     "name": "stderr",
     "output_type": "stream",
     "text": [
      "Generating Sensitive Transaction Description:   8%|▊         | 3/40 [04:02<49:49, 80.80s/it]"
     ]
    },
    {
     "name": "stdout",
     "output_type": "stream",
     "text": [
      "Generation Successful for iteration number 3\n"
     ]
    },
    {
     "name": "stderr",
     "output_type": "stream",
     "text": [
      "Generating Sensitive Transaction Description:  10%|█         | 4/40 [04:43<38:55, 64.86s/it]"
     ]
    },
    {
     "name": "stdout",
     "output_type": "stream",
     "text": [
      "Generation Successful for iteration number 4\n"
     ]
    },
    {
     "name": "stderr",
     "output_type": "stream",
     "text": [
      "Generating Sensitive Transaction Description:  12%|█▎        | 5/40 [05:25<33:09, 56.84s/it]"
     ]
    },
    {
     "name": "stdout",
     "output_type": "stream",
     "text": [
      "Generation Successful for iteration number 5\n"
     ]
    },
    {
     "name": "stderr",
     "output_type": "stream",
     "text": [
      "Generating Sensitive Transaction Description:  15%|█▌        | 6/40 [06:06<29:06, 51.38s/it]"
     ]
    },
    {
     "name": "stdout",
     "output_type": "stream",
     "text": [
      "Generation Successful for iteration number 6\n"
     ]
    },
    {
     "name": "stderr",
     "output_type": "stream",
     "text": [
      "Generating Sensitive Transaction Description:  18%|█▊        | 7/40 [06:47<26:26, 48.06s/it]"
     ]
    },
    {
     "name": "stdout",
     "output_type": "stream",
     "text": [
      "Generation Successful for iteration number 7\n"
     ]
    },
    {
     "name": "stderr",
     "output_type": "stream",
     "text": [
      "Generating Sensitive Transaction Description:  20%|██        | 8/40 [07:27<24:13, 45.42s/it]"
     ]
    },
    {
     "name": "stdout",
     "output_type": "stream",
     "text": [
      "Generation Successful for iteration number 8\n"
     ]
    },
    {
     "name": "stderr",
     "output_type": "stream",
     "text": [
      "Generating Sensitive Transaction Description:  22%|██▎       | 9/40 [08:07<22:33, 43.66s/it]"
     ]
    },
    {
     "name": "stdout",
     "output_type": "stream",
     "text": [
      "Failed for iteration number 9\n"
     ]
    },
    {
     "name": "stderr",
     "output_type": "stream",
     "text": [
      "Generating Sensitive Transaction Description:  25%|██▌       | 10/40 [09:41<29:42, 59.41s/it]"
     ]
    },
    {
     "name": "stdout",
     "output_type": "stream",
     "text": [
      "Generation Successful for iteration number 10\n"
     ]
    },
    {
     "name": "stderr",
     "output_type": "stream",
     "text": [
      "Generating Sensitive Transaction Description:  28%|██▊       | 11/40 [10:21<25:42, 53.20s/it]"
     ]
    },
    {
     "name": "stdout",
     "output_type": "stream",
     "text": [
      "Generation Successful for iteration number 11\n"
     ]
    },
    {
     "name": "stderr",
     "output_type": "stream",
     "text": [
      "Generating Sensitive Transaction Description:  30%|███       | 12/40 [11:03<23:14, 49.79s/it]"
     ]
    },
    {
     "name": "stdout",
     "output_type": "stream",
     "text": [
      "Generation Successful for iteration number 12\n"
     ]
    },
    {
     "name": "stderr",
     "output_type": "stream",
     "text": [
      "Generating Sensitive Transaction Description:  32%|███▎      | 13/40 [11:51<22:13, 49.37s/it]"
     ]
    },
    {
     "name": "stdout",
     "output_type": "stream",
     "text": [
      "Generation Successful for iteration number 13\n"
     ]
    },
    {
     "name": "stderr",
     "output_type": "stream",
     "text": [
      "Generating Sensitive Transaction Description:  35%|███▌      | 14/40 [12:32<20:17, 46.84s/it]"
     ]
    },
    {
     "name": "stdout",
     "output_type": "stream",
     "text": [
      "Generation Successful for iteration number 14\n"
     ]
    },
    {
     "name": "stderr",
     "output_type": "stream",
     "text": [
      "Generating Sensitive Transaction Description:  38%|███▊      | 15/40 [13:13<18:45, 45.01s/it]"
     ]
    },
    {
     "name": "stdout",
     "output_type": "stream",
     "text": [
      "Generation Successful for iteration number 15\n"
     ]
    },
    {
     "name": "stderr",
     "output_type": "stream",
     "text": [
      "Generating Sensitive Transaction Description:  40%|████      | 16/40 [13:55<17:42, 44.27s/it]"
     ]
    },
    {
     "name": "stdout",
     "output_type": "stream",
     "text": [
      "Generation Successful for iteration number 16\n"
     ]
    },
    {
     "name": "stderr",
     "output_type": "stream",
     "text": [
      "Generating Sensitive Transaction Description:  42%|████▎     | 17/40 [14:41<17:09, 44.75s/it]"
     ]
    },
    {
     "name": "stdout",
     "output_type": "stream",
     "text": [
      "Generation Successful for iteration number 17\n"
     ]
    },
    {
     "name": "stderr",
     "output_type": "stream",
     "text": [
      "Generating Sensitive Transaction Description:  45%|████▌     | 18/40 [15:23<16:04, 43.86s/it]"
     ]
    },
    {
     "name": "stdout",
     "output_type": "stream",
     "text": [
      "Generation Successful for iteration number 18\n"
     ]
    },
    {
     "name": "stderr",
     "output_type": "stream",
     "text": [
      "Generating Sensitive Transaction Description:  48%|████▊     | 19/40 [16:04<15:02, 42.99s/it]"
     ]
    },
    {
     "name": "stdout",
     "output_type": "stream",
     "text": [
      "Generation Successful for iteration number 19\n"
     ]
    },
    {
     "name": "stderr",
     "output_type": "stream",
     "text": [
      "Generating Sensitive Transaction Description:  50%|█████     | 20/40 [16:44<13:59, 41.98s/it]"
     ]
    },
    {
     "name": "stdout",
     "output_type": "stream",
     "text": [
      "Generation Successful for iteration number 20\n"
     ]
    },
    {
     "name": "stderr",
     "output_type": "stream",
     "text": [
      "Generating Sensitive Transaction Description:  52%|█████▎    | 21/40 [17:25<13:17, 41.95s/it]"
     ]
    },
    {
     "name": "stdout",
     "output_type": "stream",
     "text": [
      "Generation Successful for iteration number 21\n"
     ]
    },
    {
     "name": "stderr",
     "output_type": "stream",
     "text": [
      "Generating Sensitive Transaction Description:  55%|█████▌    | 22/40 [18:07<12:35, 41.95s/it]"
     ]
    },
    {
     "name": "stdout",
     "output_type": "stream",
     "text": [
      "Failed for iteration number 22\n"
     ]
    },
    {
     "name": "stderr",
     "output_type": "stream",
     "text": [
      "Generating Sensitive Transaction Description:  57%|█████▊    | 23/40 [19:42<16:23, 57.86s/it]"
     ]
    },
    {
     "name": "stdout",
     "output_type": "stream",
     "text": [
      "Generation Successful for iteration number 23\n"
     ]
    },
    {
     "name": "stderr",
     "output_type": "stream",
     "text": [
      "Generating Sensitive Transaction Description:  60%|██████    | 24/40 [20:21<13:53, 52.10s/it]"
     ]
    },
    {
     "name": "stdout",
     "output_type": "stream",
     "text": [
      "Generation Successful for iteration number 24\n"
     ]
    },
    {
     "name": "stderr",
     "output_type": "stream",
     "text": [
      "Generating Sensitive Transaction Description:  62%|██████▎   | 25/40 [21:34<14:34, 58.33s/it]"
     ]
    },
    {
     "name": "stdout",
     "output_type": "stream",
     "text": [
      "Generation Successful for iteration number 25\n"
     ]
    },
    {
     "name": "stderr",
     "output_type": "stream",
     "text": [
      "Generating Sensitive Transaction Description:  65%|██████▌   | 26/40 [22:12<12:13, 52.37s/it]"
     ]
    },
    {
     "name": "stdout",
     "output_type": "stream",
     "text": [
      "Generation Successful for iteration number 26\n"
     ]
    },
    {
     "name": "stderr",
     "output_type": "stream",
     "text": [
      "Generating Sensitive Transaction Description:  68%|██████▊   | 27/40 [23:07<11:28, 52.95s/it]"
     ]
    },
    {
     "name": "stdout",
     "output_type": "stream",
     "text": [
      "Generation Successful for iteration number 27\n"
     ]
    },
    {
     "name": "stderr",
     "output_type": "stream",
     "text": [
      "Generating Sensitive Transaction Description:  70%|███████   | 28/40 [23:54<10:15, 51.33s/it]"
     ]
    },
    {
     "name": "stdout",
     "output_type": "stream",
     "text": [
      "Generation Successful for iteration number 28\n"
     ]
    },
    {
     "name": "stderr",
     "output_type": "stream",
     "text": [
      "Generating Sensitive Transaction Description:  72%|███████▎  | 29/40 [25:05<10:29, 57.23s/it]"
     ]
    },
    {
     "name": "stdout",
     "output_type": "stream",
     "text": [
      "Generation Successful for iteration number 29\n"
     ]
    },
    {
     "name": "stderr",
     "output_type": "stream",
     "text": [
      "Generating Sensitive Transaction Description:  75%|███████▌  | 30/40 [25:45<08:40, 52.01s/it]"
     ]
    },
    {
     "name": "stdout",
     "output_type": "stream",
     "text": [
      "Generation Successful for iteration number 30\n"
     ]
    },
    {
     "name": "stderr",
     "output_type": "stream",
     "text": [
      "Generating Sensitive Transaction Description:  78%|███████▊  | 31/40 [26:29<07:26, 49.64s/it]"
     ]
    },
    {
     "name": "stdout",
     "output_type": "stream",
     "text": [
      "Generation Successful for iteration number 31\n"
     ]
    },
    {
     "name": "stderr",
     "output_type": "stream",
     "text": [
      "Generating Sensitive Transaction Description:  80%|████████  | 32/40 [27:09<06:14, 46.76s/it]"
     ]
    },
    {
     "name": "stdout",
     "output_type": "stream",
     "text": [
      "Generation Successful for iteration number 32\n"
     ]
    },
    {
     "name": "stderr",
     "output_type": "stream",
     "text": [
      "Generating Sensitive Transaction Description:  82%|████████▎ | 33/40 [27:50<05:13, 44.85s/it]"
     ]
    },
    {
     "name": "stdout",
     "output_type": "stream",
     "text": [
      "Failed for iteration number 33\n"
     ]
    },
    {
     "name": "stderr",
     "output_type": "stream",
     "text": [
      "Generating Sensitive Transaction Description:  85%|████████▌ | 34/40 [29:02<05:17, 52.99s/it]"
     ]
    },
    {
     "name": "stdout",
     "output_type": "stream",
     "text": [
      "Generation Successful for iteration number 34\n"
     ]
    },
    {
     "name": "stderr",
     "output_type": "stream",
     "text": [
      "Generating Sensitive Transaction Description:  88%|████████▊ | 35/40 [29:41<04:04, 49.00s/it]"
     ]
    },
    {
     "name": "stdout",
     "output_type": "stream",
     "text": [
      "Generation Successful for iteration number 35\n"
     ]
    },
    {
     "name": "stderr",
     "output_type": "stream",
     "text": [
      "Generating Sensitive Transaction Description:  90%|█████████ | 36/40 [30:23<03:07, 46.79s/it]"
     ]
    },
    {
     "name": "stdout",
     "output_type": "stream",
     "text": [
      "Failed for iteration number 36\n"
     ]
    },
    {
     "name": "stderr",
     "output_type": "stream",
     "text": [
      "Generating Sensitive Transaction Description:  92%|█████████▎| 37/40 [31:58<03:03, 61.29s/it]"
     ]
    },
    {
     "name": "stdout",
     "output_type": "stream",
     "text": [
      "Generation Successful for iteration number 37\n"
     ]
    },
    {
     "name": "stderr",
     "output_type": "stream",
     "text": [
      "Generating Sensitive Transaction Description:  95%|█████████▌| 38/40 [32:37<01:49, 54.72s/it]"
     ]
    },
    {
     "name": "stdout",
     "output_type": "stream",
     "text": [
      "Failed for iteration number 38\n"
     ]
    },
    {
     "name": "stderr",
     "output_type": "stream",
     "text": [
      "Generating Sensitive Transaction Description:  98%|█████████▊| 39/40 [34:12<01:06, 66.75s/it]"
     ]
    },
    {
     "name": "stdout",
     "output_type": "stream",
     "text": [
      "Generation Successful for iteration number 39\n"
     ]
    },
    {
     "name": "stderr",
     "output_type": "stream",
     "text": [
      "Generating Sensitive Transaction Description: 100%|██████████| 40/40 [34:53<00:00, 52.33s/it]\n"
     ]
    }
   ],
   "source": [
    "from tqdm import tqdm\n",
    "import time\n",
    "\n",
    "total_loop = 40\n",
    "\n",
    "for i in tqdm(range(total_loop), desc=\"Generating Sensitive Transaction Description\", total=total_loop):\n",
    "    try:\n",
    "        result = structured_llm.invoke(sensitive_data_prompt_template)\n",
    "\n",
    "        dual_use_items = result.dual_use_items\n",
    "        uranium = result.uranium\n",
    "        weaponry = result.weaponry\n",
    "        dangerous_chemical = result.dangerous_chemical\n",
    "\n",
    "        sensitive_transaction_description['transaction_description'] += dual_use_items\n",
    "        sensitive_transaction_description['sensitive_type'] += [\"dual_use_items\"] * len(dual_use_items)\n",
    "\n",
    "        sensitive_transaction_description['transaction_description'] += uranium\n",
    "        sensitive_transaction_description['sensitive_type'] += [\"uranium\"] * len(uranium)\n",
    "\n",
    "        sensitive_transaction_description['transaction_description'] += weaponry\n",
    "        sensitive_transaction_description['sensitive_type'] += [\"weaponry\"] * len(weaponry)\n",
    "\n",
    "        sensitive_transaction_description['transaction_description'] += dangerous_chemical\n",
    "        sensitive_transaction_description['sensitive_type'] += [\"dangerous_chemical\"] * len(dangerous_chemical)\n",
    "        print(f\"Generation Successful for iteration number {i}\")\n",
    "    except:\n",
    "        print(f\"Failed for iteration number {i}\")\n",
    "\n",
    "    time.sleep(30)"
   ]
  },
  {
   "cell_type": "code",
   "execution_count": 9,
   "metadata": {},
   "outputs": [
    {
     "data": {
      "text/plain": [
       "dict_keys(['transaction_description', 'sensitive_type'])"
      ]
     },
     "execution_count": 9,
     "metadata": {},
     "output_type": "execute_result"
    }
   ],
   "source": [
    "sensitive_transaction_description.keys()"
   ]
  },
  {
   "cell_type": "code",
   "execution_count": 10,
   "metadata": {},
   "outputs": [
    {
     "data": {
      "text/plain": [
       "6152"
      ]
     },
     "execution_count": 10,
     "metadata": {},
     "output_type": "execute_result"
    }
   ],
   "source": [
    "len(sensitive_transaction_description['transaction_description'])\n",
    "len(sensitive_transaction_description['sensitive_type'])"
   ]
  },
  {
   "cell_type": "code",
   "execution_count": 12,
   "metadata": {},
   "outputs": [],
   "source": [
    "import pandas as pd\n",
    "sensitive_df = pd.DataFrame(sensitive_transaction_description)"
   ]
  },
  {
   "cell_type": "code",
   "execution_count": 14,
   "metadata": {},
   "outputs": [
    {
     "data": {
      "text/html": [
       "<div>\n",
       "<style scoped>\n",
       "    .dataframe tbody tr th:only-of-type {\n",
       "        vertical-align: middle;\n",
       "    }\n",
       "\n",
       "    .dataframe tbody tr th {\n",
       "        vertical-align: top;\n",
       "    }\n",
       "\n",
       "    .dataframe thead th {\n",
       "        text-align: right;\n",
       "    }\n",
       "</style>\n",
       "<table border=\"1\" class=\"dataframe\">\n",
       "  <thead>\n",
       "    <tr style=\"text-align: right;\">\n",
       "      <th></th>\n",
       "      <th>transaction_description</th>\n",
       "      <th>sensitive_type</th>\n",
       "    </tr>\n",
       "  </thead>\n",
       "  <tbody>\n",
       "    <tr>\n",
       "      <th>0</th>\n",
       "      <td>High-speed camera system for capturing high-re...</td>\n",
       "      <td>dual_use_items</td>\n",
       "    </tr>\n",
       "    <tr>\n",
       "      <th>1</th>\n",
       "      <td>Advanced navigation system designed for use in...</td>\n",
       "      <td>dual_use_items</td>\n",
       "    </tr>\n",
       "    <tr>\n",
       "      <th>2</th>\n",
       "      <td>High-performance computer server for data proc...</td>\n",
       "      <td>dual_use_items</td>\n",
       "    </tr>\n",
       "    <tr>\n",
       "      <th>3</th>\n",
       "      <td>Specialized software for simulating complex sy...</td>\n",
       "      <td>dual_use_items</td>\n",
       "    </tr>\n",
       "    <tr>\n",
       "      <th>4</th>\n",
       "      <td>Precision-crafted mechanical components for us...</td>\n",
       "      <td>dual_use_items</td>\n",
       "    </tr>\n",
       "    <tr>\n",
       "      <th>...</th>\n",
       "      <td>...</td>\n",
       "      <td>...</td>\n",
       "    </tr>\n",
       "    <tr>\n",
       "      <th>6147</th>\n",
       "      <td>High-purity hexacosane for chemical synthesis ...</td>\n",
       "      <td>dangerous_chemical</td>\n",
       "    </tr>\n",
       "    <tr>\n",
       "      <th>6148</th>\n",
       "      <td>Concentrated octacosane for chemical synthesis...</td>\n",
       "      <td>dangerous_chemical</td>\n",
       "    </tr>\n",
       "    <tr>\n",
       "      <th>6149</th>\n",
       "      <td>High-purity triacontane for chemical synthesis...</td>\n",
       "      <td>dangerous_chemical</td>\n",
       "    </tr>\n",
       "    <tr>\n",
       "      <th>6150</th>\n",
       "      <td>Concentrated dotriacontane for chemical synthe...</td>\n",
       "      <td>dangerous_chemical</td>\n",
       "    </tr>\n",
       "    <tr>\n",
       "      <th>6151</th>\n",
       "      <td>High-purity tetracontane for chemical synthesi...</td>\n",
       "      <td>dangerous_chemical</td>\n",
       "    </tr>\n",
       "  </tbody>\n",
       "</table>\n",
       "<p>4369 rows × 2 columns</p>\n",
       "</div>"
      ],
      "text/plain": [
       "                                transaction_description      sensitive_type\n",
       "0     High-speed camera system for capturing high-re...      dual_use_items\n",
       "1     Advanced navigation system designed for use in...      dual_use_items\n",
       "2     High-performance computer server for data proc...      dual_use_items\n",
       "3     Specialized software for simulating complex sy...      dual_use_items\n",
       "4     Precision-crafted mechanical components for us...      dual_use_items\n",
       "...                                                 ...                 ...\n",
       "6147  High-purity hexacosane for chemical synthesis ...  dangerous_chemical\n",
       "6148  Concentrated octacosane for chemical synthesis...  dangerous_chemical\n",
       "6149  High-purity triacontane for chemical synthesis...  dangerous_chemical\n",
       "6150  Concentrated dotriacontane for chemical synthe...  dangerous_chemical\n",
       "6151  High-purity tetracontane for chemical synthesi...  dangerous_chemical\n",
       "\n",
       "[4369 rows x 2 columns]"
      ]
     },
     "execution_count": 14,
     "metadata": {},
     "output_type": "execute_result"
    }
   ],
   "source": [
    "sensitive_df.drop_duplicates()"
   ]
  },
  {
   "cell_type": "code",
   "execution_count": 15,
   "metadata": {},
   "outputs": [],
   "source": [
    "sensitive_df = sensitive_df.drop_duplicates()"
   ]
  },
  {
   "cell_type": "code",
   "execution_count": 16,
   "metadata": {},
   "outputs": [
    {
     "data": {
      "text/plain": [
       "['sensitive_df.pkl']"
      ]
     },
     "execution_count": 16,
     "metadata": {},
     "output_type": "execute_result"
    }
   ],
   "source": [
    "import joblib\n",
    "joblib.dump(value=sensitive_df, filename=\"sensitive_df.pkl\")"
   ]
  },
  {
   "cell_type": "markdown",
   "metadata": {},
   "source": [
    "## 1.2 Generate Normal Transaction Description"
   ]
  },
  {
   "cell_type": "code",
   "execution_count": 2,
   "metadata": {},
   "outputs": [],
   "source": [
    "from pydantic import BaseModel, Field\n",
    "from typing_extensions import List\n",
    "\n",
    "\n",
    "class NormalTransactionDesc(BaseModel):\n",
    "    personal_expenses: List[str] = Field(description=\"Transaction Description for personal expenses\")\n",
    "    business_expenses: List[str] = Field(description=\"Transaction Description for business expenses\")\n",
    "    international_transfer: List[str] = Field(description=\"Transaction Description for international transfer\")\n",
    "    loan_credit: List[str] = Field(description=\"Transaction Description for loan or credit\")\n",
    "    ecommerce: List[str] = Field(description=\"Transaction Description for e-commerce\")\n"
   ]
  },
  {
   "cell_type": "code",
   "execution_count": 3,
   "metadata": {},
   "outputs": [],
   "source": [
    "basic_transaction_prompt_template = \"\"\" \n",
    "You are an expert in crafting realistic and concise descriptions for financial transactions. Your task is to generate synthetic transaction descriptions that are plausible, specific, and suitable for financial contexts. Each description should be 1-2 sentences long and clearly indicate the nature or purpose of the transaction. Below are examples of transaction types and descriptions for reference:\n",
    "\n",
    "Examples:\n",
    "\n",
    "1. Personal Expenses:\n",
    "-\"Payment for monthly subscription to a streaming service.\"\n",
    "-\"Grocery purchase at FreshMart Supermarket on Main Street.\"\n",
    "\n",
    "2. Business Transactions:\n",
    "-\"Invoice payment for Q4 software licensing renewal.\"\n",
    "-\"Procurement of office supplies from OfficeCentral.\"\n",
    "\n",
    "3. International Transfers:\n",
    "-\"Wire transfer to supplier in Germany for industrial equipment.\"\n",
    "-\"Cross-border remittance to family member in the Philippines.\"\n",
    "\n",
    "4. Loan or Credit Transactions:\n",
    "-\"Monthly repayment of auto loan to Metro Finance.\"\n",
    "-\"Disbursement of personal loan for home renovation expenses.\"\n",
    "\n",
    "5. E-commerce Purchases:\n",
    "-\"Order for electronics from TechHub Online Store.\"\n",
    "-\"Payment for handmade crafts from an online artisan marketplace.\"\n",
    "\n",
    "Your Task:\n",
    "Now, generate exactly 50 unique descriptions for each type. Ensure the descriptions cover a wide variety of scenarios, are technically accurate, and realistic within their category.\n",
    "\n",
    "\"\"\"\n",
    "\n"
   ]
  },
  {
   "cell_type": "code",
   "execution_count": 19,
   "metadata": {},
   "outputs": [],
   "source": [
    "from langchain_groq import ChatGroq\n",
    "import config\n",
    "\n",
    "\n",
    "groq_llama_3_1_70b = ChatGroq(\n",
    "    model=\"llama-3.1-70b-versatile\",\n",
    "    temperature=0.3,\n",
    "    api_key=config.GROQ_API_KEY\n",
    ")\n",
    "\n",
    "groq_llama_3_70b = ChatGroq(\n",
    "    model=\"llama3-70b-8192\", \n",
    "    temperature=0.3,\n",
    "    api_key=config.GROQ_API_KEY\n",
    ")\n",
    "\n",
    "groq_llama_3_2_90b = ChatGroq(\n",
    "    model=\"llama-3.2-90b-text-preview\",\n",
    "    temperature=0.3,\n",
    "    api_key=config.GROQ_API_KEY\n",
    ")\n",
    "\n",
    "synthetic_llm = groq_llama_3_70b\n",
    "\n",
    "structured_llm = synthetic_llm.with_structured_output(NormalTransactionDesc)\n"
   ]
  },
  {
   "cell_type": "code",
   "execution_count": 20,
   "metadata": {},
   "outputs": [
    {
     "ename": "BadRequestError",
     "evalue": "Error code: 400 - {'error': {'message': \"Failed to call a function. Please adjust your prompt. See 'failed_generation' for more details.\", 'type': 'invalid_request_error', 'code': 'tool_use_failed', 'failed_generation': '<tool-use>\\n{\\n\\t\"tool_calls\": [\\n\\t\\t{\\n\\t\\t\\t\"id\": \"pending\",\\n\\t\\t\\t\"type\": \"function\",\\n\\t\\t\\t\"function\": {\\n\\t\\t\\t\\t\"name\": \"NormalTransactionDesc\"\\n\\t\\t\\t},\\n\\t\\t\\t\"parameters\": {\\n\\t\\t\\t\\t\"personal_expenses\": [\\n\\t\\t\\t\\t\\t\"Payment for gym membership renewal.\",\\n\\t\\t\\t\\t\\t\"Subscription to online fitness classes.\",\\n\\t\\t\\t\\t\\t\"Monthly phone bill payment.\",\\n\\t\\t\\t\\t\\t\"Purchase of pet food and accessories.\",\\n\\t\\t\\t\\t\\t\"Grocery shopping at local farmer\\'s market.\",\\n\\t\\t\\t\\t\\t\"Dining out at a local restaurant.\",\\n\\t\\t\\t\\t\\t\"Monthly subscription to a music streaming service.\",\\n\\t\\t\\t\\t\\t\"Payment for home security system.\",\\n\\t\\t\\t\\t\\t\"Purchase of a new laptop for personal use.\",\\n\\t\\t\\t\\t\\t\"Monthly payment for a personal trainer.\",\\n\\t\\t\\t\\t\\t\"Subscription to a monthly book club.\",\\n\\t\\t\\t\\t\\t\"Payment for a home cleaning service.\",\\n\\t\\t\\t\\t\\t\"Purchase of a new TV for personal use.\",\\n\\t\\t\\t\\t\\t\"Monthly payment for a music lesson.\",\\n\\t\\t\\t\\t\\t\"Subscription to a monthly wine club.\",\\n\\t\\t\\t\\t\\t\"Payment for a home maintenance service.\",\\n\\t\\t\\t\\t\\t\"Purchase of a new bike for personal use.\",\\n\\t\\t\\t\\t\\t\"Monthly payment for a yoga class.\",\\n\\t\\t\\t\\t\\t\"Subscription to a monthly coffee subscription.\",\\n\\t\\t\\t\\t\\t\"Payment for a home repair service.\",\\n\\t\\t\\t\\t\\t\"Purchase of a new tablet for personal use.\",\\n\\t\\t\\t\\t\\t\"Monthly payment for a language class.\",\\n\\t\\t\\t\\t\\t\"Subscription to a monthly snack box.\",\\n\\t\\t\\t\\t\\t\"Payment for a home decoration service.\",\\n\\t\\t\\t\\t\\t\"Purchase of a new smartphone for personal use.\",\\n\\t\\t\\t\\t\\t\"Monthly payment for a dance class.\",\\n\\t\\t\\t\\t\\t\"Subscription to a monthly beauty box.\",\\n\\t\\t\\t\\t\\t\"Payment for a home landscaping service.\",\\n\\t\\t\\t\\t\\t\"Purchase of a new desktop computer for personal use.\",\\n\\t\\t\\t\\t\\t\"Monthly payment for a cooking class.\",\\n\\t\\t\\t\\t\\t\"Subscription to a monthly pet box.\",\\n\\t\\t\\t\\t\\t\"Payment for a home plumbing service.\",\\n\\t\\t\\t\\t\\t\"Purchase of a new e-reader for personal use.\",\\n\\t\\t\\t\\t\\t\"Monthly payment for a photography class.\",\\n\\t\\t\\t\\t\\t\"Subscription to a monthly outdoor gear box.\",\\n\\t\\t\\t\\t\\t\"Payment for a home electrical service.\",\\n\\t\\t\\t\\t\\t\"Purchase of a new headphone for personal use.\",\\n\\t\\t\\t\\t\\t\"Monthly payment for a painting class.\",\\n\\t\\t\\t\\t\\t\"Subscription to a monthly craft box.\",\\n\\t\\t\\t\\t\\t\"Payment for a home HVAC service.\",\\n\\t\\t\\t\\t\\t\"Purchase of a new gaming console for personal use.\",\\n\\t\\t\\t\\t\\t\"Monthly payment for a pottery class.\",\\n\\t\\t\\t\\t\\t\"Subscription to a monthly stationery box.\",\\n\\t\\t\\t\\t\\t\"Payment for a home appliance repair service.\",\\n\\t\\t\\t\\t\\t\"Purchase of a new fitness tracker for personal use.\",\\n\\t\\t\\t\\t\\t\"Monthly payment for a sewing class.\",\\n\\t\\t\\t\\t\\t\"Subscription to a monthly tea box.\",\\n\\t\\t\\t\\t\\t\"Payment for a home pest control service.\",\\n\\t\\t\\t\\t\\t\"Purchase of a new smartwatch for personal use.\",\\n\\t\\t\\t\\t\\t\"Monthly payment for a writing class.\",\\n\\t\\t\\t\\t\\t\"Subscription to a monthly spice box.\",\\n\\t\\t\\t\\t\\t\"Payment for a home remodeling service.\",\\n\\t\\t\\t\\t\\t\"Purchase of a new tablet for personal use.\",\\n\\t\\t\\t\\t\\t\"Monthly payment for a graphic design class.\",\\n\\t\\t\\t\\t\\t\"Subscription to a monthly coffee mug box.\"\\n\\t\\t\\t\\t],\\n\\t\\t\\t\\t\"business_expenses\": [\\n\\t\\t\\t\\t\\t\"Payment for office supplies and materials.\",\\n\\t\\t\\t\\t\\t\"Procurement of new office furniture.\",\\n\\t\\t\\t\\t\\t\"Invoice payment for IT consulting services.\",\\n\\t\\t\\t\\t\\t\"Purchase of new software licenses for business use.\",\\n\\t\\t\\t\\t\\t\"Payment for employee training and development.\",\\n\\t\\t\\t\\t\\t\"Procurement of new office equipment.\",\\n\\t\\t\\t\\t\\t\"Invoice payment for marketing services.\",\\n\\t\\t\\t\\t\\t\"Payment for business insurance premiums.\",\\n\\t\\t\\t\\t\\t\"Procurement of new office appliances.\",\\n\\t\\t\\t\\t\\t\"Invoice payment for a business consultant.\",\\n\\t\\t\\t\\t\\t\"Payment for employee benefits and perks.\",\\n\\t\\t\\t\\t\\t\"Procurement of new office technology.\",\\n\\t\\t\\t\\t\\t\"Invoice payment for a business lawyer.\",\\n\\t\\t\\t\\t\\t\"Payment for business travel expenses.\",\\n\\t\\t\\t\\t\\t\"Procurement of new office stationery.\",\\n\\t\\t\\t\\t\\t\"Invoice payment from a business vendor.\",\\n\\t\\t\\t\\t\\t\"Payment for business utility bills.\",\\n\\t\\t\\t\\t\\t\"Procurement of new office cleaning services.\",\\n\\t\\t\\t\\t\\t\"Invoice payment from a business partner.\",\\n\\t\\t\\t\\t\\t\"Payment for business rent and lease.\",\\n\\t\\t\\t\\t\\t\"Procurement of new office security services.\",\\n\\t\\t\\t\\t\\t\"Invoice payment from a business supplier.\",\\n\\t\\t\\t\\t\\t\"Payment for business taxes and fees.\",\\n\\t\\t\\t\\t\\t\"Procurement of new office maintenance services.\",\\n\\t\\t\\t\\t\\t\"Invoice payment from a business auditor.\",\\n\\t\\t\\t\\t\\t\"Payment for business shipping and delivery.\",\\n\\t\\t\\t\\t\\t\"Procurement of new office renovation services.\",\\n\\t\\t\\t\\t\\t\"Invoice payment from a a business broker.\",\\n\\t\\t\\t\\t\\t\"Payment for business advertising expenses.\",\\n\\t\\t\\t\\t\\t\"Procurement of new office IT services.\",\\n\\t\\t\\t\\t\\t\"Invoice payment from a business recruiter.\",\\n\\t\\t\\t\\t\\t\"Payment for business conference and event expenses.\",\\n\\t\\t\\t\\t\\t\"Procurement of new office HR services.\",\\n\\t\\t\\t\\t\\t\"Invoice payment from a business accountant.\",\\n\\t\\t\\t\\t\\t\"Payment for business software subscriptions.\",\\n\\t\\t\\t\\t\\t\"Procurement of new office administrative services.\",\\n\\t\\t\\t\\t\\t\"Invoice payment from a business financial advisor.\",\\n\\t\\t\\t\\t\\t\"Payment for business online services.\",\\n\\t\\t\\t\\t\\t\"Procurement of new office customer service.\",\\n\\t\\t\\t\\t\\t\"Invoice payment from a business consultant.\",\\n\\t\\t\\t\\t\\t\"Payment for business research and development.\",\\n\\t\\t\\t\\t\\t\"Procurement of new office logistics services.\",\\n\\t\\t\\t\\t\\t\"Invoice payment from a business tax consultant.\",\\n\\t\\t\\t\\t\\t\"Payment for business entertainment expenses.\",\\n\\t\\t\\t\\t\\t\"Procurement of new office travel services.\",\\n\\t\\t\\t\\t\\t\"Invoice payment from a business insurance broker.\",\\n\\t\\t\\t\\t\\t\"Payment for business telecommunications expenses.\",\\n\\t\\t\\t\\t\\t\"Procurement of new office energy services.\",\\n\\t\\t\\t\\t\\t\"Invoice payment from a business marketing agency.\",\\n\\t\\t\\t\\t\\t\"Payment for business vehicle expenses.\",\\n\\t\\t\\t\\t\\t\"Procurement of new office waste management services.\",\\n\\t\\t\\t\\t\\t\"Invoice payment from a business IT consultant.\",\\n\\t\\t\\t\\t\\t\"Payment for business property expenses.\",\\n\\t\\t\\t\\t\\t\"Procurement of new office facility management services.\",\\n\\t\\t\\t\\t\\t\"Invoice payment from a business operations consultant.\",\\n\\t\\t\\t\\t\\t\"Payment for business equipment expenses.\",\\n\\t\\t\\t\\t\\t\"Procurement of new office procurement services.\",\\n\\t\\t\\t\\t\\t\"Invoice payment from a business strategy consultant.\",\\n\\t\\t\\t\\t\\t\"Payment for business inventory expenses.\",\\n\\t\\t\\t\\t\\t\"Procurement of new office real estate services.\",\\n\\t\\t\\t\\t\\t\"Invoice payment from a business management consultant.\",\\n\\t\\t\\t\\t\\t\"Payment for business supply chain expenses.\",\\n\\t\\t\\t\\t\\t\"Procurement of new office retail services.\",\\n\\t\\t\\t\\t\\t\"Invoice payment from a business HR consultant.\",\\n\\t\\t\\t\\t\\t\"Payment for business logistics expenses.\",\\n\\t\\t\\t\\t\\t\"Procurement of new office sales services.\",\\n\\t\\t\\t\\t\\t\"Invoice payment from a business IT project manager.\",\\n\\t\\t\\t\\t\\t\"Payment for business transportation expenses.\",\\n\\t\\t\\t\\t\\t\"Procurement of new office customer support services.\",\\n\\t\\t\\t\\t\\t\"Invoice payment from a business financial analyst.\",\\n\\t\\t\\t\\t\\t\"Payment for business utility expenses.\",\\n\\t\\t\\t\\t\\t\"Procurement of new office accounting services.\",\\n\\t\\t\\t\\t\\t\"Invoice payment from a business operations manager.\",\\n\\t\\t\\t\\t\\t\"Payment for business maintenance expenses.\",\\n\\t\\t\\t\\t\\t\"Procurement of new office administrative support services.\",\\n\\t\\t\\t\\t\\t\"Invoice payment from a business marketing consultant.\",\\n\\t\\t\\t\\t\\t\"Payment for business repair expenses.\",\\n\\t\\t\\t\\t\\t\"Procurement of new office IT support services.\",\\n\\t\\t\\t\\t\\t\"Invoice payment from a business sales consultant.\",\\n\\t\\t\\t\\t\\t\"Payment for business shipping expenses.\",\\n\\t\\t\\t\\t\\t\"Procurement of new office human resources services.\",\\n\\t\\t\\t\\t\\t\"Invoice payment from a business customer service manager.\",\\n\\t\\t\\t\\t\\t\"Payment for business training expenses.\",\\n\\t\\t\\t\\t\\t\"Procurement of new office procurement support services.\",\\n\\t\\t\\t\\t\\t\"Invoice payment from a business IT director.\",\\n\\t\\t\\t\\t\\t\"Payment for business travel agency expenses.\",\\n\\t\\t\\t\\t\\t\"Procurement of new office retail support services.\",\\n\\t\\t\\t\\t\\t\"Invoice payment from a business financial manager.\",\\n\\t\\t\\t\\t\\t\"Payment for business conference expenses.\",\\n\\t\\t\\t\\t\\t\"Procurement of new office sales support services.\",\\n\\t\\t\\t\\t\\t\"Invoice payment from a a business CEO.\",\\n\\t\\t\\t\\t\\t\"Payment for business advertising agency expenses.\",\\n\\t\\t\\t\\t\\t\"Procurement of new office customer support representatives.\",\\n\\t\\t\\t\\t\\t\"Invoice payment from a business CFO.\",\\n\\t\\t\\t\\t\\t\"Payment for business research expenses.\",\\n\\t\\t\\t\\t\\t\"Procurement of new office IT project managers.\",\\n\\t\\t\\t\\t\\t\"Invoice payment from a business COO.\",\\n\\t\\t\\t\\t\\t\"Payment for business software development expenses.\",\\n\\t\\t\\t\\t\\t\"Procurement of new office administrative assistants.\",\\n\\t\\t\\t\\t\\t\"Invoice payment from a business CTO.\",\\n\\t\\t\\t\\t\\t\"Payment for business consulting expenses.\",\\n\\t\\t\\t\\t\\t\"Procurement of new office HR generalists.\",\\n\\t\\t\\t\\t\\t\"Invoice payment from a business CIO.\",\\n\\t\\t\\t\\t\\t\"Payment for business marketing research expenses.\",\\n\\t\\t\\t\\t\\t\"Procurement of new office procurement managers.\",\\n\\t\\t\\t\\t\\t\"Invoice payment from a business CSO.\",\\n\\t\\t\\t\\t\\t\"Payment for business telecommunications services.\",\\n\\t\\t\\t\\t\\t\"Procurement of new office logistics managers.\",\\n\\t\\t\\t\\t\\t\"Invoice payment from a business CKO.\",\\n\\t\\t\\t\\t\\t\"Payment for business vehicle maintenance expenses.\",\\n\\t\\t\\t\\t\\t\"Procurement of new office sales managers.\",\\n\\t\\t\\t\\t\\t\"Invoice payment from a business CMO.\",\\n\\t\\t\\t\\t\\t\"Payment for business property management expenses.\",\\n\\t\\t\\t\\t\\t\"Procurement of new office customer service managers.\",\\n\\t\\t\\t\\t\\t\"Invoice payment from a business CRO.\",\\n\\t\\t\\t\\t\\t\"Payment for business equipment rental expenses.\",\\n\\t\\t\\t\\t\\t\"Procurement of new office IT directors.\",\\n\\t\\t\\t\\t\\t\"Invoice payment from a business CHRO.\",\\n\\t\\t\\t\\t\\t\"Payment for business supply chain management expenses.\",\\n\\t\\t\\t\\t\\t\"Procurement of new office operations managers.\",\\n\\t\\t\\t\\t\\t\"Invoice payment from a business CCO.\",\\n\\t\\t\\t\\t\\t\"Payment for business inventory management expenses.\",\\n\\t\\t\\t\\t\\t\"Procurement of new office financial managers.\",\\n\\t\\t\\t\\t\\t\"Invoice payment from a business CEO.\",\\n\\t\\t\\t\\t\\t\"Payment for business logistics management expenses.\",\\n\\t\\t\\t\\t\\t\"Procurement of new office procurement directors.\",\\n\\t\\t\\t\\t\\t\"Invoice payment from a business CFO.\",\\n\\t\\t\\t\\t\\t\"Payment for business transportation management expenses.\",\\n\\t\\t\\t\\t\\t\"Procurement of new office sales directors.\",\\n\\t\\t\\t\\t\\t\"Invoice payment from a business COO.\",\\n\\t\\t\\t\\t\\t\"Payment for business utility management expenses.\",\\n\\t\\t\\t\\t\\t\"Procurement of new office customer service directors.\",\\n\\t\\t\\t\\t\\t\"Invoice payment from a business CTO.\",\\n\\t\\t\\t\\t\\t\"Payment for business maintenance management expenses.\",\\n\\t\\t\\t\\t\\t\"Procurement of new office IT directors.\",\\n\\t\\t\\t\\t\\t\"Invoice payment from a business CIO.\",\\n\\t\\t\\t\\t\\t\"Payment for business repair management expenses.\",\\n\\t\\t\\t\\t\\t\"Procurement of new office operations directors.\",\\n\\t\\t\\t\\t\\t\"Invoice payment from a business CSO.\",\\n\\t\\t\\t\\t\\t\"Payment for business shipping management expenses.\",\\n\\t\\t\\t\\t\\t\"Procurement of new office financial directors.\",\\n\\t\\t\\t\\t\\t\"Invoice payment from a business CKO.\",\\n\\t\\t\\t\\t\\t\"Payment for business telecommunications management expenses.\",\\n\\t\\t\\t\\t\\t\"Procurement of new office logistics directors.\",\\n\\t\\t\\t\\t\\t\"Invoice payment from a business CMO.\",\\n\\t\\t\\t\\t\\t\"Payment for business vehicle management expenses.\",\\n\\t\\t\\t\\t\\t\"Procurement of new office sales directors.\",\\n\\t\\t\\t\\t\\t\"Invoice payment from a business CRO.\",\\n\\t\\t\\t\\t\\t\"Payment for business property management expenses.\",\\n\\t\\t\\t\\t\\t\"Procurement of new office customer service directors.\",\\n\\t\\t\\t\\t\\t\"Invoice payment from a business CHRO.\",\\n\\t\\t\\t\\t\\t\"Payment for business equipment management expenses.\",\\n\\t\\t\\t\\t\\t\"Procurement of new office IT directors.\",\\n\\t\\t\\t\\t\\t\"Invoice payment from a business CCO.\",\\n\\t\\t\\t\\t\\t\"Payment for business supply chain management expenses.\",\\n\\t\\t\\t\\t\\t\"Procurement of new office operations directors.\",\\n\\t\\t\\t\\t\\t\"Invoice payment from a business CEO.\",\\n\\t\\t\\t\\t\\t\"Payment for business inventory management expenses.\",\\n\\t\\t\\t\\t\\t\"Procurement of new office financial directors.\",\\n\\t\\t\\t\\t\\t\"Invoice payment from a business CFO.\",\\n\\t\\t\\t\\t\\t\"Payment for business logistics management expenses.\",\\n\\t\\t\\t\\t\\t\"Procurement of new office procurement directors.\",\\n\\t\\t\\t\\t\\t\"Invoice payment from a business COO.\",\\n\\t\\t\\t\\t\\t\"Payment for business transportation management expenses.\",\\n\\t\\t\\t\\t\\t\"Procurement of new office sales directors.\",\\n\\t\\t\\t\\t\\t\"Invoice payment from a business CTO.\",\\n\\t\\t\\t\\t\\t\"Payment for business utility management expenses.\",\\n\\t\\t\\t\\t\\t\"Procurement of new office customer service directors.\",\\n\\t\\t\\t\\t\\t\"Invoice payment from a business CIO.\",\\n\\t\\t\\t\\t\\t\"Payment for business maintenance management expenses.\",\\n\\t\\t\\t\\t\\t\"Procurement of new office IT directors.\",\\n\\t\\t\\t\\t\\t\"Invoice payment from a business CSO.\",\\n\\t\\t\\t\\t\\t\"Payment for business shipping management expenses.\",\\n\\t\\t\\t\\t\\t\"Procurement of new office operations directors.\",\\n\\t\\t\\t\\t\\t\"Invoice payment from a business CKO.\",\\n\\t\\t\\t\\t\\t\"Payment for business telecommunications management expenses.\",\\n\\t\\t\\t\\t\\t\"Procurement of new office logistics directors.\",\\n\\t\\t\\t\\t\\t\"Invoice payment from a business CMO.\",\\n\\t\\t\\t\\t\\t\"Payment for business vehicle management expenses.\",\\n\\t\\t\\t\\t\\t\"Procurement of new office sales directors.\",\\n\\t\\t\\t\\t\\t\"Invoice payment from a business CRO.\",\\n\\t\\t\\t\\t\\t\"Payment for business property management expenses.\",\\n\\t\\t\\t\\t\\t\"Procurement of new office customer service directors.\",\\n\\t\\t\\t\\t\\t\"Invoice payment from a business CHRO.\",\\n\\t\\t\\t\\t\\t\"Payment for business equipment management expenses.\",\\n\\t\\t\\t\\t\\t\"Procurement of new office IT directors.\",\\n\\t\\t\\t\\t\\t\"Invoice payment from a business CCO.\",\\n\\t\\t\\t\\t\\t\"Payment for business supply chain management expenses.\",\\n\\t\\t\\t\\t\\t\"Procurement of new office operations directors.\",\\n\\t\\t\\t\\t\\t\"Invoice payment from a business CEO.\",\\n\\t\\t\\t\\t\\t\"Payment for business inventory management expenses.\",\\n\\t\\t\\t\\t\\t\"Procurement of new office financial directors.\",\\n\\t\\t\\t\\t\\t\"Invoice payment from a business CFO.\",\\n\\t\\t\\t\\t\\t\"Payment for business logistics management expenses.\",\\n\\t\\t\\t\\t\\t\"Procurement of new office procurement directors.\",\\n\\t\\t\\t\\t\\t\"Invoice payment from a business COO.\",\\n\\t\\t\\t\\t\\t\"Payment for business transportation management expenses.\",\\n\\t\\t\\t\\t\\t\"Procurement of new office sales directors.\",\\n\\t\\t\\t\\t\\t\"Invoice payment from a business CTO.\",\\n\\t\\t\\t\\t\\t\"Payment for business utility management expenses.\",\\n\\t\\t\\t\\t\\t\"Procurement of new office customer service directors.\",\\n\\t\\t\\t\\t\\t\"Invoice payment from a business CIO.\",\\n\\t\\t\\t\\t\\t\"Payment for business maintenance management expenses.\",\\n\\t\\t\\t\\t\\t\"Procurement of new office IT directors.\",\\n\\t\\t\\t\\t\\t\"Invoice payment from a business CSO.\",\\n\\t\\t\\t\\t\\t\"Payment for business shipping management expenses.\",\\n\\t\\t\\t\\t\\t\"Procurement of new office operations directors.\",\\n\\t\\t\\t\\t\\t\"Invoice payment from a business CKO.\",\\n\\t\\t\\t\\t\\t\"Payment for business telecommunications management expenses.\",\\n\\t\\t\\t\\t\\t\"Procurement of new office logistics directors.\",\\n\\t\\t\\t\\t\\t\"Invoice payment from a business CMO.\",\\n\\t\\t\\t\\t\\t\"Payment for business vehicle management expenses.\",\\n\\t\\t\\t\\t\\t\"Procurement of new office sales directors.\",\\n\\t\\t\\t\\t\\t\"Invoice payment from a business CRO.\",\\n\\t\\t\\t\\t\\t\"Payment for business property management expenses.\",\\n\\t\\t\\t\\t\\t\"Procurement of new office customer service directors.\",\\n\\t\\t\\t\\t\\t\"Invoice payment from a business CHRO.\",\\n\\t\\t\\t\\t\\t\"Payment for business equipment management expenses.\",\\n\\t\\t\\t\\t\\t\"Procurement of new office IT directors.\",\\n\\t\\t\\t\\t\\t\"Invoice payment from a business CCO.\",\\n\\t\\t\\t\\t\\t\"Payment for business supply chain management expenses.\",\\n\\t\\t\\t\\t\\t\"Procurement of new office operations directors.\",\\n\\t\\t\\t\\t\\t\"Invoice payment from a business CEO.\",\\n\\t\\t\\t\\t\\t\"Payment for business inventory management expenses.\",\\n\\t\\t\\t\\t\\t\"Procurement of new office financial directors.\",\\n\\t\\t\\t\\t\\t\"Invoice payment from a business CFO.\",\\n\\t\\t\\t\\t\\t\"Payment for business logistics management expenses.\",\\n\\t\\t\\t\\t\\t\"Procurement of new office procurement directors.\",\\n\\t\\t\\t\\t\\t\"Invoice payment from a business COO.\",\\n\\t\\t\\t\\t\\t\"Payment for business transportation management expenses.\",\\n\\t\\t\\t\\t\\t\"Procurement of new office sales directors.\",\\n\\t\\t\\t\\t\\t\"Invoice payment from a business CTO.\",\\n\\t\\t\\t\\t\\t\"Payment for business utility management expenses.\",\\n\\t\\t\\t\\t\\t\"Procurement of new office customer service directors.\",\\n\\t\\t\\t\\t\\t\"Invoice payment from a business CIO.\",\\n\\t\\t\\t\\t\\t\"Payment for business maintenance management expenses.\",\\n\\t\\t\\t\\t\\t\"Procurement of new office IT directors.\",\\n\\t\\t\\t\\t\\t\"Invoice payment from a business CSO.\",\\n\\t\\t\\t\\t\\t\"Payment for business shipping management expenses.\",\\n\\t\\t\\t\\t\\t\"Procurement of new office operations directors.\",\\n\\t\\t\\t\\t\\t\"Invoice payment from a business CKO.\",\\n\\t\\t\\t\\t\\t\"Payment for business telecommunications management expenses.\",\\n\\t\\t\\t\\t\\t\"Procurement of new office logistics directors.\",\\n\\t\\t\\t\\t\\t\"Invoice payment from a a business CMO.\",\\n\\t\\t\\t\\t\\t\"Payment for business vehicle management expenses.\",\\n\\t\\t\\t\\t\\t\"Procurement of new office sales directors.\",\\n\\t\\t\\t\\t\\t\"Invoice payment from a a business CRO.\",\\n\\t\\t\\t\\t\\t\"Payment for business property management expenses.\",\\n\\t\\t\\t\\t\\t\"Procurement of new office customer service directors.\",\\n\\t\\t\\t\\t\\t\"Invoice payment from a a business CHRO.\",\\n\\t\\t\\t\\t\\t\"Payment for business equipment management expenses.\",\\n\\t\\t\\t\\t\\t\"Procurement of new office IT directors.\",\\n\\t\\t\\t\\t\\t\"Invoice payment from a a business CCO.\",\\n\\t\\t\\t\\t\\t\"Payment for business supply chain management expenses.\",\\n\\t\\t\\t\\t\\t\"Procurement of new office operations directors.\",\\n\\t\\t\\t\\t\\t\"Invoice payment from a a business CEO.\",\\n\\t\\t\\t\\t\\t\"Payment for business inventory management expenses.\",\\n\\t\\t\\t\\t\\t\"Procurement of new office financial directors.\",\\n\\t\\t\\t\\t\\t\"Invoice payment from a a business CFO.\",\\n\\t\\t\\t\\t\\t\"Payment for business logistics management expenses.\",\\n\\t\\t\\t\\t\\t\"Procurement of new office procurement directors.\",\\n\\t\\t\\t\\t\\t\"Invoice payment from a a business COO.\",\\n\\t\\t\\t\\t\\t\"Payment for business transportation management expenses.\",\\n\\t\\t\\t\\t\\t\"Procurement of new office sales directors.\",\\n\\t\\t\\t\\t\\t\"Invoice payment from a a business CTO.\",\\n\\t\\t\\t\\t\\t\"Payment for business utility management expenses.\",\\n\\t\\t\\t\\t\\t\"Procurement of new office customer service directors.\",\\n\\t\\t\\t\\t\\t\"Invoice payment from a a business CIO.\",\\n\\t\\t\\t\\t\\t\"Payment for business maintenance management expenses.\",\\n\\t\\t\\t\\t\\t\"Procurement of new office IT directors.\",\\n\\t\\t\\t\\t\\t\"Invoice payment from a a business CSO.\",\\n\\t\\t\\t\\t\\t\"Payment for business shipping management expenses.\",\\n\\t\\t\\t\\t\\t\"Procurement of new office operations directors.\",\\n\\t\\t\\t\\t\\t\"Invoice payment from a a business CKO.\",\\n\\t\\t\\t\\t\\t\"Payment for business telecommunications management expenses.\",\\n\\t\\t\\t\\t\\t\"Procurement of new office logistics directors.\",\\n\\t\\t\\t\\t\\t\"Invoice payment from a a business CMO.\",\\n\\t\\t\\t\\t\\t\"Payment for business vehicle management expenses.\",\\n\\t\\t\\t\\t\\t\"Procurement of new office sales directors.\",\\n\\t\\t\\t\\t\\t\"Invoice payment from a a business CRO.\",\\n\\t\\t\\t\\t\\t\"Payment for business property management expenses.\",\\n\\t\\t\\t\\t\\t\"Procurement of new office customer service directors.\",\\n\\t\\t\\t\\t\\t\"Invoice payment from a a business CHRO.\",\\n\\t\\t\\t\\t\\t\"Payment for business equipment management expenses.\",\\n\\t\\t\\t\\t\\t\"Procurement of new office IT directors.\",\\n\\t\\t\\t\\t\\t\"Invoice payment from a a business CCO.\",\\n\\t\\t\\t\\t\\t\"Payment for business supply chain management expenses.\",\\n\\t\\t\\t\\t\\t\"Procurement of new office operations directors.\",\\n\\t\\t\\t\\t\\t\"Invoice payment from a a business CEO.\",\\n\\t\\t\\t\\t\\t\"Payment for business inventory management expenses.\",\\n\\t\\t\\t\\t\\t\"Procurement of new office financial directors.\",\\n\\t\\t\\t\\t\\t\"Invoice payment from a a business CFO.\",\\n\\t\\t\\t\\t\\t\"Payment for business logistics management expenses.\",\\n\\t\\t\\t\\t\\t\"Procurement of new office procurement directors.\",\\n\\t\\t\\t\\t\\t\"Invoice payment from a a business COO.\",\\n\\t\\t\\t\\t\\t\"Payment for business transportation management expenses.\",\\n\\t\\t\\t\\t\\t\"Procurement of new office sales directors.\",\\n\\t\\t\\t\\t\\t\"Invoice payment from a a business CTO.\",\\n\\t\\t\\t\\t\\t\"Payment for business utility management expenses.\",\\n\\t\\t\\t\\t\\t\"Procurement of new office customer service directors.\",\\n\\t\\t\\t\\t\\t\"Invoice payment from a a business CIO.\",\\n\\t\\t\\t\\t\\t\"Payment for business maintenance management expenses.\",\\n\\t\\t\\t\\t\\t\"Procurement of new office IT directors.\",\\n\\t\\t\\t\\t\\t\"Invoice payment from a a business CSO.\",\\n\\t\\t\\t\\t\\t\"Payment for business shipping management expenses.\",\\n\\t\\t\\t\\t\\t\"Procurement of new office operations directors.\",\\n\\t\\t\\t\\t\\t\"Invoice payment from a a business CKO.\",\\n\\t\\t\\t\\t\\t\"Payment for business telecommunications management expenses.\",\\n\\t\\t\\t\\t\\t\"Procurement of new office logistics directors.\",\\n\\t\\t\\t\\t\\t\"Invoice payment from a a business CMO.\",\\n\\t\\t\\t\\t\\t\"Payment for business vehicle management expenses.\",\\n\\t\\t\\t\\t\\t\"Procurement of new office sales directors.\",\\n\\t\\t\\t\\t\\t\"Invoice payment from a a business CRO.\",\\n\\t\\t\\t\\t\\t\"Payment for business property management expenses.\",\\n\\t\\t\\t\\t\\t\"Procurement of new office customer service directors.\",\\n\\t\\t\\t\\t\\t\"Invoice payment from a a business CHRO.\",\\n\\t\\t\\t\\t\\t\"Payment for business equipment management expenses.\",\\n\\t\\t\\t\\t\\t\"Procurement of new office IT directors.\",\\n\\t\\t\\t\\t\\t\"Invoice payment from a a business CCO.\",\\n\\t\\t\\t\\t\\t\"Payment for business supply chain management expenses.\",\\n\\t\\t\\t\\t\\t\"Procurement of new office operations directors.\",\\n\\t\\t\\t\\t\\t\"Invoice payment from a a business CEO.\",\\n\\t\\t\\t\\t\\t\"Payment for business inventory management expenses.\",\\n\\t\\t\\t\\t\\t\"Procurement of new office financial directors.\",\\n\\t\\t\\t\\t\\t\"Invoice payment from a a business CFO.\",\\n\\t\\t\\t\\t\\t\"Payment for business logistics management expenses.\",\\n\\t\\t\\t\\t\\t\"Procurement of new office procurement directors.\",\\n\\t\\t\\t\\t\\t\"Invoice payment from a a business COO.\",\\n\\t\\t\\t\\t\\t\"Payment for business transportation management expenses.\",\\n\\t\\t\\t\\t\\t\"Procurement of new office sales directors.\",\\n\\t\\t\\t\\t\\t\"Invoice payment from a a business CTO.\",\\n\\t\\t\\t\\t\\t\"Payment for business utility management expenses.\",\\n\\t\\t\\t\\t\\t\"Procurement of new office customer service directors.\",\\n\\t\\t\\t\\t\\t\"Invoice payment from a a business CIO.\",\\n\\t\\t\\t\\t\\t\"Payment for business maintenance management expenses.\",\\n\\t\\t\\t\\t\\t\"Procurement of new office IT directors.\",\\n\\t\\t\\t\\t\\t\"Invoice payment from a a business CSO.\",\\n\\t\\t\\t\\t\\t\"Payment for business shipping management expenses.\",\\n\\t\\t\\t\\t\\t\"Procurement of new office operations directors.\",\\n\\t\\t\\t\\t\\t\"Invoice payment from a a business CKO.\",\\n\\t\\t\\t\\t\\t\"Payment for business telecommunications management expenses.\",\\n\\t\\t\\t\\t\\t\"Procurement of new office logistics directors.\",\\n\\t\\t\\t\\t\\t\"Invoice payment from a a business CMO.\",\\n\\t\\t\\t\\t\\t\"Payment for business vehicle management expenses.\",\\n\\t\\t\\t\\t\\t\"Procurement of new office sales directors.\",\\n\\t\\t\\t\\t\\t\"Invoice payment from a a business CRO.\",\\n\\t\\t\\t\\t\\t\"Payment for business property management expenses.\",\\n\\t\\t\\t\\t\\t\"Procurement of new office customer service directors.\",\\n\\t\\t\\t\\t\\t\"Invoice payment from a a business CHRO.\",\\n\\t\\t\\t\\t\\t\"Payment for business equipment management expenses.\",\\n\\t\\t\\t\\t\\t\"Procurement of new office IT directors.\",\\n\\t\\t\\t\\t\\t\"Invoice payment from a a business CCO.\",\\n\\t\\t\\t\\t\\t\"Payment for business supply chain management expenses.\",\\n\\t\\t\\t\\t\\t\"Procurement of new office operations directors.\",\\n\\t\\t\\t\\t\\t\"Invoice payment from a a business CEO.\",\\n\\t\\t\\t\\t\\t\"Payment for business inventory management expenses.\",\\n\\t\\t\\t\\t\\t\"Procurement of new office financial directors.\",\\n\\t\\t\\t\\t\\t\"Invoice payment from a a business CFO.\",\\n\\t\\t\\t\\t\\t\"Payment for business logistics management expenses.\",\\n\\t\\t\\t\\t\\t\"Procurement of new office procurement directors.\",\\n\\t\\t\\t\\t\\t\"Invoice payment from a a business COO.\",\\n\\t\\t\\t\\t\\t\"Payment for business transportation management expenses.\",\\n\\t\\t\\t\\t\\t\"Procurement of new office sales directors.\",\\n\\t\\t\\t\\t\\t\"Invoice payment from a a business CTO.\",\\n\\t\\t\\t\\t\\t\"Payment for business utility management expenses.\",\\n\\t\\t\\t\\t\\t\"Procurement of new office customer service directors.\",\\n\\t\\t\\t\\t\\t\"Invoice payment from a a business CIO.\",\\n\\t\\t\\t\\t\\t\"Payment for business maintenance management expenses.\",\\n\\t\\t\\t\\t\\t\"Procurement of new office IT directors.\",\\n\\t\\t\\t\\t\\t\"Invoice payment from a a business CSO.\",\\n\\t\\t\\t\\t\\t\"Payment for business shipping management expenses.\",\\n\\t\\t\\t\\t\\t\"Procurement of new office operations directors.\",\\n\\t\\t\\t\\t\\t\"Invoice payment from a a business CKO.\",\\n\\t\\t\\t\\t\\t\"Payment for business telecommunications management expenses.\",\\n\\t\\t\\t\\t\\t\"Procurement of new office logistics directors.\",\\n\\t\\t\\t\\t\\t\"Invoice payment from a a business CMO.\",\\n\\t\\t\\t\\t\\t\"Payment for business vehicle management expenses.\",\\n\\t\\t\\t\\t\\t\"Procurement of new office sales directors.\",\\n\\t\\t\\t\\t\\t\"Invoice payment from a a business CRO.\",\\n\\t\\t\\t\\t\\t\"Payment for business property management expenses.\",\\n\\t\\t\\t\\t\\t\"Procurement of new office customer service directors.\",\\n\\t\\t\\t\\t\\t\"Invoice payment from a a business CHRO.\",\\n\\t\\t\\t\\t\\t\"Payment for business equipment management expenses.\",\\n\\t\\t\\t\\t\\t\"Procurement of new office IT directors.\",\\n\\t\\t\\t\\t\\t\"Invoice payment from a a business CCO.\",\\n\\t\\t\\t\\t\\t\"Payment for business supply chain management expenses.\",\\n\\t\\t\\t\\t\\t\"Procurement of new office operations directors.\",\\n\\t\\t\\t\\t\\t\"Invoice payment from a a business CEO.\",\\n\\t\\t\\t\\t\\t\"Payment for business inventory management expenses.\",\\n\\t\\t\\t\\t\\t\"Procurement of new office financial directors.\",\\n\\t\\t\\t\\t\\t\"Invoice payment from a a business CFO.\",\\n\\t\\t\\t\\t\\t\"Payment for business logistics management expenses.\",\\n\\t\\t\\t\\t\\t\"Procurement of new office procurement directors.\",\\n\\t\\t\\t\\t\\t\"Invoice payment from a a business COO.\",\\n\\t\\t\\t\\t\\t\"Payment for business transportation management expenses.\",\\n\\t\\t\\t\\t\\t\"Procurement of new office sales directors.\",\\n\\t\\t\\t\\t\\t\"Invoice payment from a a business CTO.\",\\n\\t\\t\\t\\t\\t\"Payment for business utility management expenses.\",\\n\\t\\t\\t\\t\\t\"Procurement of new office customer service directors.\",\\n\\t\\t\\t\\t\\t\"Invoice payment from a a business CIO.\",\\n\\t\\t\\t\\t\\t\"Payment for business maintenance management expenses.\",\\n\\t\\t\\t\\t\\t\"Procurement of new office IT directors.\",\\n\\t\\t\\t\\t\\t\"Invoice payment from a a business CSO.\",\\n\\t\\t\\t\\t\\t\"Payment for business shipping management expenses.\",\\n\\t\\t\\t\\t\\t\"Procurement of new office operations directors.\",\\n\\t\\t\\t\\t\\t\"Invoice payment from a a business CKO.\",\\n\\t\\t\\t\\t\\t\"Payment for business telecommunications management expenses.\",\\n\\t\\t\\t\\t\\t\"Procurement of new office logistics directors.\",\\n\\t\\t\\t\\t\\t\"Invoice payment from a a business CMO.\",\\n\\t\\t\\t\\t\\t\"Payment for business vehicle management expenses.\",\\n\\t\\t\\t\\t\\t\"Procurement of new office sales directors.\",\\n\\t\\t\\t\\t\\t\"Invoice payment from a a business CRO.\",\\n\\t\\t\\t\\t\\t\"Payment for business property management expenses.\",\\n\\t\\t\\t\\t\\t\"Procurement of new office customer service directors.\",\\n\\t\\t\\t\\t\\t\"Invoice payment from a a business CHRO.\",\\n\\t\\t\\t\\t\\t\"Payment for business equipment management expenses.\",\\n\\t\\t\\t\\t\\t\"Procurement of new office IT directors.\",\\n\\t\\t\\t\\t\\t\"Invoice payment from a a business CCO.\",\\n\\t\\t\\t\\t\\t\"Payment for business supply chain management expenses.\",\\n\\t\\t\\t\\t\\t\"Procurement of new office operations directors.\",\\n\\t\\t\\t\\t\\t\"Invoice payment from a a business CEO.\",\\n\\t\\t\\t\\t\\t\"Payment for business inventory management expenses.\",\\n\\t\\t\\t\\t\\t\"Procurement of new office financial directors.\",\\n\\t\\t\\t\\t\\t\"Invoice payment from a a business CFO.\",\\n\\t\\t\\t\\t\\t\"Payment for business logistics management expenses.\",\\n\\t\\t\\t\\t\\t\"Procurement of new office procurement directors.\",\\n\\t\\t\\t\\t\\t\"Invoice payment from a a business COO.\",\\n\\t\\t\\t\\t\\t\"Payment for business transportation management expenses.\",\\n\\t\\t\\t\\t\\t\"Procurement of new office sales directors.\",\\n\\t\\t\\t\\t\\t\"Invoice payment from a a business CTO.\",\\n\\t\\t\\t\\t\\t\"Payment for business utility management expenses.\",\\n\\t\\t\\t\\t\\t\"Procurement of new office customer service directors.\",\\n\\t\\t\\t\\t\\t\"Invoice payment from a a business CIO.\",\\n\\t\\t\\t\\t\\t\"Payment for business maintenance management expenses.\",\\n\\t\\t\\t\\t\\t\"Procurement of new office IT directors.\",\\n\\t\\t\\t\\t\\t\"Invoice payment from a a business CSO.\",\\n\\t\\t\\t\\t\\t\"Payment for business shipping management expenses.\",\\n\\t\\t\\t\\t\\t\"Procurement of new office operations directors.\",\\n\\t\\t\\t\\t\\t\"Invoice payment from a a business CKO.\",\\n\\t\\t\\t\\t\\t\"Payment for business telecommunications management expenses.\",\\n\\t\\t\\t\\t\\t\"Procurement of new office logistics directors.\",\\n\\t\\t\\t\\t\\t\"Invoice payment from a a business CMO.\",\\n\\t\\t\\t\\t\\t\"Payment for business vehicle management expenses.\",\\n\\t\\t\\t\\t\\t\"Procurement of new office sales directors.\",\\n\\t\\t\\t\\t\\t\"Invoice payment from a a business CRO.\",\\n\\t\\t\\t\\t\\t\"Payment for business property management expenses.\",\\n\\t\\t\\t\\t\\t\"Procurement of new office customer service directors.\",\\n\\t\\t\\t\\t\\t\"Invoice payment from a a business CHRO.\",\\n\\t\\t\\t\\t\\t\"Payment for business equipment management expenses.\",\\n\\t\\t\\t\\t\\t\"Procurement of new office IT directors.\",\\n\\t\\t\\t\\t\\t\"Invoice payment from a a business CCO.\",\\n\\t\\t\\t\\t\\t\"Payment for business supply chain management expenses.\",\\n\\t\\t\\t\\t\\t\"Procurement of new office operations directors.\",\\n\\t\\t\\t\\t\\t\"Invoice payment from a a business CEO.\",\\n\\t\\t\\t\\t\\t\"Payment for business inventory management expenses.\",\\n\\t\\t\\t\\t\\t\"Procurement of new office financial directors.\",\\n\\t\\t\\t\\t\\t\"Invoice payment from a a business CFO.\",\\n\\t\\t\\t\\t\\t\"Payment for business logistics management expenses.\",\\n\\t\\t\\t\\t\\t\"Procurement of new office procurement directors.\",\\n\\t\\t\\t\\t\\t\"Invoice payment from a a business COO.\",\\n\\t\\t\\t\\t\\t\"Payment for'}}",
     "output_type": "error",
     "traceback": [
      "\u001b[1;31m---------------------------------------------------------------------------\u001b[0m",
      "\u001b[1;31mBadRequestError\u001b[0m                           Traceback (most recent call last)",
      "Cell \u001b[1;32mIn[20], line 1\u001b[0m\n\u001b[1;32m----> 1\u001b[0m result \u001b[38;5;241m=\u001b[39m structured_llm\u001b[38;5;241m.\u001b[39minvoke(basic_transaction_prompt_template)\n",
      "File \u001b[1;32mc:\\Users\\jthxc\\anaconda3\\envs\\jaredllm\\Lib\\site-packages\\langchain_core\\runnables\\base.py:3022\u001b[0m, in \u001b[0;36mRunnableSequence.invoke\u001b[1;34m(self, input, config, **kwargs)\u001b[0m\n\u001b[0;32m   3020\u001b[0m context\u001b[38;5;241m.\u001b[39mrun(_set_config_context, config)\n\u001b[0;32m   3021\u001b[0m \u001b[38;5;28;01mif\u001b[39;00m i \u001b[38;5;241m==\u001b[39m \u001b[38;5;241m0\u001b[39m:\n\u001b[1;32m-> 3022\u001b[0m     \u001b[38;5;28minput\u001b[39m \u001b[38;5;241m=\u001b[39m context\u001b[38;5;241m.\u001b[39mrun(step\u001b[38;5;241m.\u001b[39minvoke, \u001b[38;5;28minput\u001b[39m, config, \u001b[38;5;241m*\u001b[39m\u001b[38;5;241m*\u001b[39mkwargs)\n\u001b[0;32m   3023\u001b[0m \u001b[38;5;28;01melse\u001b[39;00m:\n\u001b[0;32m   3024\u001b[0m     \u001b[38;5;28minput\u001b[39m \u001b[38;5;241m=\u001b[39m context\u001b[38;5;241m.\u001b[39mrun(step\u001b[38;5;241m.\u001b[39minvoke, \u001b[38;5;28minput\u001b[39m, config)\n",
      "File \u001b[1;32mc:\\Users\\jthxc\\anaconda3\\envs\\jaredllm\\Lib\\site-packages\\langchain_core\\runnables\\base.py:5354\u001b[0m, in \u001b[0;36mRunnableBindingBase.invoke\u001b[1;34m(self, input, config, **kwargs)\u001b[0m\n\u001b[0;32m   5348\u001b[0m \u001b[38;5;28;01mdef\u001b[39;00m \u001b[38;5;21minvoke\u001b[39m(\n\u001b[0;32m   5349\u001b[0m     \u001b[38;5;28mself\u001b[39m,\n\u001b[0;32m   5350\u001b[0m     \u001b[38;5;28minput\u001b[39m: Input,\n\u001b[0;32m   5351\u001b[0m     config: Optional[RunnableConfig] \u001b[38;5;241m=\u001b[39m \u001b[38;5;28;01mNone\u001b[39;00m,\n\u001b[0;32m   5352\u001b[0m     \u001b[38;5;241m*\u001b[39m\u001b[38;5;241m*\u001b[39mkwargs: Optional[Any],\n\u001b[0;32m   5353\u001b[0m ) \u001b[38;5;241m-\u001b[39m\u001b[38;5;241m>\u001b[39m Output:\n\u001b[1;32m-> 5354\u001b[0m     \u001b[38;5;28;01mreturn\u001b[39;00m \u001b[38;5;28mself\u001b[39m\u001b[38;5;241m.\u001b[39mbound\u001b[38;5;241m.\u001b[39minvoke(\n\u001b[0;32m   5355\u001b[0m         \u001b[38;5;28minput\u001b[39m,\n\u001b[0;32m   5356\u001b[0m         \u001b[38;5;28mself\u001b[39m\u001b[38;5;241m.\u001b[39m_merge_configs(config),\n\u001b[0;32m   5357\u001b[0m         \u001b[38;5;241m*\u001b[39m\u001b[38;5;241m*\u001b[39m{\u001b[38;5;241m*\u001b[39m\u001b[38;5;241m*\u001b[39m\u001b[38;5;28mself\u001b[39m\u001b[38;5;241m.\u001b[39mkwargs, \u001b[38;5;241m*\u001b[39m\u001b[38;5;241m*\u001b[39mkwargs},\n\u001b[0;32m   5358\u001b[0m     )\n",
      "File \u001b[1;32mc:\\Users\\jthxc\\anaconda3\\envs\\jaredllm\\Lib\\site-packages\\langchain_core\\language_models\\chat_models.py:286\u001b[0m, in \u001b[0;36mBaseChatModel.invoke\u001b[1;34m(self, input, config, stop, **kwargs)\u001b[0m\n\u001b[0;32m    275\u001b[0m \u001b[38;5;28;01mdef\u001b[39;00m \u001b[38;5;21minvoke\u001b[39m(\n\u001b[0;32m    276\u001b[0m     \u001b[38;5;28mself\u001b[39m,\n\u001b[0;32m    277\u001b[0m     \u001b[38;5;28minput\u001b[39m: LanguageModelInput,\n\u001b[1;32m   (...)\u001b[0m\n\u001b[0;32m    281\u001b[0m     \u001b[38;5;241m*\u001b[39m\u001b[38;5;241m*\u001b[39mkwargs: Any,\n\u001b[0;32m    282\u001b[0m ) \u001b[38;5;241m-\u001b[39m\u001b[38;5;241m>\u001b[39m BaseMessage:\n\u001b[0;32m    283\u001b[0m     config \u001b[38;5;241m=\u001b[39m ensure_config(config)\n\u001b[0;32m    284\u001b[0m     \u001b[38;5;28;01mreturn\u001b[39;00m cast(\n\u001b[0;32m    285\u001b[0m         ChatGeneration,\n\u001b[1;32m--> 286\u001b[0m         \u001b[38;5;28mself\u001b[39m\u001b[38;5;241m.\u001b[39mgenerate_prompt(\n\u001b[0;32m    287\u001b[0m             [\u001b[38;5;28mself\u001b[39m\u001b[38;5;241m.\u001b[39m_convert_input(\u001b[38;5;28minput\u001b[39m)],\n\u001b[0;32m    288\u001b[0m             stop\u001b[38;5;241m=\u001b[39mstop,\n\u001b[0;32m    289\u001b[0m             callbacks\u001b[38;5;241m=\u001b[39mconfig\u001b[38;5;241m.\u001b[39mget(\u001b[38;5;124m\"\u001b[39m\u001b[38;5;124mcallbacks\u001b[39m\u001b[38;5;124m\"\u001b[39m),\n\u001b[0;32m    290\u001b[0m             tags\u001b[38;5;241m=\u001b[39mconfig\u001b[38;5;241m.\u001b[39mget(\u001b[38;5;124m\"\u001b[39m\u001b[38;5;124mtags\u001b[39m\u001b[38;5;124m\"\u001b[39m),\n\u001b[0;32m    291\u001b[0m             metadata\u001b[38;5;241m=\u001b[39mconfig\u001b[38;5;241m.\u001b[39mget(\u001b[38;5;124m\"\u001b[39m\u001b[38;5;124mmetadata\u001b[39m\u001b[38;5;124m\"\u001b[39m),\n\u001b[0;32m    292\u001b[0m             run_name\u001b[38;5;241m=\u001b[39mconfig\u001b[38;5;241m.\u001b[39mget(\u001b[38;5;124m\"\u001b[39m\u001b[38;5;124mrun_name\u001b[39m\u001b[38;5;124m\"\u001b[39m),\n\u001b[0;32m    293\u001b[0m             run_id\u001b[38;5;241m=\u001b[39mconfig\u001b[38;5;241m.\u001b[39mpop(\u001b[38;5;124m\"\u001b[39m\u001b[38;5;124mrun_id\u001b[39m\u001b[38;5;124m\"\u001b[39m, \u001b[38;5;28;01mNone\u001b[39;00m),\n\u001b[0;32m    294\u001b[0m             \u001b[38;5;241m*\u001b[39m\u001b[38;5;241m*\u001b[39mkwargs,\n\u001b[0;32m    295\u001b[0m         )\u001b[38;5;241m.\u001b[39mgenerations[\u001b[38;5;241m0\u001b[39m][\u001b[38;5;241m0\u001b[39m],\n\u001b[0;32m    296\u001b[0m     )\u001b[38;5;241m.\u001b[39mmessage\n",
      "File \u001b[1;32mc:\\Users\\jthxc\\anaconda3\\envs\\jaredllm\\Lib\\site-packages\\langchain_core\\language_models\\chat_models.py:786\u001b[0m, in \u001b[0;36mBaseChatModel.generate_prompt\u001b[1;34m(self, prompts, stop, callbacks, **kwargs)\u001b[0m\n\u001b[0;32m    778\u001b[0m \u001b[38;5;28;01mdef\u001b[39;00m \u001b[38;5;21mgenerate_prompt\u001b[39m(\n\u001b[0;32m    779\u001b[0m     \u001b[38;5;28mself\u001b[39m,\n\u001b[0;32m    780\u001b[0m     prompts: \u001b[38;5;28mlist\u001b[39m[PromptValue],\n\u001b[1;32m   (...)\u001b[0m\n\u001b[0;32m    783\u001b[0m     \u001b[38;5;241m*\u001b[39m\u001b[38;5;241m*\u001b[39mkwargs: Any,\n\u001b[0;32m    784\u001b[0m ) \u001b[38;5;241m-\u001b[39m\u001b[38;5;241m>\u001b[39m LLMResult:\n\u001b[0;32m    785\u001b[0m     prompt_messages \u001b[38;5;241m=\u001b[39m [p\u001b[38;5;241m.\u001b[39mto_messages() \u001b[38;5;28;01mfor\u001b[39;00m p \u001b[38;5;129;01min\u001b[39;00m prompts]\n\u001b[1;32m--> 786\u001b[0m     \u001b[38;5;28;01mreturn\u001b[39;00m \u001b[38;5;28mself\u001b[39m\u001b[38;5;241m.\u001b[39mgenerate(prompt_messages, stop\u001b[38;5;241m=\u001b[39mstop, callbacks\u001b[38;5;241m=\u001b[39mcallbacks, \u001b[38;5;241m*\u001b[39m\u001b[38;5;241m*\u001b[39mkwargs)\n",
      "File \u001b[1;32mc:\\Users\\jthxc\\anaconda3\\envs\\jaredllm\\Lib\\site-packages\\langchain_core\\language_models\\chat_models.py:643\u001b[0m, in \u001b[0;36mBaseChatModel.generate\u001b[1;34m(self, messages, stop, callbacks, tags, metadata, run_name, run_id, **kwargs)\u001b[0m\n\u001b[0;32m    641\u001b[0m         \u001b[38;5;28;01mif\u001b[39;00m run_managers:\n\u001b[0;32m    642\u001b[0m             run_managers[i]\u001b[38;5;241m.\u001b[39mon_llm_error(e, response\u001b[38;5;241m=\u001b[39mLLMResult(generations\u001b[38;5;241m=\u001b[39m[]))\n\u001b[1;32m--> 643\u001b[0m         \u001b[38;5;28;01mraise\u001b[39;00m e\n\u001b[0;32m    644\u001b[0m flattened_outputs \u001b[38;5;241m=\u001b[39m [\n\u001b[0;32m    645\u001b[0m     LLMResult(generations\u001b[38;5;241m=\u001b[39m[res\u001b[38;5;241m.\u001b[39mgenerations], llm_output\u001b[38;5;241m=\u001b[39mres\u001b[38;5;241m.\u001b[39mllm_output)  \u001b[38;5;66;03m# type: ignore[list-item]\u001b[39;00m\n\u001b[0;32m    646\u001b[0m     \u001b[38;5;28;01mfor\u001b[39;00m res \u001b[38;5;129;01min\u001b[39;00m results\n\u001b[0;32m    647\u001b[0m ]\n\u001b[0;32m    648\u001b[0m llm_output \u001b[38;5;241m=\u001b[39m \u001b[38;5;28mself\u001b[39m\u001b[38;5;241m.\u001b[39m_combine_llm_outputs([res\u001b[38;5;241m.\u001b[39mllm_output \u001b[38;5;28;01mfor\u001b[39;00m res \u001b[38;5;129;01min\u001b[39;00m results])\n",
      "File \u001b[1;32mc:\\Users\\jthxc\\anaconda3\\envs\\jaredllm\\Lib\\site-packages\\langchain_core\\language_models\\chat_models.py:633\u001b[0m, in \u001b[0;36mBaseChatModel.generate\u001b[1;34m(self, messages, stop, callbacks, tags, metadata, run_name, run_id, **kwargs)\u001b[0m\n\u001b[0;32m    630\u001b[0m \u001b[38;5;28;01mfor\u001b[39;00m i, m \u001b[38;5;129;01min\u001b[39;00m \u001b[38;5;28menumerate\u001b[39m(messages):\n\u001b[0;32m    631\u001b[0m     \u001b[38;5;28;01mtry\u001b[39;00m:\n\u001b[0;32m    632\u001b[0m         results\u001b[38;5;241m.\u001b[39mappend(\n\u001b[1;32m--> 633\u001b[0m             \u001b[38;5;28mself\u001b[39m\u001b[38;5;241m.\u001b[39m_generate_with_cache(\n\u001b[0;32m    634\u001b[0m                 m,\n\u001b[0;32m    635\u001b[0m                 stop\u001b[38;5;241m=\u001b[39mstop,\n\u001b[0;32m    636\u001b[0m                 run_manager\u001b[38;5;241m=\u001b[39mrun_managers[i] \u001b[38;5;28;01mif\u001b[39;00m run_managers \u001b[38;5;28;01melse\u001b[39;00m \u001b[38;5;28;01mNone\u001b[39;00m,\n\u001b[0;32m    637\u001b[0m                 \u001b[38;5;241m*\u001b[39m\u001b[38;5;241m*\u001b[39mkwargs,\n\u001b[0;32m    638\u001b[0m             )\n\u001b[0;32m    639\u001b[0m         )\n\u001b[0;32m    640\u001b[0m     \u001b[38;5;28;01mexcept\u001b[39;00m \u001b[38;5;167;01mBaseException\u001b[39;00m \u001b[38;5;28;01mas\u001b[39;00m e:\n\u001b[0;32m    641\u001b[0m         \u001b[38;5;28;01mif\u001b[39;00m run_managers:\n",
      "File \u001b[1;32mc:\\Users\\jthxc\\anaconda3\\envs\\jaredllm\\Lib\\site-packages\\langchain_core\\language_models\\chat_models.py:851\u001b[0m, in \u001b[0;36mBaseChatModel._generate_with_cache\u001b[1;34m(self, messages, stop, run_manager, **kwargs)\u001b[0m\n\u001b[0;32m    849\u001b[0m \u001b[38;5;28;01melse\u001b[39;00m:\n\u001b[0;32m    850\u001b[0m     \u001b[38;5;28;01mif\u001b[39;00m inspect\u001b[38;5;241m.\u001b[39msignature(\u001b[38;5;28mself\u001b[39m\u001b[38;5;241m.\u001b[39m_generate)\u001b[38;5;241m.\u001b[39mparameters\u001b[38;5;241m.\u001b[39mget(\u001b[38;5;124m\"\u001b[39m\u001b[38;5;124mrun_manager\u001b[39m\u001b[38;5;124m\"\u001b[39m):\n\u001b[1;32m--> 851\u001b[0m         result \u001b[38;5;241m=\u001b[39m \u001b[38;5;28mself\u001b[39m\u001b[38;5;241m.\u001b[39m_generate(\n\u001b[0;32m    852\u001b[0m             messages, stop\u001b[38;5;241m=\u001b[39mstop, run_manager\u001b[38;5;241m=\u001b[39mrun_manager, \u001b[38;5;241m*\u001b[39m\u001b[38;5;241m*\u001b[39mkwargs\n\u001b[0;32m    853\u001b[0m         )\n\u001b[0;32m    854\u001b[0m     \u001b[38;5;28;01melse\u001b[39;00m:\n\u001b[0;32m    855\u001b[0m         result \u001b[38;5;241m=\u001b[39m \u001b[38;5;28mself\u001b[39m\u001b[38;5;241m.\u001b[39m_generate(messages, stop\u001b[38;5;241m=\u001b[39mstop, \u001b[38;5;241m*\u001b[39m\u001b[38;5;241m*\u001b[39mkwargs)\n",
      "File \u001b[1;32mc:\\Users\\jthxc\\anaconda3\\envs\\jaredllm\\Lib\\site-packages\\langchain_groq\\chat_models.py:473\u001b[0m, in \u001b[0;36mChatGroq._generate\u001b[1;34m(self, messages, stop, run_manager, **kwargs)\u001b[0m\n\u001b[0;32m    468\u001b[0m message_dicts, params \u001b[38;5;241m=\u001b[39m \u001b[38;5;28mself\u001b[39m\u001b[38;5;241m.\u001b[39m_create_message_dicts(messages, stop)\n\u001b[0;32m    469\u001b[0m params \u001b[38;5;241m=\u001b[39m {\n\u001b[0;32m    470\u001b[0m     \u001b[38;5;241m*\u001b[39m\u001b[38;5;241m*\u001b[39mparams,\n\u001b[0;32m    471\u001b[0m     \u001b[38;5;241m*\u001b[39m\u001b[38;5;241m*\u001b[39mkwargs,\n\u001b[0;32m    472\u001b[0m }\n\u001b[1;32m--> 473\u001b[0m response \u001b[38;5;241m=\u001b[39m \u001b[38;5;28mself\u001b[39m\u001b[38;5;241m.\u001b[39mclient\u001b[38;5;241m.\u001b[39mcreate(messages\u001b[38;5;241m=\u001b[39mmessage_dicts, \u001b[38;5;241m*\u001b[39m\u001b[38;5;241m*\u001b[39mparams)\n\u001b[0;32m    474\u001b[0m \u001b[38;5;28;01mreturn\u001b[39;00m \u001b[38;5;28mself\u001b[39m\u001b[38;5;241m.\u001b[39m_create_chat_result(response)\n",
      "File \u001b[1;32mc:\\Users\\jthxc\\anaconda3\\envs\\jaredllm\\Lib\\site-packages\\groq\\resources\\chat\\completions.py:287\u001b[0m, in \u001b[0;36mCompletions.create\u001b[1;34m(self, messages, model, frequency_penalty, function_call, functions, logit_bias, logprobs, max_tokens, n, parallel_tool_calls, presence_penalty, response_format, seed, stop, stream, temperature, tool_choice, tools, top_logprobs, top_p, user, extra_headers, extra_query, extra_body, timeout)\u001b[0m\n\u001b[0;32m    146\u001b[0m \u001b[38;5;28;01mdef\u001b[39;00m \u001b[38;5;21mcreate\u001b[39m(\n\u001b[0;32m    147\u001b[0m     \u001b[38;5;28mself\u001b[39m,\n\u001b[0;32m    148\u001b[0m     \u001b[38;5;241m*\u001b[39m,\n\u001b[1;32m   (...)\u001b[0m\n\u001b[0;32m    175\u001b[0m     timeout: \u001b[38;5;28mfloat\u001b[39m \u001b[38;5;241m|\u001b[39m httpx\u001b[38;5;241m.\u001b[39mTimeout \u001b[38;5;241m|\u001b[39m \u001b[38;5;28;01mNone\u001b[39;00m \u001b[38;5;241m|\u001b[39m NotGiven \u001b[38;5;241m=\u001b[39m NOT_GIVEN,\n\u001b[0;32m    176\u001b[0m ) \u001b[38;5;241m-\u001b[39m\u001b[38;5;241m>\u001b[39m ChatCompletion \u001b[38;5;241m|\u001b[39m Stream[ChatCompletionChunk]:\n\u001b[0;32m    177\u001b[0m \u001b[38;5;250m    \u001b[39m\u001b[38;5;124;03m\"\"\"\u001b[39;00m\n\u001b[0;32m    178\u001b[0m \u001b[38;5;124;03m    Creates a model response for the given chat conversation.\u001b[39;00m\n\u001b[0;32m    179\u001b[0m \n\u001b[1;32m   (...)\u001b[0m\n\u001b[0;32m    285\u001b[0m \u001b[38;5;124;03m      timeout: Override the client-level default timeout for this request, in seconds\u001b[39;00m\n\u001b[0;32m    286\u001b[0m \u001b[38;5;124;03m    \"\"\"\u001b[39;00m\n\u001b[1;32m--> 287\u001b[0m     \u001b[38;5;28;01mreturn\u001b[39;00m \u001b[38;5;28mself\u001b[39m\u001b[38;5;241m.\u001b[39m_post(\n\u001b[0;32m    288\u001b[0m         \u001b[38;5;124m\"\u001b[39m\u001b[38;5;124m/openai/v1/chat/completions\u001b[39m\u001b[38;5;124m\"\u001b[39m,\n\u001b[0;32m    289\u001b[0m         body\u001b[38;5;241m=\u001b[39mmaybe_transform(\n\u001b[0;32m    290\u001b[0m             {\n\u001b[0;32m    291\u001b[0m                 \u001b[38;5;124m\"\u001b[39m\u001b[38;5;124mmessages\u001b[39m\u001b[38;5;124m\"\u001b[39m: messages,\n\u001b[0;32m    292\u001b[0m                 \u001b[38;5;124m\"\u001b[39m\u001b[38;5;124mmodel\u001b[39m\u001b[38;5;124m\"\u001b[39m: model,\n\u001b[0;32m    293\u001b[0m                 \u001b[38;5;124m\"\u001b[39m\u001b[38;5;124mfrequency_penalty\u001b[39m\u001b[38;5;124m\"\u001b[39m: frequency_penalty,\n\u001b[0;32m    294\u001b[0m                 \u001b[38;5;124m\"\u001b[39m\u001b[38;5;124mfunction_call\u001b[39m\u001b[38;5;124m\"\u001b[39m: function_call,\n\u001b[0;32m    295\u001b[0m                 \u001b[38;5;124m\"\u001b[39m\u001b[38;5;124mfunctions\u001b[39m\u001b[38;5;124m\"\u001b[39m: functions,\n\u001b[0;32m    296\u001b[0m                 \u001b[38;5;124m\"\u001b[39m\u001b[38;5;124mlogit_bias\u001b[39m\u001b[38;5;124m\"\u001b[39m: logit_bias,\n\u001b[0;32m    297\u001b[0m                 \u001b[38;5;124m\"\u001b[39m\u001b[38;5;124mlogprobs\u001b[39m\u001b[38;5;124m\"\u001b[39m: logprobs,\n\u001b[0;32m    298\u001b[0m                 \u001b[38;5;124m\"\u001b[39m\u001b[38;5;124mmax_tokens\u001b[39m\u001b[38;5;124m\"\u001b[39m: max_tokens,\n\u001b[0;32m    299\u001b[0m                 \u001b[38;5;124m\"\u001b[39m\u001b[38;5;124mn\u001b[39m\u001b[38;5;124m\"\u001b[39m: n,\n\u001b[0;32m    300\u001b[0m                 \u001b[38;5;124m\"\u001b[39m\u001b[38;5;124mparallel_tool_calls\u001b[39m\u001b[38;5;124m\"\u001b[39m: parallel_tool_calls,\n\u001b[0;32m    301\u001b[0m                 \u001b[38;5;124m\"\u001b[39m\u001b[38;5;124mpresence_penalty\u001b[39m\u001b[38;5;124m\"\u001b[39m: presence_penalty,\n\u001b[0;32m    302\u001b[0m                 \u001b[38;5;124m\"\u001b[39m\u001b[38;5;124mresponse_format\u001b[39m\u001b[38;5;124m\"\u001b[39m: response_format,\n\u001b[0;32m    303\u001b[0m                 \u001b[38;5;124m\"\u001b[39m\u001b[38;5;124mseed\u001b[39m\u001b[38;5;124m\"\u001b[39m: seed,\n\u001b[0;32m    304\u001b[0m                 \u001b[38;5;124m\"\u001b[39m\u001b[38;5;124mstop\u001b[39m\u001b[38;5;124m\"\u001b[39m: stop,\n\u001b[0;32m    305\u001b[0m                 \u001b[38;5;124m\"\u001b[39m\u001b[38;5;124mstream\u001b[39m\u001b[38;5;124m\"\u001b[39m: stream,\n\u001b[0;32m    306\u001b[0m                 \u001b[38;5;124m\"\u001b[39m\u001b[38;5;124mtemperature\u001b[39m\u001b[38;5;124m\"\u001b[39m: temperature,\n\u001b[0;32m    307\u001b[0m                 \u001b[38;5;124m\"\u001b[39m\u001b[38;5;124mtool_choice\u001b[39m\u001b[38;5;124m\"\u001b[39m: tool_choice,\n\u001b[0;32m    308\u001b[0m                 \u001b[38;5;124m\"\u001b[39m\u001b[38;5;124mtools\u001b[39m\u001b[38;5;124m\"\u001b[39m: tools,\n\u001b[0;32m    309\u001b[0m                 \u001b[38;5;124m\"\u001b[39m\u001b[38;5;124mtop_logprobs\u001b[39m\u001b[38;5;124m\"\u001b[39m: top_logprobs,\n\u001b[0;32m    310\u001b[0m                 \u001b[38;5;124m\"\u001b[39m\u001b[38;5;124mtop_p\u001b[39m\u001b[38;5;124m\"\u001b[39m: top_p,\n\u001b[0;32m    311\u001b[0m                 \u001b[38;5;124m\"\u001b[39m\u001b[38;5;124muser\u001b[39m\u001b[38;5;124m\"\u001b[39m: user,\n\u001b[0;32m    312\u001b[0m             },\n\u001b[0;32m    313\u001b[0m             completion_create_params\u001b[38;5;241m.\u001b[39mCompletionCreateParams,\n\u001b[0;32m    314\u001b[0m         ),\n\u001b[0;32m    315\u001b[0m         options\u001b[38;5;241m=\u001b[39mmake_request_options(\n\u001b[0;32m    316\u001b[0m             extra_headers\u001b[38;5;241m=\u001b[39mextra_headers, extra_query\u001b[38;5;241m=\u001b[39mextra_query, extra_body\u001b[38;5;241m=\u001b[39mextra_body, timeout\u001b[38;5;241m=\u001b[39mtimeout\n\u001b[0;32m    317\u001b[0m         ),\n\u001b[0;32m    318\u001b[0m         cast_to\u001b[38;5;241m=\u001b[39mChatCompletion,\n\u001b[0;32m    319\u001b[0m         stream\u001b[38;5;241m=\u001b[39mstream \u001b[38;5;129;01mor\u001b[39;00m \u001b[38;5;28;01mFalse\u001b[39;00m,\n\u001b[0;32m    320\u001b[0m         stream_cls\u001b[38;5;241m=\u001b[39mStream[ChatCompletionChunk],\n\u001b[0;32m    321\u001b[0m     )\n",
      "File \u001b[1;32mc:\\Users\\jthxc\\anaconda3\\envs\\jaredllm\\Lib\\site-packages\\groq\\_base_client.py:1244\u001b[0m, in \u001b[0;36mSyncAPIClient.post\u001b[1;34m(self, path, cast_to, body, options, files, stream, stream_cls)\u001b[0m\n\u001b[0;32m   1230\u001b[0m \u001b[38;5;28;01mdef\u001b[39;00m \u001b[38;5;21mpost\u001b[39m(\n\u001b[0;32m   1231\u001b[0m     \u001b[38;5;28mself\u001b[39m,\n\u001b[0;32m   1232\u001b[0m     path: \u001b[38;5;28mstr\u001b[39m,\n\u001b[1;32m   (...)\u001b[0m\n\u001b[0;32m   1239\u001b[0m     stream_cls: \u001b[38;5;28mtype\u001b[39m[_StreamT] \u001b[38;5;241m|\u001b[39m \u001b[38;5;28;01mNone\u001b[39;00m \u001b[38;5;241m=\u001b[39m \u001b[38;5;28;01mNone\u001b[39;00m,\n\u001b[0;32m   1240\u001b[0m ) \u001b[38;5;241m-\u001b[39m\u001b[38;5;241m>\u001b[39m ResponseT \u001b[38;5;241m|\u001b[39m _StreamT:\n\u001b[0;32m   1241\u001b[0m     opts \u001b[38;5;241m=\u001b[39m FinalRequestOptions\u001b[38;5;241m.\u001b[39mconstruct(\n\u001b[0;32m   1242\u001b[0m         method\u001b[38;5;241m=\u001b[39m\u001b[38;5;124m\"\u001b[39m\u001b[38;5;124mpost\u001b[39m\u001b[38;5;124m\"\u001b[39m, url\u001b[38;5;241m=\u001b[39mpath, json_data\u001b[38;5;241m=\u001b[39mbody, files\u001b[38;5;241m=\u001b[39mto_httpx_files(files), \u001b[38;5;241m*\u001b[39m\u001b[38;5;241m*\u001b[39moptions\n\u001b[0;32m   1243\u001b[0m     )\n\u001b[1;32m-> 1244\u001b[0m     \u001b[38;5;28;01mreturn\u001b[39;00m cast(ResponseT, \u001b[38;5;28mself\u001b[39m\u001b[38;5;241m.\u001b[39mrequest(cast_to, opts, stream\u001b[38;5;241m=\u001b[39mstream, stream_cls\u001b[38;5;241m=\u001b[39mstream_cls))\n",
      "File \u001b[1;32mc:\\Users\\jthxc\\anaconda3\\envs\\jaredllm\\Lib\\site-packages\\groq\\_base_client.py:936\u001b[0m, in \u001b[0;36mSyncAPIClient.request\u001b[1;34m(self, cast_to, options, remaining_retries, stream, stream_cls)\u001b[0m\n\u001b[0;32m    927\u001b[0m \u001b[38;5;28;01mdef\u001b[39;00m \u001b[38;5;21mrequest\u001b[39m(\n\u001b[0;32m    928\u001b[0m     \u001b[38;5;28mself\u001b[39m,\n\u001b[0;32m    929\u001b[0m     cast_to: Type[ResponseT],\n\u001b[1;32m   (...)\u001b[0m\n\u001b[0;32m    934\u001b[0m     stream_cls: \u001b[38;5;28mtype\u001b[39m[_StreamT] \u001b[38;5;241m|\u001b[39m \u001b[38;5;28;01mNone\u001b[39;00m \u001b[38;5;241m=\u001b[39m \u001b[38;5;28;01mNone\u001b[39;00m,\n\u001b[0;32m    935\u001b[0m ) \u001b[38;5;241m-\u001b[39m\u001b[38;5;241m>\u001b[39m ResponseT \u001b[38;5;241m|\u001b[39m _StreamT:\n\u001b[1;32m--> 936\u001b[0m     \u001b[38;5;28;01mreturn\u001b[39;00m \u001b[38;5;28mself\u001b[39m\u001b[38;5;241m.\u001b[39m_request(\n\u001b[0;32m    937\u001b[0m         cast_to\u001b[38;5;241m=\u001b[39mcast_to,\n\u001b[0;32m    938\u001b[0m         options\u001b[38;5;241m=\u001b[39moptions,\n\u001b[0;32m    939\u001b[0m         stream\u001b[38;5;241m=\u001b[39mstream,\n\u001b[0;32m    940\u001b[0m         stream_cls\u001b[38;5;241m=\u001b[39mstream_cls,\n\u001b[0;32m    941\u001b[0m         remaining_retries\u001b[38;5;241m=\u001b[39mremaining_retries,\n\u001b[0;32m    942\u001b[0m     )\n",
      "File \u001b[1;32mc:\\Users\\jthxc\\anaconda3\\envs\\jaredllm\\Lib\\site-packages\\groq\\_base_client.py:1039\u001b[0m, in \u001b[0;36mSyncAPIClient._request\u001b[1;34m(self, cast_to, options, remaining_retries, stream, stream_cls)\u001b[0m\n\u001b[0;32m   1036\u001b[0m         err\u001b[38;5;241m.\u001b[39mresponse\u001b[38;5;241m.\u001b[39mread()\n\u001b[0;32m   1038\u001b[0m     log\u001b[38;5;241m.\u001b[39mdebug(\u001b[38;5;124m\"\u001b[39m\u001b[38;5;124mRe-raising status error\u001b[39m\u001b[38;5;124m\"\u001b[39m)\n\u001b[1;32m-> 1039\u001b[0m     \u001b[38;5;28;01mraise\u001b[39;00m \u001b[38;5;28mself\u001b[39m\u001b[38;5;241m.\u001b[39m_make_status_error_from_response(err\u001b[38;5;241m.\u001b[39mresponse) \u001b[38;5;28;01mfrom\u001b[39;00m \u001b[38;5;28;01mNone\u001b[39;00m\n\u001b[0;32m   1041\u001b[0m \u001b[38;5;28;01mreturn\u001b[39;00m \u001b[38;5;28mself\u001b[39m\u001b[38;5;241m.\u001b[39m_process_response(\n\u001b[0;32m   1042\u001b[0m     cast_to\u001b[38;5;241m=\u001b[39mcast_to,\n\u001b[0;32m   1043\u001b[0m     options\u001b[38;5;241m=\u001b[39moptions,\n\u001b[1;32m   (...)\u001b[0m\n\u001b[0;32m   1047\u001b[0m     retries_taken\u001b[38;5;241m=\u001b[39moptions\u001b[38;5;241m.\u001b[39mget_max_retries(\u001b[38;5;28mself\u001b[39m\u001b[38;5;241m.\u001b[39mmax_retries) \u001b[38;5;241m-\u001b[39m retries,\n\u001b[0;32m   1048\u001b[0m )\n",
      "\u001b[1;31mBadRequestError\u001b[0m: Error code: 400 - {'error': {'message': \"Failed to call a function. Please adjust your prompt. See 'failed_generation' for more details.\", 'type': 'invalid_request_error', 'code': 'tool_use_failed', 'failed_generation': '<tool-use>\\n{\\n\\t\"tool_calls\": [\\n\\t\\t{\\n\\t\\t\\t\"id\": \"pending\",\\n\\t\\t\\t\"type\": \"function\",\\n\\t\\t\\t\"function\": {\\n\\t\\t\\t\\t\"name\": \"NormalTransactionDesc\"\\n\\t\\t\\t},\\n\\t\\t\\t\"parameters\": {\\n\\t\\t\\t\\t\"personal_expenses\": [\\n\\t\\t\\t\\t\\t\"Payment for gym membership renewal.\",\\n\\t\\t\\t\\t\\t\"Subscription to online fitness classes.\",\\n\\t\\t\\t\\t\\t\"Monthly phone bill payment.\",\\n\\t\\t\\t\\t\\t\"Purchase of pet food and accessories.\",\\n\\t\\t\\t\\t\\t\"Grocery shopping at local farmer\\'s market.\",\\n\\t\\t\\t\\t\\t\"Dining out at a local restaurant.\",\\n\\t\\t\\t\\t\\t\"Monthly subscription to a music streaming service.\",\\n\\t\\t\\t\\t\\t\"Payment for home security system.\",\\n\\t\\t\\t\\t\\t\"Purchase of a new laptop for personal use.\",\\n\\t\\t\\t\\t\\t\"Monthly payment for a personal trainer.\",\\n\\t\\t\\t\\t\\t\"Subscription to a monthly book club.\",\\n\\t\\t\\t\\t\\t\"Payment for a home cleaning service.\",\\n\\t\\t\\t\\t\\t\"Purchase of a new TV for personal use.\",\\n\\t\\t\\t\\t\\t\"Monthly payment for a music lesson.\",\\n\\t\\t\\t\\t\\t\"Subscription to a monthly wine club.\",\\n\\t\\t\\t\\t\\t\"Payment for a home maintenance service.\",\\n\\t\\t\\t\\t\\t\"Purchase of a new bike for personal use.\",\\n\\t\\t\\t\\t\\t\"Monthly payment for a yoga class.\",\\n\\t\\t\\t\\t\\t\"Subscription to a monthly coffee subscription.\",\\n\\t\\t\\t\\t\\t\"Payment for a home repair service.\",\\n\\t\\t\\t\\t\\t\"Purchase of a new tablet for personal use.\",\\n\\t\\t\\t\\t\\t\"Monthly payment for a language class.\",\\n\\t\\t\\t\\t\\t\"Subscription to a monthly snack box.\",\\n\\t\\t\\t\\t\\t\"Payment for a home decoration service.\",\\n\\t\\t\\t\\t\\t\"Purchase of a new smartphone for personal use.\",\\n\\t\\t\\t\\t\\t\"Monthly payment for a dance class.\",\\n\\t\\t\\t\\t\\t\"Subscription to a monthly beauty box.\",\\n\\t\\t\\t\\t\\t\"Payment for a home landscaping service.\",\\n\\t\\t\\t\\t\\t\"Purchase of a new desktop computer for personal use.\",\\n\\t\\t\\t\\t\\t\"Monthly payment for a cooking class.\",\\n\\t\\t\\t\\t\\t\"Subscription to a monthly pet box.\",\\n\\t\\t\\t\\t\\t\"Payment for a home plumbing service.\",\\n\\t\\t\\t\\t\\t\"Purchase of a new e-reader for personal use.\",\\n\\t\\t\\t\\t\\t\"Monthly payment for a photography class.\",\\n\\t\\t\\t\\t\\t\"Subscription to a monthly outdoor gear box.\",\\n\\t\\t\\t\\t\\t\"Payment for a home electrical service.\",\\n\\t\\t\\t\\t\\t\"Purchase of a new headphone for personal use.\",\\n\\t\\t\\t\\t\\t\"Monthly payment for a painting class.\",\\n\\t\\t\\t\\t\\t\"Subscription to a monthly craft box.\",\\n\\t\\t\\t\\t\\t\"Payment for a home HVAC service.\",\\n\\t\\t\\t\\t\\t\"Purchase of a new gaming console for personal use.\",\\n\\t\\t\\t\\t\\t\"Monthly payment for a pottery class.\",\\n\\t\\t\\t\\t\\t\"Subscription to a monthly stationery box.\",\\n\\t\\t\\t\\t\\t\"Payment for a home appliance repair service.\",\\n\\t\\t\\t\\t\\t\"Purchase of a new fitness tracker for personal use.\",\\n\\t\\t\\t\\t\\t\"Monthly payment for a sewing class.\",\\n\\t\\t\\t\\t\\t\"Subscription to a monthly tea box.\",\\n\\t\\t\\t\\t\\t\"Payment for a home pest control service.\",\\n\\t\\t\\t\\t\\t\"Purchase of a new smartwatch for personal use.\",\\n\\t\\t\\t\\t\\t\"Monthly payment for a writing class.\",\\n\\t\\t\\t\\t\\t\"Subscription to a monthly spice box.\",\\n\\t\\t\\t\\t\\t\"Payment for a home remodeling service.\",\\n\\t\\t\\t\\t\\t\"Purchase of a new tablet for personal use.\",\\n\\t\\t\\t\\t\\t\"Monthly payment for a graphic design class.\",\\n\\t\\t\\t\\t\\t\"Subscription to a monthly coffee mug box.\"\\n\\t\\t\\t\\t],\\n\\t\\t\\t\\t\"business_expenses\": [\\n\\t\\t\\t\\t\\t\"Payment for office supplies and materials.\",\\n\\t\\t\\t\\t\\t\"Procurement of new office furniture.\",\\n\\t\\t\\t\\t\\t\"Invoice payment for IT consulting services.\",\\n\\t\\t\\t\\t\\t\"Purchase of new software licenses for business use.\",\\n\\t\\t\\t\\t\\t\"Payment for employee training and development.\",\\n\\t\\t\\t\\t\\t\"Procurement of new office equipment.\",\\n\\t\\t\\t\\t\\t\"Invoice payment for marketing services.\",\\n\\t\\t\\t\\t\\t\"Payment for business insurance premiums.\",\\n\\t\\t\\t\\t\\t\"Procurement of new office appliances.\",\\n\\t\\t\\t\\t\\t\"Invoice payment for a business consultant.\",\\n\\t\\t\\t\\t\\t\"Payment for employee benefits and perks.\",\\n\\t\\t\\t\\t\\t\"Procurement of new office technology.\",\\n\\t\\t\\t\\t\\t\"Invoice payment for a business lawyer.\",\\n\\t\\t\\t\\t\\t\"Payment for business travel expenses.\",\\n\\t\\t\\t\\t\\t\"Procurement of new office stationery.\",\\n\\t\\t\\t\\t\\t\"Invoice payment from a business vendor.\",\\n\\t\\t\\t\\t\\t\"Payment for business utility bills.\",\\n\\t\\t\\t\\t\\t\"Procurement of new office cleaning services.\",\\n\\t\\t\\t\\t\\t\"Invoice payment from a business partner.\",\\n\\t\\t\\t\\t\\t\"Payment for business rent and lease.\",\\n\\t\\t\\t\\t\\t\"Procurement of new office security services.\",\\n\\t\\t\\t\\t\\t\"Invoice payment from a business supplier.\",\\n\\t\\t\\t\\t\\t\"Payment for business taxes and fees.\",\\n\\t\\t\\t\\t\\t\"Procurement of new office maintenance services.\",\\n\\t\\t\\t\\t\\t\"Invoice payment from a business auditor.\",\\n\\t\\t\\t\\t\\t\"Payment for business shipping and delivery.\",\\n\\t\\t\\t\\t\\t\"Procurement of new office renovation services.\",\\n\\t\\t\\t\\t\\t\"Invoice payment from a a business broker.\",\\n\\t\\t\\t\\t\\t\"Payment for business advertising expenses.\",\\n\\t\\t\\t\\t\\t\"Procurement of new office IT services.\",\\n\\t\\t\\t\\t\\t\"Invoice payment from a business recruiter.\",\\n\\t\\t\\t\\t\\t\"Payment for business conference and event expenses.\",\\n\\t\\t\\t\\t\\t\"Procurement of new office HR services.\",\\n\\t\\t\\t\\t\\t\"Invoice payment from a business accountant.\",\\n\\t\\t\\t\\t\\t\"Payment for business software subscriptions.\",\\n\\t\\t\\t\\t\\t\"Procurement of new office administrative services.\",\\n\\t\\t\\t\\t\\t\"Invoice payment from a business financial advisor.\",\\n\\t\\t\\t\\t\\t\"Payment for business online services.\",\\n\\t\\t\\t\\t\\t\"Procurement of new office customer service.\",\\n\\t\\t\\t\\t\\t\"Invoice payment from a business consultant.\",\\n\\t\\t\\t\\t\\t\"Payment for business research and development.\",\\n\\t\\t\\t\\t\\t\"Procurement of new office logistics services.\",\\n\\t\\t\\t\\t\\t\"Invoice payment from a business tax consultant.\",\\n\\t\\t\\t\\t\\t\"Payment for business entertainment expenses.\",\\n\\t\\t\\t\\t\\t\"Procurement of new office travel services.\",\\n\\t\\t\\t\\t\\t\"Invoice payment from a business insurance broker.\",\\n\\t\\t\\t\\t\\t\"Payment for business telecommunications expenses.\",\\n\\t\\t\\t\\t\\t\"Procurement of new office energy services.\",\\n\\t\\t\\t\\t\\t\"Invoice payment from a business marketing agency.\",\\n\\t\\t\\t\\t\\t\"Payment for business vehicle expenses.\",\\n\\t\\t\\t\\t\\t\"Procurement of new office waste management services.\",\\n\\t\\t\\t\\t\\t\"Invoice payment from a business IT consultant.\",\\n\\t\\t\\t\\t\\t\"Payment for business property expenses.\",\\n\\t\\t\\t\\t\\t\"Procurement of new office facility management services.\",\\n\\t\\t\\t\\t\\t\"Invoice payment from a business operations consultant.\",\\n\\t\\t\\t\\t\\t\"Payment for business equipment expenses.\",\\n\\t\\t\\t\\t\\t\"Procurement of new office procurement services.\",\\n\\t\\t\\t\\t\\t\"Invoice payment from a business strategy consultant.\",\\n\\t\\t\\t\\t\\t\"Payment for business inventory expenses.\",\\n\\t\\t\\t\\t\\t\"Procurement of new office real estate services.\",\\n\\t\\t\\t\\t\\t\"Invoice payment from a business management consultant.\",\\n\\t\\t\\t\\t\\t\"Payment for business supply chain expenses.\",\\n\\t\\t\\t\\t\\t\"Procurement of new office retail services.\",\\n\\t\\t\\t\\t\\t\"Invoice payment from a business HR consultant.\",\\n\\t\\t\\t\\t\\t\"Payment for business logistics expenses.\",\\n\\t\\t\\t\\t\\t\"Procurement of new office sales services.\",\\n\\t\\t\\t\\t\\t\"Invoice payment from a business IT project manager.\",\\n\\t\\t\\t\\t\\t\"Payment for business transportation expenses.\",\\n\\t\\t\\t\\t\\t\"Procurement of new office customer support services.\",\\n\\t\\t\\t\\t\\t\"Invoice payment from a business financial analyst.\",\\n\\t\\t\\t\\t\\t\"Payment for business utility expenses.\",\\n\\t\\t\\t\\t\\t\"Procurement of new office accounting services.\",\\n\\t\\t\\t\\t\\t\"Invoice payment from a business operations manager.\",\\n\\t\\t\\t\\t\\t\"Payment for business maintenance expenses.\",\\n\\t\\t\\t\\t\\t\"Procurement of new office administrative support services.\",\\n\\t\\t\\t\\t\\t\"Invoice payment from a business marketing consultant.\",\\n\\t\\t\\t\\t\\t\"Payment for business repair expenses.\",\\n\\t\\t\\t\\t\\t\"Procurement of new office IT support services.\",\\n\\t\\t\\t\\t\\t\"Invoice payment from a business sales consultant.\",\\n\\t\\t\\t\\t\\t\"Payment for business shipping expenses.\",\\n\\t\\t\\t\\t\\t\"Procurement of new office human resources services.\",\\n\\t\\t\\t\\t\\t\"Invoice payment from a business customer service manager.\",\\n\\t\\t\\t\\t\\t\"Payment for business training expenses.\",\\n\\t\\t\\t\\t\\t\"Procurement of new office procurement support services.\",\\n\\t\\t\\t\\t\\t\"Invoice payment from a business IT director.\",\\n\\t\\t\\t\\t\\t\"Payment for business travel agency expenses.\",\\n\\t\\t\\t\\t\\t\"Procurement of new office retail support services.\",\\n\\t\\t\\t\\t\\t\"Invoice payment from a business financial manager.\",\\n\\t\\t\\t\\t\\t\"Payment for business conference expenses.\",\\n\\t\\t\\t\\t\\t\"Procurement of new office sales support services.\",\\n\\t\\t\\t\\t\\t\"Invoice payment from a a business CEO.\",\\n\\t\\t\\t\\t\\t\"Payment for business advertising agency expenses.\",\\n\\t\\t\\t\\t\\t\"Procurement of new office customer support representatives.\",\\n\\t\\t\\t\\t\\t\"Invoice payment from a business CFO.\",\\n\\t\\t\\t\\t\\t\"Payment for business research expenses.\",\\n\\t\\t\\t\\t\\t\"Procurement of new office IT project managers.\",\\n\\t\\t\\t\\t\\t\"Invoice payment from a business COO.\",\\n\\t\\t\\t\\t\\t\"Payment for business software development expenses.\",\\n\\t\\t\\t\\t\\t\"Procurement of new office administrative assistants.\",\\n\\t\\t\\t\\t\\t\"Invoice payment from a business CTO.\",\\n\\t\\t\\t\\t\\t\"Payment for business consulting expenses.\",\\n\\t\\t\\t\\t\\t\"Procurement of new office HR generalists.\",\\n\\t\\t\\t\\t\\t\"Invoice payment from a business CIO.\",\\n\\t\\t\\t\\t\\t\"Payment for business marketing research expenses.\",\\n\\t\\t\\t\\t\\t\"Procurement of new office procurement managers.\",\\n\\t\\t\\t\\t\\t\"Invoice payment from a business CSO.\",\\n\\t\\t\\t\\t\\t\"Payment for business telecommunications services.\",\\n\\t\\t\\t\\t\\t\"Procurement of new office logistics managers.\",\\n\\t\\t\\t\\t\\t\"Invoice payment from a business CKO.\",\\n\\t\\t\\t\\t\\t\"Payment for business vehicle maintenance expenses.\",\\n\\t\\t\\t\\t\\t\"Procurement of new office sales managers.\",\\n\\t\\t\\t\\t\\t\"Invoice payment from a business CMO.\",\\n\\t\\t\\t\\t\\t\"Payment for business property management expenses.\",\\n\\t\\t\\t\\t\\t\"Procurement of new office customer service managers.\",\\n\\t\\t\\t\\t\\t\"Invoice payment from a business CRO.\",\\n\\t\\t\\t\\t\\t\"Payment for business equipment rental expenses.\",\\n\\t\\t\\t\\t\\t\"Procurement of new office IT directors.\",\\n\\t\\t\\t\\t\\t\"Invoice payment from a business CHRO.\",\\n\\t\\t\\t\\t\\t\"Payment for business supply chain management expenses.\",\\n\\t\\t\\t\\t\\t\"Procurement of new office operations managers.\",\\n\\t\\t\\t\\t\\t\"Invoice payment from a business CCO.\",\\n\\t\\t\\t\\t\\t\"Payment for business inventory management expenses.\",\\n\\t\\t\\t\\t\\t\"Procurement of new office financial managers.\",\\n\\t\\t\\t\\t\\t\"Invoice payment from a business CEO.\",\\n\\t\\t\\t\\t\\t\"Payment for business logistics management expenses.\",\\n\\t\\t\\t\\t\\t\"Procurement of new office procurement directors.\",\\n\\t\\t\\t\\t\\t\"Invoice payment from a business CFO.\",\\n\\t\\t\\t\\t\\t\"Payment for business transportation management expenses.\",\\n\\t\\t\\t\\t\\t\"Procurement of new office sales directors.\",\\n\\t\\t\\t\\t\\t\"Invoice payment from a business COO.\",\\n\\t\\t\\t\\t\\t\"Payment for business utility management expenses.\",\\n\\t\\t\\t\\t\\t\"Procurement of new office customer service directors.\",\\n\\t\\t\\t\\t\\t\"Invoice payment from a business CTO.\",\\n\\t\\t\\t\\t\\t\"Payment for business maintenance management expenses.\",\\n\\t\\t\\t\\t\\t\"Procurement of new office IT directors.\",\\n\\t\\t\\t\\t\\t\"Invoice payment from a business CIO.\",\\n\\t\\t\\t\\t\\t\"Payment for business repair management expenses.\",\\n\\t\\t\\t\\t\\t\"Procurement of new office operations directors.\",\\n\\t\\t\\t\\t\\t\"Invoice payment from a business CSO.\",\\n\\t\\t\\t\\t\\t\"Payment for business shipping management expenses.\",\\n\\t\\t\\t\\t\\t\"Procurement of new office financial directors.\",\\n\\t\\t\\t\\t\\t\"Invoice payment from a business CKO.\",\\n\\t\\t\\t\\t\\t\"Payment for business telecommunications management expenses.\",\\n\\t\\t\\t\\t\\t\"Procurement of new office logistics directors.\",\\n\\t\\t\\t\\t\\t\"Invoice payment from a business CMO.\",\\n\\t\\t\\t\\t\\t\"Payment for business vehicle management expenses.\",\\n\\t\\t\\t\\t\\t\"Procurement of new office sales directors.\",\\n\\t\\t\\t\\t\\t\"Invoice payment from a business CRO.\",\\n\\t\\t\\t\\t\\t\"Payment for business property management expenses.\",\\n\\t\\t\\t\\t\\t\"Procurement of new office customer service directors.\",\\n\\t\\t\\t\\t\\t\"Invoice payment from a business CHRO.\",\\n\\t\\t\\t\\t\\t\"Payment for business equipment management expenses.\",\\n\\t\\t\\t\\t\\t\"Procurement of new office IT directors.\",\\n\\t\\t\\t\\t\\t\"Invoice payment from a business CCO.\",\\n\\t\\t\\t\\t\\t\"Payment for business supply chain management expenses.\",\\n\\t\\t\\t\\t\\t\"Procurement of new office operations directors.\",\\n\\t\\t\\t\\t\\t\"Invoice payment from a business CEO.\",\\n\\t\\t\\t\\t\\t\"Payment for business inventory management expenses.\",\\n\\t\\t\\t\\t\\t\"Procurement of new office financial directors.\",\\n\\t\\t\\t\\t\\t\"Invoice payment from a business CFO.\",\\n\\t\\t\\t\\t\\t\"Payment for business logistics management expenses.\",\\n\\t\\t\\t\\t\\t\"Procurement of new office procurement directors.\",\\n\\t\\t\\t\\t\\t\"Invoice payment from a business COO.\",\\n\\t\\t\\t\\t\\t\"Payment for business transportation management expenses.\",\\n\\t\\t\\t\\t\\t\"Procurement of new office sales directors.\",\\n\\t\\t\\t\\t\\t\"Invoice payment from a business CTO.\",\\n\\t\\t\\t\\t\\t\"Payment for business utility management expenses.\",\\n\\t\\t\\t\\t\\t\"Procurement of new office customer service directors.\",\\n\\t\\t\\t\\t\\t\"Invoice payment from a business CIO.\",\\n\\t\\t\\t\\t\\t\"Payment for business maintenance management expenses.\",\\n\\t\\t\\t\\t\\t\"Procurement of new office IT directors.\",\\n\\t\\t\\t\\t\\t\"Invoice payment from a business CSO.\",\\n\\t\\t\\t\\t\\t\"Payment for business shipping management expenses.\",\\n\\t\\t\\t\\t\\t\"Procurement of new office operations directors.\",\\n\\t\\t\\t\\t\\t\"Invoice payment from a business CKO.\",\\n\\t\\t\\t\\t\\t\"Payment for business telecommunications management expenses.\",\\n\\t\\t\\t\\t\\t\"Procurement of new office logistics directors.\",\\n\\t\\t\\t\\t\\t\"Invoice payment from a business CMO.\",\\n\\t\\t\\t\\t\\t\"Payment for business vehicle management expenses.\",\\n\\t\\t\\t\\t\\t\"Procurement of new office sales directors.\",\\n\\t\\t\\t\\t\\t\"Invoice payment from a business CRO.\",\\n\\t\\t\\t\\t\\t\"Payment for business property management expenses.\",\\n\\t\\t\\t\\t\\t\"Procurement of new office customer service directors.\",\\n\\t\\t\\t\\t\\t\"Invoice payment from a business CHRO.\",\\n\\t\\t\\t\\t\\t\"Payment for business equipment management expenses.\",\\n\\t\\t\\t\\t\\t\"Procurement of new office IT directors.\",\\n\\t\\t\\t\\t\\t\"Invoice payment from a business CCO.\",\\n\\t\\t\\t\\t\\t\"Payment for business supply chain management expenses.\",\\n\\t\\t\\t\\t\\t\"Procurement of new office operations directors.\",\\n\\t\\t\\t\\t\\t\"Invoice payment from a business CEO.\",\\n\\t\\t\\t\\t\\t\"Payment for business inventory management expenses.\",\\n\\t\\t\\t\\t\\t\"Procurement of new office financial directors.\",\\n\\t\\t\\t\\t\\t\"Invoice payment from a business CFO.\",\\n\\t\\t\\t\\t\\t\"Payment for business logistics management expenses.\",\\n\\t\\t\\t\\t\\t\"Procurement of new office procurement directors.\",\\n\\t\\t\\t\\t\\t\"Invoice payment from a business COO.\",\\n\\t\\t\\t\\t\\t\"Payment for business transportation management expenses.\",\\n\\t\\t\\t\\t\\t\"Procurement of new office sales directors.\",\\n\\t\\t\\t\\t\\t\"Invoice payment from a business CTO.\",\\n\\t\\t\\t\\t\\t\"Payment for business utility management expenses.\",\\n\\t\\t\\t\\t\\t\"Procurement of new office customer service directors.\",\\n\\t\\t\\t\\t\\t\"Invoice payment from a business CIO.\",\\n\\t\\t\\t\\t\\t\"Payment for business maintenance management expenses.\",\\n\\t\\t\\t\\t\\t\"Procurement of new office IT directors.\",\\n\\t\\t\\t\\t\\t\"Invoice payment from a business CSO.\",\\n\\t\\t\\t\\t\\t\"Payment for business shipping management expenses.\",\\n\\t\\t\\t\\t\\t\"Procurement of new office operations directors.\",\\n\\t\\t\\t\\t\\t\"Invoice payment from a business CKO.\",\\n\\t\\t\\t\\t\\t\"Payment for business telecommunications management expenses.\",\\n\\t\\t\\t\\t\\t\"Procurement of new office logistics directors.\",\\n\\t\\t\\t\\t\\t\"Invoice payment from a business CMO.\",\\n\\t\\t\\t\\t\\t\"Payment for business vehicle management expenses.\",\\n\\t\\t\\t\\t\\t\"Procurement of new office sales directors.\",\\n\\t\\t\\t\\t\\t\"Invoice payment from a business CRO.\",\\n\\t\\t\\t\\t\\t\"Payment for business property management expenses.\",\\n\\t\\t\\t\\t\\t\"Procurement of new office customer service directors.\",\\n\\t\\t\\t\\t\\t\"Invoice payment from a business CHRO.\",\\n\\t\\t\\t\\t\\t\"Payment for business equipment management expenses.\",\\n\\t\\t\\t\\t\\t\"Procurement of new office IT directors.\",\\n\\t\\t\\t\\t\\t\"Invoice payment from a business CCO.\",\\n\\t\\t\\t\\t\\t\"Payment for business supply chain management expenses.\",\\n\\t\\t\\t\\t\\t\"Procurement of new office operations directors.\",\\n\\t\\t\\t\\t\\t\"Invoice payment from a business CEO.\",\\n\\t\\t\\t\\t\\t\"Payment for business inventory management expenses.\",\\n\\t\\t\\t\\t\\t\"Procurement of new office financial directors.\",\\n\\t\\t\\t\\t\\t\"Invoice payment from a business CFO.\",\\n\\t\\t\\t\\t\\t\"Payment for business logistics management expenses.\",\\n\\t\\t\\t\\t\\t\"Procurement of new office procurement directors.\",\\n\\t\\t\\t\\t\\t\"Invoice payment from a business COO.\",\\n\\t\\t\\t\\t\\t\"Payment for business transportation management expenses.\",\\n\\t\\t\\t\\t\\t\"Procurement of new office sales directors.\",\\n\\t\\t\\t\\t\\t\"Invoice payment from a business CTO.\",\\n\\t\\t\\t\\t\\t\"Payment for business utility management expenses.\",\\n\\t\\t\\t\\t\\t\"Procurement of new office customer service directors.\",\\n\\t\\t\\t\\t\\t\"Invoice payment from a business CIO.\",\\n\\t\\t\\t\\t\\t\"Payment for business maintenance management expenses.\",\\n\\t\\t\\t\\t\\t\"Procurement of new office IT directors.\",\\n\\t\\t\\t\\t\\t\"Invoice payment from a business CSO.\",\\n\\t\\t\\t\\t\\t\"Payment for business shipping management expenses.\",\\n\\t\\t\\t\\t\\t\"Procurement of new office operations directors.\",\\n\\t\\t\\t\\t\\t\"Invoice payment from a business CKO.\",\\n\\t\\t\\t\\t\\t\"Payment for business telecommunications management expenses.\",\\n\\t\\t\\t\\t\\t\"Procurement of new office logistics directors.\",\\n\\t\\t\\t\\t\\t\"Invoice payment from a a business CMO.\",\\n\\t\\t\\t\\t\\t\"Payment for business vehicle management expenses.\",\\n\\t\\t\\t\\t\\t\"Procurement of new office sales directors.\",\\n\\t\\t\\t\\t\\t\"Invoice payment from a a business CRO.\",\\n\\t\\t\\t\\t\\t\"Payment for business property management expenses.\",\\n\\t\\t\\t\\t\\t\"Procurement of new office customer service directors.\",\\n\\t\\t\\t\\t\\t\"Invoice payment from a a business CHRO.\",\\n\\t\\t\\t\\t\\t\"Payment for business equipment management expenses.\",\\n\\t\\t\\t\\t\\t\"Procurement of new office IT directors.\",\\n\\t\\t\\t\\t\\t\"Invoice payment from a a business CCO.\",\\n\\t\\t\\t\\t\\t\"Payment for business supply chain management expenses.\",\\n\\t\\t\\t\\t\\t\"Procurement of new office operations directors.\",\\n\\t\\t\\t\\t\\t\"Invoice payment from a a business CEO.\",\\n\\t\\t\\t\\t\\t\"Payment for business inventory management expenses.\",\\n\\t\\t\\t\\t\\t\"Procurement of new office financial directors.\",\\n\\t\\t\\t\\t\\t\"Invoice payment from a a business CFO.\",\\n\\t\\t\\t\\t\\t\"Payment for business logistics management expenses.\",\\n\\t\\t\\t\\t\\t\"Procurement of new office procurement directors.\",\\n\\t\\t\\t\\t\\t\"Invoice payment from a a business COO.\",\\n\\t\\t\\t\\t\\t\"Payment for business transportation management expenses.\",\\n\\t\\t\\t\\t\\t\"Procurement of new office sales directors.\",\\n\\t\\t\\t\\t\\t\"Invoice payment from a a business CTO.\",\\n\\t\\t\\t\\t\\t\"Payment for business utility management expenses.\",\\n\\t\\t\\t\\t\\t\"Procurement of new office customer service directors.\",\\n\\t\\t\\t\\t\\t\"Invoice payment from a a business CIO.\",\\n\\t\\t\\t\\t\\t\"Payment for business maintenance management expenses.\",\\n\\t\\t\\t\\t\\t\"Procurement of new office IT directors.\",\\n\\t\\t\\t\\t\\t\"Invoice payment from a a business CSO.\",\\n\\t\\t\\t\\t\\t\"Payment for business shipping management expenses.\",\\n\\t\\t\\t\\t\\t\"Procurement of new office operations directors.\",\\n\\t\\t\\t\\t\\t\"Invoice payment from a a business CKO.\",\\n\\t\\t\\t\\t\\t\"Payment for business telecommunications management expenses.\",\\n\\t\\t\\t\\t\\t\"Procurement of new office logistics directors.\",\\n\\t\\t\\t\\t\\t\"Invoice payment from a a business CMO.\",\\n\\t\\t\\t\\t\\t\"Payment for business vehicle management expenses.\",\\n\\t\\t\\t\\t\\t\"Procurement of new office sales directors.\",\\n\\t\\t\\t\\t\\t\"Invoice payment from a a business CRO.\",\\n\\t\\t\\t\\t\\t\"Payment for business property management expenses.\",\\n\\t\\t\\t\\t\\t\"Procurement of new office customer service directors.\",\\n\\t\\t\\t\\t\\t\"Invoice payment from a a business CHRO.\",\\n\\t\\t\\t\\t\\t\"Payment for business equipment management expenses.\",\\n\\t\\t\\t\\t\\t\"Procurement of new office IT directors.\",\\n\\t\\t\\t\\t\\t\"Invoice payment from a a business CCO.\",\\n\\t\\t\\t\\t\\t\"Payment for business supply chain management expenses.\",\\n\\t\\t\\t\\t\\t\"Procurement of new office operations directors.\",\\n\\t\\t\\t\\t\\t\"Invoice payment from a a business CEO.\",\\n\\t\\t\\t\\t\\t\"Payment for business inventory management expenses.\",\\n\\t\\t\\t\\t\\t\"Procurement of new office financial directors.\",\\n\\t\\t\\t\\t\\t\"Invoice payment from a a business CFO.\",\\n\\t\\t\\t\\t\\t\"Payment for business logistics management expenses.\",\\n\\t\\t\\t\\t\\t\"Procurement of new office procurement directors.\",\\n\\t\\t\\t\\t\\t\"Invoice payment from a a business COO.\",\\n\\t\\t\\t\\t\\t\"Payment for business transportation management expenses.\",\\n\\t\\t\\t\\t\\t\"Procurement of new office sales directors.\",\\n\\t\\t\\t\\t\\t\"Invoice payment from a a business CTO.\",\\n\\t\\t\\t\\t\\t\"Payment for business utility management expenses.\",\\n\\t\\t\\t\\t\\t\"Procurement of new office customer service directors.\",\\n\\t\\t\\t\\t\\t\"Invoice payment from a a business CIO.\",\\n\\t\\t\\t\\t\\t\"Payment for business maintenance management expenses.\",\\n\\t\\t\\t\\t\\t\"Procurement of new office IT directors.\",\\n\\t\\t\\t\\t\\t\"Invoice payment from a a business CSO.\",\\n\\t\\t\\t\\t\\t\"Payment for business shipping management expenses.\",\\n\\t\\t\\t\\t\\t\"Procurement of new office operations directors.\",\\n\\t\\t\\t\\t\\t\"Invoice payment from a a business CKO.\",\\n\\t\\t\\t\\t\\t\"Payment for business telecommunications management expenses.\",\\n\\t\\t\\t\\t\\t\"Procurement of new office logistics directors.\",\\n\\t\\t\\t\\t\\t\"Invoice payment from a a business CMO.\",\\n\\t\\t\\t\\t\\t\"Payment for business vehicle management expenses.\",\\n\\t\\t\\t\\t\\t\"Procurement of new office sales directors.\",\\n\\t\\t\\t\\t\\t\"Invoice payment from a a business CRO.\",\\n\\t\\t\\t\\t\\t\"Payment for business property management expenses.\",\\n\\t\\t\\t\\t\\t\"Procurement of new office customer service directors.\",\\n\\t\\t\\t\\t\\t\"Invoice payment from a a business CHRO.\",\\n\\t\\t\\t\\t\\t\"Payment for business equipment management expenses.\",\\n\\t\\t\\t\\t\\t\"Procurement of new office IT directors.\",\\n\\t\\t\\t\\t\\t\"Invoice payment from a a business CCO.\",\\n\\t\\t\\t\\t\\t\"Payment for business supply chain management expenses.\",\\n\\t\\t\\t\\t\\t\"Procurement of new office operations directors.\",\\n\\t\\t\\t\\t\\t\"Invoice payment from a a business CEO.\",\\n\\t\\t\\t\\t\\t\"Payment for business inventory management expenses.\",\\n\\t\\t\\t\\t\\t\"Procurement of new office financial directors.\",\\n\\t\\t\\t\\t\\t\"Invoice payment from a a business CFO.\",\\n\\t\\t\\t\\t\\t\"Payment for business logistics management expenses.\",\\n\\t\\t\\t\\t\\t\"Procurement of new office procurement directors.\",\\n\\t\\t\\t\\t\\t\"Invoice payment from a a business COO.\",\\n\\t\\t\\t\\t\\t\"Payment for business transportation management expenses.\",\\n\\t\\t\\t\\t\\t\"Procurement of new office sales directors.\",\\n\\t\\t\\t\\t\\t\"Invoice payment from a a business CTO.\",\\n\\t\\t\\t\\t\\t\"Payment for business utility management expenses.\",\\n\\t\\t\\t\\t\\t\"Procurement of new office customer service directors.\",\\n\\t\\t\\t\\t\\t\"Invoice payment from a a business CIO.\",\\n\\t\\t\\t\\t\\t\"Payment for business maintenance management expenses.\",\\n\\t\\t\\t\\t\\t\"Procurement of new office IT directors.\",\\n\\t\\t\\t\\t\\t\"Invoice payment from a a business CSO.\",\\n\\t\\t\\t\\t\\t\"Payment for business shipping management expenses.\",\\n\\t\\t\\t\\t\\t\"Procurement of new office operations directors.\",\\n\\t\\t\\t\\t\\t\"Invoice payment from a a business CKO.\",\\n\\t\\t\\t\\t\\t\"Payment for business telecommunications management expenses.\",\\n\\t\\t\\t\\t\\t\"Procurement of new office logistics directors.\",\\n\\t\\t\\t\\t\\t\"Invoice payment from a a business CMO.\",\\n\\t\\t\\t\\t\\t\"Payment for business vehicle management expenses.\",\\n\\t\\t\\t\\t\\t\"Procurement of new office sales directors.\",\\n\\t\\t\\t\\t\\t\"Invoice payment from a a business CRO.\",\\n\\t\\t\\t\\t\\t\"Payment for business property management expenses.\",\\n\\t\\t\\t\\t\\t\"Procurement of new office customer service directors.\",\\n\\t\\t\\t\\t\\t\"Invoice payment from a a business CHRO.\",\\n\\t\\t\\t\\t\\t\"Payment for business equipment management expenses.\",\\n\\t\\t\\t\\t\\t\"Procurement of new office IT directors.\",\\n\\t\\t\\t\\t\\t\"Invoice payment from a a business CCO.\",\\n\\t\\t\\t\\t\\t\"Payment for business supply chain management expenses.\",\\n\\t\\t\\t\\t\\t\"Procurement of new office operations directors.\",\\n\\t\\t\\t\\t\\t\"Invoice payment from a a business CEO.\",\\n\\t\\t\\t\\t\\t\"Payment for business inventory management expenses.\",\\n\\t\\t\\t\\t\\t\"Procurement of new office financial directors.\",\\n\\t\\t\\t\\t\\t\"Invoice payment from a a business CFO.\",\\n\\t\\t\\t\\t\\t\"Payment for business logistics management expenses.\",\\n\\t\\t\\t\\t\\t\"Procurement of new office procurement directors.\",\\n\\t\\t\\t\\t\\t\"Invoice payment from a a business COO.\",\\n\\t\\t\\t\\t\\t\"Payment for business transportation management expenses.\",\\n\\t\\t\\t\\t\\t\"Procurement of new office sales directors.\",\\n\\t\\t\\t\\t\\t\"Invoice payment from a a business CTO.\",\\n\\t\\t\\t\\t\\t\"Payment for business utility management expenses.\",\\n\\t\\t\\t\\t\\t\"Procurement of new office customer service directors.\",\\n\\t\\t\\t\\t\\t\"Invoice payment from a a business CIO.\",\\n\\t\\t\\t\\t\\t\"Payment for business maintenance management expenses.\",\\n\\t\\t\\t\\t\\t\"Procurement of new office IT directors.\",\\n\\t\\t\\t\\t\\t\"Invoice payment from a a business CSO.\",\\n\\t\\t\\t\\t\\t\"Payment for business shipping management expenses.\",\\n\\t\\t\\t\\t\\t\"Procurement of new office operations directors.\",\\n\\t\\t\\t\\t\\t\"Invoice payment from a a business CKO.\",\\n\\t\\t\\t\\t\\t\"Payment for business telecommunications management expenses.\",\\n\\t\\t\\t\\t\\t\"Procurement of new office logistics directors.\",\\n\\t\\t\\t\\t\\t\"Invoice payment from a a business CMO.\",\\n\\t\\t\\t\\t\\t\"Payment for business vehicle management expenses.\",\\n\\t\\t\\t\\t\\t\"Procurement of new office sales directors.\",\\n\\t\\t\\t\\t\\t\"Invoice payment from a a business CRO.\",\\n\\t\\t\\t\\t\\t\"Payment for business property management expenses.\",\\n\\t\\t\\t\\t\\t\"Procurement of new office customer service directors.\",\\n\\t\\t\\t\\t\\t\"Invoice payment from a a business CHRO.\",\\n\\t\\t\\t\\t\\t\"Payment for business equipment management expenses.\",\\n\\t\\t\\t\\t\\t\"Procurement of new office IT directors.\",\\n\\t\\t\\t\\t\\t\"Invoice payment from a a business CCO.\",\\n\\t\\t\\t\\t\\t\"Payment for business supply chain management expenses.\",\\n\\t\\t\\t\\t\\t\"Procurement of new office operations directors.\",\\n\\t\\t\\t\\t\\t\"Invoice payment from a a business CEO.\",\\n\\t\\t\\t\\t\\t\"Payment for business inventory management expenses.\",\\n\\t\\t\\t\\t\\t\"Procurement of new office financial directors.\",\\n\\t\\t\\t\\t\\t\"Invoice payment from a a business CFO.\",\\n\\t\\t\\t\\t\\t\"Payment for business logistics management expenses.\",\\n\\t\\t\\t\\t\\t\"Procurement of new office procurement directors.\",\\n\\t\\t\\t\\t\\t\"Invoice payment from a a business COO.\",\\n\\t\\t\\t\\t\\t\"Payment for business transportation management expenses.\",\\n\\t\\t\\t\\t\\t\"Procurement of new office sales directors.\",\\n\\t\\t\\t\\t\\t\"Invoice payment from a a business CTO.\",\\n\\t\\t\\t\\t\\t\"Payment for business utility management expenses.\",\\n\\t\\t\\t\\t\\t\"Procurement of new office customer service directors.\",\\n\\t\\t\\t\\t\\t\"Invoice payment from a a business CIO.\",\\n\\t\\t\\t\\t\\t\"Payment for business maintenance management expenses.\",\\n\\t\\t\\t\\t\\t\"Procurement of new office IT directors.\",\\n\\t\\t\\t\\t\\t\"Invoice payment from a a business CSO.\",\\n\\t\\t\\t\\t\\t\"Payment for business shipping management expenses.\",\\n\\t\\t\\t\\t\\t\"Procurement of new office operations directors.\",\\n\\t\\t\\t\\t\\t\"Invoice payment from a a business CKO.\",\\n\\t\\t\\t\\t\\t\"Payment for business telecommunications management expenses.\",\\n\\t\\t\\t\\t\\t\"Procurement of new office logistics directors.\",\\n\\t\\t\\t\\t\\t\"Invoice payment from a a business CMO.\",\\n\\t\\t\\t\\t\\t\"Payment for business vehicle management expenses.\",\\n\\t\\t\\t\\t\\t\"Procurement of new office sales directors.\",\\n\\t\\t\\t\\t\\t\"Invoice payment from a a business CRO.\",\\n\\t\\t\\t\\t\\t\"Payment for business property management expenses.\",\\n\\t\\t\\t\\t\\t\"Procurement of new office customer service directors.\",\\n\\t\\t\\t\\t\\t\"Invoice payment from a a business CHRO.\",\\n\\t\\t\\t\\t\\t\"Payment for business equipment management expenses.\",\\n\\t\\t\\t\\t\\t\"Procurement of new office IT directors.\",\\n\\t\\t\\t\\t\\t\"Invoice payment from a a business CCO.\",\\n\\t\\t\\t\\t\\t\"Payment for business supply chain management expenses.\",\\n\\t\\t\\t\\t\\t\"Procurement of new office operations directors.\",\\n\\t\\t\\t\\t\\t\"Invoice payment from a a business CEO.\",\\n\\t\\t\\t\\t\\t\"Payment for business inventory management expenses.\",\\n\\t\\t\\t\\t\\t\"Procurement of new office financial directors.\",\\n\\t\\t\\t\\t\\t\"Invoice payment from a a business CFO.\",\\n\\t\\t\\t\\t\\t\"Payment for business logistics management expenses.\",\\n\\t\\t\\t\\t\\t\"Procurement of new office procurement directors.\",\\n\\t\\t\\t\\t\\t\"Invoice payment from a a business COO.\",\\n\\t\\t\\t\\t\\t\"Payment for business transportation management expenses.\",\\n\\t\\t\\t\\t\\t\"Procurement of new office sales directors.\",\\n\\t\\t\\t\\t\\t\"Invoice payment from a a business CTO.\",\\n\\t\\t\\t\\t\\t\"Payment for business utility management expenses.\",\\n\\t\\t\\t\\t\\t\"Procurement of new office customer service directors.\",\\n\\t\\t\\t\\t\\t\"Invoice payment from a a business CIO.\",\\n\\t\\t\\t\\t\\t\"Payment for business maintenance management expenses.\",\\n\\t\\t\\t\\t\\t\"Procurement of new office IT directors.\",\\n\\t\\t\\t\\t\\t\"Invoice payment from a a business CSO.\",\\n\\t\\t\\t\\t\\t\"Payment for business shipping management expenses.\",\\n\\t\\t\\t\\t\\t\"Procurement of new office operations directors.\",\\n\\t\\t\\t\\t\\t\"Invoice payment from a a business CKO.\",\\n\\t\\t\\t\\t\\t\"Payment for business telecommunications management expenses.\",\\n\\t\\t\\t\\t\\t\"Procurement of new office logistics directors.\",\\n\\t\\t\\t\\t\\t\"Invoice payment from a a business CMO.\",\\n\\t\\t\\t\\t\\t\"Payment for business vehicle management expenses.\",\\n\\t\\t\\t\\t\\t\"Procurement of new office sales directors.\",\\n\\t\\t\\t\\t\\t\"Invoice payment from a a business CRO.\",\\n\\t\\t\\t\\t\\t\"Payment for business property management expenses.\",\\n\\t\\t\\t\\t\\t\"Procurement of new office customer service directors.\",\\n\\t\\t\\t\\t\\t\"Invoice payment from a a business CHRO.\",\\n\\t\\t\\t\\t\\t\"Payment for business equipment management expenses.\",\\n\\t\\t\\t\\t\\t\"Procurement of new office IT directors.\",\\n\\t\\t\\t\\t\\t\"Invoice payment from a a business CCO.\",\\n\\t\\t\\t\\t\\t\"Payment for business supply chain management expenses.\",\\n\\t\\t\\t\\t\\t\"Procurement of new office operations directors.\",\\n\\t\\t\\t\\t\\t\"Invoice payment from a a business CEO.\",\\n\\t\\t\\t\\t\\t\"Payment for business inventory management expenses.\",\\n\\t\\t\\t\\t\\t\"Procurement of new office financial directors.\",\\n\\t\\t\\t\\t\\t\"Invoice payment from a a business CFO.\",\\n\\t\\t\\t\\t\\t\"Payment for business logistics management expenses.\",\\n\\t\\t\\t\\t\\t\"Procurement of new office procurement directors.\",\\n\\t\\t\\t\\t\\t\"Invoice payment from a a business COO.\",\\n\\t\\t\\t\\t\\t\"Payment for'}}"
     ]
    }
   ],
   "source": [
    "result = structured_llm.invoke(basic_transaction_prompt_template)"
   ]
  },
  {
   "cell_type": "code",
   "execution_count": 18,
   "metadata": {},
   "outputs": [
    {
     "data": {
      "text/plain": [
       "['Payment for annual software maintenance',\n",
       " 'Subscription to industry-specific online courses',\n",
       " 'Purchase of office furniture from FurnitureHub',\n",
       " 'Travel expenses for business conference',\n",
       " 'Payment to freelance graphic designer']"
      ]
     },
     "execution_count": 18,
     "metadata": {},
     "output_type": "execute_result"
    }
   ],
   "source": [
    "result.business_expenses"
   ]
  },
  {
   "cell_type": "code",
   "execution_count": 7,
   "metadata": {},
   "outputs": [
    {
     "name": "stdout",
     "output_type": "stream",
     "text": [
      "47\n",
      "46\n",
      "44\n",
      "42\n",
      "43\n"
     ]
    }
   ],
   "source": [
    "print(len(result.personal_expenses))\n",
    "print(len(result.business_expenses))\n",
    "print(len(result.international_transfer))\n",
    "print(len(result.loan_credit))\n",
    "print(len(result.ecommerce))"
   ]
  },
  {
   "cell_type": "code",
   "execution_count": 8,
   "metadata": {},
   "outputs": [],
   "source": [
    "normal_transaction_description = {\n",
    "    'transaction_description':[],\n",
    "    \"transaction_type\":[]\n",
    "}"
   ]
  },
  {
   "cell_type": "code",
   "execution_count": 9,
   "metadata": {},
   "outputs": [
    {
     "name": "stderr",
     "output_type": "stream",
     "text": [
      "Generating Normal Transaction Description:   0%|          | 0/40 [00:00<?, ?it/s]"
     ]
    },
    {
     "name": "stdout",
     "output_type": "stream",
     "text": [
      "Generation Successful for iteration number 0\n"
     ]
    },
    {
     "name": "stderr",
     "output_type": "stream",
     "text": [
      "Generating Normal Transaction Description:   2%|▎         | 1/40 [00:38<24:44, 38.07s/it]"
     ]
    },
    {
     "name": "stdout",
     "output_type": "stream",
     "text": [
      "Generation Successful for iteration number 1\n"
     ]
    },
    {
     "name": "stderr",
     "output_type": "stream",
     "text": [
      "Generating Normal Transaction Description:   5%|▌         | 2/40 [01:49<36:40, 57.91s/it]"
     ]
    },
    {
     "name": "stdout",
     "output_type": "stream",
     "text": [
      "Generation Successful for iteration number 2\n"
     ]
    },
    {
     "name": "stderr",
     "output_type": "stream",
     "text": [
      "Generating Normal Transaction Description:   8%|▊         | 3/40 [03:01<39:34, 64.16s/it]"
     ]
    },
    {
     "name": "stdout",
     "output_type": "stream",
     "text": [
      "Failed for iteration number 3\n"
     ]
    },
    {
     "name": "stderr",
     "output_type": "stream",
     "text": [
      "Generating Normal Transaction Description:  10%|█         | 4/40 [04:36<45:47, 76.33s/it]"
     ]
    },
    {
     "name": "stdout",
     "output_type": "stream",
     "text": [
      "Generation Successful for iteration number 4\n"
     ]
    },
    {
     "name": "stderr",
     "output_type": "stream",
     "text": [
      "Generating Normal Transaction Description:  12%|█▎        | 5/40 [05:13<36:19, 62.26s/it]"
     ]
    },
    {
     "name": "stdout",
     "output_type": "stream",
     "text": [
      "Generation Successful for iteration number 5\n"
     ]
    },
    {
     "name": "stderr",
     "output_type": "stream",
     "text": [
      "Generating Normal Transaction Description:  15%|█▌        | 6/40 [05:53<30:56, 54.59s/it]"
     ]
    },
    {
     "name": "stdout",
     "output_type": "stream",
     "text": [
      "Generation Successful for iteration number 6\n"
     ]
    },
    {
     "name": "stderr",
     "output_type": "stream",
     "text": [
      "Generating Normal Transaction Description:  18%|█▊        | 7/40 [07:02<32:39, 59.37s/it]"
     ]
    },
    {
     "name": "stdout",
     "output_type": "stream",
     "text": [
      "Generation Successful for iteration number 7\n"
     ]
    },
    {
     "name": "stderr",
     "output_type": "stream",
     "text": [
      "Generating Normal Transaction Description:  20%|██        | 8/40 [08:14<33:48, 63.40s/it]"
     ]
    },
    {
     "name": "stdout",
     "output_type": "stream",
     "text": [
      "Generation Successful for iteration number 8\n"
     ]
    },
    {
     "name": "stderr",
     "output_type": "stream",
     "text": [
      "Generating Normal Transaction Description:  22%|██▎       | 9/40 [08:53<28:48, 55.75s/it]"
     ]
    },
    {
     "name": "stdout",
     "output_type": "stream",
     "text": [
      "Failed for iteration number 9\n"
     ]
    },
    {
     "name": "stderr",
     "output_type": "stream",
     "text": [
      "Generating Normal Transaction Description:  25%|██▌       | 10/40 [09:23<23:56, 47.88s/it]"
     ]
    },
    {
     "name": "stdout",
     "output_type": "stream",
     "text": [
      "Failed for iteration number 10\n"
     ]
    },
    {
     "name": "stderr",
     "output_type": "stream",
     "text": [
      "Generating Normal Transaction Description:  28%|██▊       | 11/40 [09:54<20:32, 42.49s/it]"
     ]
    },
    {
     "name": "stdout",
     "output_type": "stream",
     "text": [
      "Failed for iteration number 11\n"
     ]
    },
    {
     "name": "stderr",
     "output_type": "stream",
     "text": [
      "Generating Normal Transaction Description:  30%|███       | 12/40 [10:24<18:05, 38.77s/it]"
     ]
    },
    {
     "name": "stdout",
     "output_type": "stream",
     "text": [
      "Failed for iteration number 12\n"
     ]
    },
    {
     "name": "stderr",
     "output_type": "stream",
     "text": [
      "Generating Normal Transaction Description:  32%|███▎      | 13/40 [10:54<16:17, 36.19s/it]"
     ]
    },
    {
     "name": "stdout",
     "output_type": "stream",
     "text": [
      "Failed for iteration number 13\n"
     ]
    },
    {
     "name": "stderr",
     "output_type": "stream",
     "text": [
      "Generating Normal Transaction Description:  35%|███▌      | 14/40 [11:24<14:54, 34.41s/it]"
     ]
    },
    {
     "name": "stdout",
     "output_type": "stream",
     "text": [
      "Failed for iteration number 14\n"
     ]
    },
    {
     "name": "stderr",
     "output_type": "stream",
     "text": [
      "Generating Normal Transaction Description:  38%|███▊      | 15/40 [11:55<13:49, 33.16s/it]"
     ]
    },
    {
     "name": "stdout",
     "output_type": "stream",
     "text": [
      "Failed for iteration number 15\n"
     ]
    },
    {
     "name": "stderr",
     "output_type": "stream",
     "text": [
      "Generating Normal Transaction Description:  40%|████      | 16/40 [12:25<12:54, 32.29s/it]"
     ]
    },
    {
     "name": "stdout",
     "output_type": "stream",
     "text": [
      "Failed for iteration number 16\n"
     ]
    },
    {
     "name": "stderr",
     "output_type": "stream",
     "text": [
      "Generating Normal Transaction Description:  42%|████▎     | 17/40 [12:55<12:08, 31.68s/it]"
     ]
    },
    {
     "name": "stdout",
     "output_type": "stream",
     "text": [
      "Failed for iteration number 17\n"
     ]
    },
    {
     "name": "stderr",
     "output_type": "stream",
     "text": [
      "Generating Normal Transaction Description:  45%|████▌     | 18/40 [13:26<11:27, 31.25s/it]"
     ]
    },
    {
     "name": "stdout",
     "output_type": "stream",
     "text": [
      "Failed for iteration number 18\n"
     ]
    },
    {
     "name": "stderr",
     "output_type": "stream",
     "text": [
      "Generating Normal Transaction Description:  48%|████▊     | 19/40 [13:56<10:50, 30.95s/it]"
     ]
    },
    {
     "name": "stdout",
     "output_type": "stream",
     "text": [
      "Failed for iteration number 19\n"
     ]
    },
    {
     "name": "stderr",
     "output_type": "stream",
     "text": [
      "Generating Normal Transaction Description:  50%|█████     | 20/40 [14:26<10:15, 30.75s/it]"
     ]
    },
    {
     "name": "stdout",
     "output_type": "stream",
     "text": [
      "Failed for iteration number 20\n"
     ]
    },
    {
     "name": "stderr",
     "output_type": "stream",
     "text": [
      "Generating Normal Transaction Description:  52%|█████▎    | 21/40 [14:56<09:41, 30.61s/it]"
     ]
    },
    {
     "name": "stdout",
     "output_type": "stream",
     "text": [
      "Failed for iteration number 21\n"
     ]
    },
    {
     "name": "stderr",
     "output_type": "stream",
     "text": [
      "Generating Normal Transaction Description:  55%|█████▌    | 22/40 [15:27<09:09, 30.50s/it]"
     ]
    },
    {
     "name": "stdout",
     "output_type": "stream",
     "text": [
      "Failed for iteration number 22\n"
     ]
    },
    {
     "name": "stderr",
     "output_type": "stream",
     "text": [
      "Generating Normal Transaction Description:  57%|█████▊    | 23/40 [15:57<08:37, 30.43s/it]"
     ]
    },
    {
     "name": "stdout",
     "output_type": "stream",
     "text": [
      "Generation Successful for iteration number 23\n"
     ]
    },
    {
     "name": "stderr",
     "output_type": "stream",
     "text": [
      "Generating Normal Transaction Description:  60%|██████    | 24/40 [17:51<14:47, 55.49s/it]"
     ]
    },
    {
     "name": "stdout",
     "output_type": "stream",
     "text": [
      "Failed for iteration number 24\n"
     ]
    },
    {
     "name": "stderr",
     "output_type": "stream",
     "text": [
      "Generating Normal Transaction Description:  62%|██████▎   | 25/40 [18:22<12:01, 48.07s/it]"
     ]
    },
    {
     "name": "stdout",
     "output_type": "stream",
     "text": [
      "Failed for iteration number 25\n"
     ]
    },
    {
     "name": "stderr",
     "output_type": "stream",
     "text": [
      "Generating Normal Transaction Description:  65%|██████▌   | 26/40 [18:52<09:58, 42.75s/it]"
     ]
    },
    {
     "name": "stdout",
     "output_type": "stream",
     "text": [
      "Failed for iteration number 26\n"
     ]
    },
    {
     "name": "stderr",
     "output_type": "stream",
     "text": [
      "Generating Normal Transaction Description:  68%|██████▊   | 27/40 [19:22<08:26, 39.00s/it]"
     ]
    },
    {
     "name": "stdout",
     "output_type": "stream",
     "text": [
      "Failed for iteration number 27\n"
     ]
    },
    {
     "name": "stderr",
     "output_type": "stream",
     "text": [
      "Generating Normal Transaction Description:  70%|███████   | 28/40 [19:52<07:16, 36.38s/it]"
     ]
    },
    {
     "name": "stdout",
     "output_type": "stream",
     "text": [
      "Failed for iteration number 28\n"
     ]
    },
    {
     "name": "stderr",
     "output_type": "stream",
     "text": [
      "Generating Normal Transaction Description:  72%|███████▎  | 29/40 [20:23<06:19, 34.54s/it]"
     ]
    },
    {
     "name": "stdout",
     "output_type": "stream",
     "text": [
      "Failed for iteration number 29\n"
     ]
    },
    {
     "name": "stderr",
     "output_type": "stream",
     "text": [
      "Generating Normal Transaction Description:  75%|███████▌  | 30/40 [20:53<05:32, 33.26s/it]"
     ]
    },
    {
     "name": "stdout",
     "output_type": "stream",
     "text": [
      "Failed for iteration number 30\n"
     ]
    },
    {
     "name": "stderr",
     "output_type": "stream",
     "text": [
      "Generating Normal Transaction Description:  78%|███████▊  | 31/40 [21:23<04:51, 32.36s/it]"
     ]
    },
    {
     "name": "stdout",
     "output_type": "stream",
     "text": [
      "Failed for iteration number 31\n"
     ]
    },
    {
     "name": "stderr",
     "output_type": "stream",
     "text": [
      "Generating Normal Transaction Description:  80%|████████  | 32/40 [21:53<04:13, 31.73s/it]"
     ]
    },
    {
     "name": "stdout",
     "output_type": "stream",
     "text": [
      "Failed for iteration number 32\n"
     ]
    },
    {
     "name": "stderr",
     "output_type": "stream",
     "text": [
      "Generating Normal Transaction Description:  82%|████████▎ | 33/40 [22:24<03:39, 31.29s/it]"
     ]
    },
    {
     "name": "stdout",
     "output_type": "stream",
     "text": [
      "Failed for iteration number 33\n"
     ]
    },
    {
     "name": "stderr",
     "output_type": "stream",
     "text": [
      "Generating Normal Transaction Description:  85%|████████▌ | 34/40 [22:54<03:05, 30.98s/it]"
     ]
    },
    {
     "name": "stdout",
     "output_type": "stream",
     "text": [
      "Failed for iteration number 34\n"
     ]
    },
    {
     "name": "stderr",
     "output_type": "stream",
     "text": [
      "Generating Normal Transaction Description:  88%|████████▊ | 35/40 [23:24<02:33, 30.77s/it]"
     ]
    },
    {
     "name": "stdout",
     "output_type": "stream",
     "text": [
      "Failed for iteration number 35\n"
     ]
    },
    {
     "name": "stderr",
     "output_type": "stream",
     "text": [
      "Generating Normal Transaction Description:  90%|█████████ | 36/40 [23:55<02:02, 30.62s/it]"
     ]
    },
    {
     "name": "stdout",
     "output_type": "stream",
     "text": [
      "Failed for iteration number 36\n"
     ]
    },
    {
     "name": "stderr",
     "output_type": "stream",
     "text": [
      "Generating Normal Transaction Description:  92%|█████████▎| 37/40 [24:25<01:31, 30.51s/it]"
     ]
    },
    {
     "name": "stdout",
     "output_type": "stream",
     "text": [
      "Failed for iteration number 37\n"
     ]
    },
    {
     "name": "stderr",
     "output_type": "stream",
     "text": [
      "Generating Normal Transaction Description:  95%|█████████▌| 38/40 [24:55<01:00, 30.44s/it]"
     ]
    },
    {
     "name": "stdout",
     "output_type": "stream",
     "text": [
      "Failed for iteration number 38\n"
     ]
    },
    {
     "name": "stderr",
     "output_type": "stream",
     "text": [
      "Generating Normal Transaction Description:  98%|█████████▊| 39/40 [25:25<00:30, 30.39s/it]"
     ]
    },
    {
     "name": "stdout",
     "output_type": "stream",
     "text": [
      "Failed for iteration number 39\n"
     ]
    },
    {
     "name": "stderr",
     "output_type": "stream",
     "text": [
      "Generating Normal Transaction Description: 100%|██████████| 40/40 [25:56<00:00, 38.90s/it]\n"
     ]
    }
   ],
   "source": [
    "from tqdm import tqdm\n",
    "import time\n",
    "\n",
    "total_loop = 40\n",
    "\n",
    "for i in tqdm(range(total_loop), desc=\"Generating Normal Transaction Description\", total=total_loop):\n",
    "    try:\n",
    "        result = structured_llm.invoke(basic_transaction_prompt_template)\n",
    "\n",
    "        personal_expenses = result.personal_expenses\n",
    "        business_expenses = result.business_expenses\n",
    "        international_transfer = result.international_transfer\n",
    "        loan_credit = result.loan_credit\n",
    "        ecommerce = result.ecommerce\n",
    "\n",
    "        normal_transaction_description['transaction_description'] += personal_expenses\n",
    "        normal_transaction_description['transaction_type'] += [\"personal_expenses\"] * len(personal_expenses)\n",
    "\n",
    "        normal_transaction_description['transaction_description'] += business_expenses\n",
    "        normal_transaction_description['transaction_type'] += [\"business_expenses\"] * len(business_expenses)\n",
    "\n",
    "        normal_transaction_description['transaction_description'] += international_transfer\n",
    "        normal_transaction_description['transaction_type'] += [\"international_transfer\"] * len(international_transfer)\n",
    "\n",
    "        normal_transaction_description['transaction_description'] += loan_credit\n",
    "        normal_transaction_description['transaction_type'] += [\"loan_credit\"] * len(loan_credit)\n",
    "\n",
    "        normal_transaction_description['transaction_description'] += ecommerce\n",
    "        normal_transaction_description['transaction_type'] += [\"ecommerce\"] * len(ecommerce)\n",
    "\n",
    "        print(f\"Generation Successful for iteration number {i}\")\n",
    "    except:\n",
    "        print(f\"Failed for iteration number {i}\")\n",
    "\n",
    "    time.sleep(30)"
   ]
  },
  {
   "cell_type": "code",
   "execution_count": 10,
   "metadata": {},
   "outputs": [
    {
     "data": {
      "text/plain": [
       "dict_keys(['transaction_description', 'transaction_type'])"
      ]
     },
     "execution_count": 10,
     "metadata": {},
     "output_type": "execute_result"
    }
   ],
   "source": [
    "normal_transaction_description.keys()"
   ]
  },
  {
   "cell_type": "code",
   "execution_count": 21,
   "metadata": {},
   "outputs": [
    {
     "name": "stdout",
     "output_type": "stream",
     "text": [
      "1919\n",
      "1919\n"
     ]
    }
   ],
   "source": [
    "print(len(normal_transaction_description['transaction_description']))\n",
    "print(len(normal_transaction_description['transaction_type']))"
   ]
  },
  {
   "cell_type": "code",
   "execution_count": 23,
   "metadata": {},
   "outputs": [],
   "source": [
    "import pandas as pd\n",
    "not_sensitive_df = pd.DataFrame(normal_transaction_description)"
   ]
  },
  {
   "cell_type": "code",
   "execution_count": 24,
   "metadata": {},
   "outputs": [],
   "source": [
    "not_sensitive_df = not_sensitive_df.drop_duplicates()"
   ]
  },
  {
   "cell_type": "code",
   "execution_count": 26,
   "metadata": {},
   "outputs": [
    {
     "data": {
      "text/plain": [
       "['not_sensitive_df_v2.pkl']"
      ]
     },
     "execution_count": 26,
     "metadata": {},
     "output_type": "execute_result"
    }
   ],
   "source": [
    "import joblib\n",
    "joblib.dump(value=not_sensitive_df, filename=\"not_sensitive_df_v2.pkl\")"
   ]
  },
  {
   "cell_type": "markdown",
   "metadata": {},
   "source": [
    "# 3. Load and combine dataframe"
   ]
  },
  {
   "cell_type": "markdown",
   "metadata": {},
   "source": [
    "## 3.1 Load dataframe"
   ]
  },
  {
   "cell_type": "code",
   "execution_count": 40,
   "metadata": {},
   "outputs": [],
   "source": [
    "import joblib\n",
    "not_sensitive_df_v1 = joblib.load(filename=\"not_sensitive_df.pkl\")\n",
    "not_sensitive_df_v2 = joblib.load(filename=\"not_sensitive_df_v2.pkl\")\n",
    "not_sensitive_df = pd.concat([not_sensitive_df_v1, not_sensitive_df_v2], ignore_index=True)\n",
    "not_sensitive_df = not_sensitive_df.drop_duplicates()\n",
    "not_sensitive_df['sensitive_label'] = 'not_sensitive'\n",
    "\n",
    "sensitive_df_v1 = joblib.load(filename=\"backup data/sensitive_df.pkl\")\n",
    "sensitive_df_v2 = joblib.load(filename=\"sensitive_df_v2.pkl\")\n",
    "sensitive_df = pd.concat([sensitive_df_v1, sensitive_df_v2], ignore_index=True)\n",
    "sensitive_df = sensitive_df.drop_duplicates()\n",
    "sensitive_df['sensitive_label'] = 'sensitive'"
   ]
  },
  {
   "cell_type": "code",
   "execution_count": 41,
   "metadata": {},
   "outputs": [
    {
     "data": {
      "text/html": [
       "<div>\n",
       "<style scoped>\n",
       "    .dataframe tbody tr th:only-of-type {\n",
       "        vertical-align: middle;\n",
       "    }\n",
       "\n",
       "    .dataframe tbody tr th {\n",
       "        vertical-align: top;\n",
       "    }\n",
       "\n",
       "    .dataframe thead th {\n",
       "        text-align: right;\n",
       "    }\n",
       "</style>\n",
       "<table border=\"1\" class=\"dataframe\">\n",
       "  <thead>\n",
       "    <tr style=\"text-align: right;\">\n",
       "      <th></th>\n",
       "      <th>transaction_description</th>\n",
       "      <th>sensitive_type</th>\n",
       "      <th>sensitive_label</th>\n",
       "    </tr>\n",
       "  </thead>\n",
       "  <tbody>\n",
       "    <tr>\n",
       "      <th>0</th>\n",
       "      <td>High-performance computer processor for use in...</td>\n",
       "      <td>dual_use_items</td>\n",
       "      <td>sensitive</td>\n",
       "    </tr>\n",
       "    <tr>\n",
       "      <th>1</th>\n",
       "      <td>Advanced encryption software for secure commun...</td>\n",
       "      <td>dual_use_items</td>\n",
       "      <td>sensitive</td>\n",
       "    </tr>\n",
       "    <tr>\n",
       "      <th>2</th>\n",
       "      <td>High-sensitivity microphones for use in survei...</td>\n",
       "      <td>dual_use_items</td>\n",
       "      <td>sensitive</td>\n",
       "    </tr>\n",
       "    <tr>\n",
       "      <th>3</th>\n",
       "      <td>High-resolution cameras for use in surveillanc...</td>\n",
       "      <td>dual_use_items</td>\n",
       "      <td>sensitive</td>\n",
       "    </tr>\n",
       "    <tr>\n",
       "      <th>4</th>\n",
       "      <td>Advanced navigation system for use in aviation...</td>\n",
       "      <td>dual_use_items</td>\n",
       "      <td>sensitive</td>\n",
       "    </tr>\n",
       "    <tr>\n",
       "      <th>...</th>\n",
       "      <td>...</td>\n",
       "      <td>...</td>\n",
       "      <td>...</td>\n",
       "    </tr>\n",
       "    <tr>\n",
       "      <th>6651</th>\n",
       "      <td>High-purity hexacosane for chemical synthesis ...</td>\n",
       "      <td>dangerous_chemical</td>\n",
       "      <td>sensitive</td>\n",
       "    </tr>\n",
       "    <tr>\n",
       "      <th>6652</th>\n",
       "      <td>Concentrated octacosane for chemical synthesis...</td>\n",
       "      <td>dangerous_chemical</td>\n",
       "      <td>sensitive</td>\n",
       "    </tr>\n",
       "    <tr>\n",
       "      <th>6653</th>\n",
       "      <td>High-purity triacontane for chemical synthesis...</td>\n",
       "      <td>dangerous_chemical</td>\n",
       "      <td>sensitive</td>\n",
       "    </tr>\n",
       "    <tr>\n",
       "      <th>6654</th>\n",
       "      <td>Concentrated dotriacontane for chemical synthe...</td>\n",
       "      <td>dangerous_chemical</td>\n",
       "      <td>sensitive</td>\n",
       "    </tr>\n",
       "    <tr>\n",
       "      <th>6655</th>\n",
       "      <td>High-purity tetracontane for chemical synthesi...</td>\n",
       "      <td>dangerous_chemical</td>\n",
       "      <td>sensitive</td>\n",
       "    </tr>\n",
       "  </tbody>\n",
       "</table>\n",
       "<p>6490 rows × 3 columns</p>\n",
       "</div>"
      ],
      "text/plain": [
       "                                transaction_description      sensitive_type  \\\n",
       "0     High-performance computer processor for use in...      dual_use_items   \n",
       "1     Advanced encryption software for secure commun...      dual_use_items   \n",
       "2     High-sensitivity microphones for use in survei...      dual_use_items   \n",
       "3     High-resolution cameras for use in surveillanc...      dual_use_items   \n",
       "4     Advanced navigation system for use in aviation...      dual_use_items   \n",
       "...                                                 ...                 ...   \n",
       "6651  High-purity hexacosane for chemical synthesis ...  dangerous_chemical   \n",
       "6652  Concentrated octacosane for chemical synthesis...  dangerous_chemical   \n",
       "6653  High-purity triacontane for chemical synthesis...  dangerous_chemical   \n",
       "6654  Concentrated dotriacontane for chemical synthe...  dangerous_chemical   \n",
       "6655  High-purity tetracontane for chemical synthesi...  dangerous_chemical   \n",
       "\n",
       "     sensitive_label  \n",
       "0          sensitive  \n",
       "1          sensitive  \n",
       "2          sensitive  \n",
       "3          sensitive  \n",
       "4          sensitive  \n",
       "...              ...  \n",
       "6651       sensitive  \n",
       "6652       sensitive  \n",
       "6653       sensitive  \n",
       "6654       sensitive  \n",
       "6655       sensitive  \n",
       "\n",
       "[6490 rows x 3 columns]"
      ]
     },
     "execution_count": 41,
     "metadata": {},
     "output_type": "execute_result"
    }
   ],
   "source": [
    "sensitive_df"
   ]
  },
  {
   "cell_type": "code",
   "execution_count": 42,
   "metadata": {},
   "outputs": [
    {
     "data": {
      "text/html": [
       "<div>\n",
       "<style scoped>\n",
       "    .dataframe tbody tr th:only-of-type {\n",
       "        vertical-align: middle;\n",
       "    }\n",
       "\n",
       "    .dataframe tbody tr th {\n",
       "        vertical-align: top;\n",
       "    }\n",
       "\n",
       "    .dataframe thead th {\n",
       "        text-align: right;\n",
       "    }\n",
       "</style>\n",
       "<table border=\"1\" class=\"dataframe\">\n",
       "  <thead>\n",
       "    <tr style=\"text-align: right;\">\n",
       "      <th></th>\n",
       "      <th>transaction_description</th>\n",
       "      <th>transaction_type</th>\n",
       "      <th>sensitive_label</th>\n",
       "    </tr>\n",
       "  </thead>\n",
       "  <tbody>\n",
       "    <tr>\n",
       "      <th>0</th>\n",
       "      <td>Payment for orthodontic treatment</td>\n",
       "      <td>personal_expenses</td>\n",
       "      <td>not_sensitive</td>\n",
       "    </tr>\n",
       "    <tr>\n",
       "      <th>1</th>\n",
       "      <td>Monthly subscription to streaming service</td>\n",
       "      <td>personal_expenses</td>\n",
       "      <td>not_sensitive</td>\n",
       "    </tr>\n",
       "    <tr>\n",
       "      <th>2</th>\n",
       "      <td>Purchase of a new smartphone</td>\n",
       "      <td>personal_expenses</td>\n",
       "      <td>not_sensitive</td>\n",
       "    </tr>\n",
       "    <tr>\n",
       "      <th>3</th>\n",
       "      <td>Gym membership fees</td>\n",
       "      <td>personal_expenses</td>\n",
       "      <td>not_sensitive</td>\n",
       "    </tr>\n",
       "    <tr>\n",
       "      <th>4</th>\n",
       "      <td>Home maintenance costs</td>\n",
       "      <td>personal_expenses</td>\n",
       "      <td>not_sensitive</td>\n",
       "    </tr>\n",
       "    <tr>\n",
       "      <th>...</th>\n",
       "      <td>...</td>\n",
       "      <td>...</td>\n",
       "      <td>...</td>\n",
       "    </tr>\n",
       "    <tr>\n",
       "      <th>3433</th>\n",
       "      <td>Purchase of subscription services from online ...</td>\n",
       "      <td>ecommerce</td>\n",
       "      <td>not_sensitive</td>\n",
       "    </tr>\n",
       "    <tr>\n",
       "      <th>3434</th>\n",
       "      <td>Purchase of membership services from online st...</td>\n",
       "      <td>ecommerce</td>\n",
       "      <td>not_sensitive</td>\n",
       "    </tr>\n",
       "    <tr>\n",
       "      <th>3435</th>\n",
       "      <td>Purchase of licensing fees from online retailer.</td>\n",
       "      <td>ecommerce</td>\n",
       "      <td>not_sensitive</td>\n",
       "    </tr>\n",
       "    <tr>\n",
       "      <th>3436</th>\n",
       "      <td>Purchase of royalty fees from online store.</td>\n",
       "      <td>ecommerce</td>\n",
       "      <td>not_sensitive</td>\n",
       "    </tr>\n",
       "    <tr>\n",
       "      <th>3437</th>\n",
       "      <td>Purchase of commission fees from online retailer.</td>\n",
       "      <td>ecommerce</td>\n",
       "      <td>not_sensitive</td>\n",
       "    </tr>\n",
       "  </tbody>\n",
       "</table>\n",
       "<p>3435 rows × 3 columns</p>\n",
       "</div>"
      ],
      "text/plain": [
       "                                transaction_description   transaction_type  \\\n",
       "0                     Payment for orthodontic treatment  personal_expenses   \n",
       "1             Monthly subscription to streaming service  personal_expenses   \n",
       "2                          Purchase of a new smartphone  personal_expenses   \n",
       "3                                   Gym membership fees  personal_expenses   \n",
       "4                                Home maintenance costs  personal_expenses   \n",
       "...                                                 ...                ...   \n",
       "3433  Purchase of subscription services from online ...          ecommerce   \n",
       "3434  Purchase of membership services from online st...          ecommerce   \n",
       "3435   Purchase of licensing fees from online retailer.          ecommerce   \n",
       "3436        Purchase of royalty fees from online store.          ecommerce   \n",
       "3437  Purchase of commission fees from online retailer.          ecommerce   \n",
       "\n",
       "     sensitive_label  \n",
       "0      not_sensitive  \n",
       "1      not_sensitive  \n",
       "2      not_sensitive  \n",
       "3      not_sensitive  \n",
       "4      not_sensitive  \n",
       "...              ...  \n",
       "3433   not_sensitive  \n",
       "3434   not_sensitive  \n",
       "3435   not_sensitive  \n",
       "3436   not_sensitive  \n",
       "3437   not_sensitive  \n",
       "\n",
       "[3435 rows x 3 columns]"
      ]
     },
     "execution_count": 42,
     "metadata": {},
     "output_type": "execute_result"
    }
   ],
   "source": [
    "not_sensitive_df"
   ]
  },
  {
   "cell_type": "code",
   "execution_count": 43,
   "metadata": {},
   "outputs": [],
   "source": [
    "# Combine the two DataFrames\n",
    "combined_df = pd.concat([sensitive_df, not_sensitive_df], ignore_index=True, axis=0)"
   ]
  },
  {
   "cell_type": "code",
   "execution_count": 44,
   "metadata": {},
   "outputs": [
    {
     "data": {
      "text/html": [
       "<div>\n",
       "<style scoped>\n",
       "    .dataframe tbody tr th:only-of-type {\n",
       "        vertical-align: middle;\n",
       "    }\n",
       "\n",
       "    .dataframe tbody tr th {\n",
       "        vertical-align: top;\n",
       "    }\n",
       "\n",
       "    .dataframe thead th {\n",
       "        text-align: right;\n",
       "    }\n",
       "</style>\n",
       "<table border=\"1\" class=\"dataframe\">\n",
       "  <thead>\n",
       "    <tr style=\"text-align: right;\">\n",
       "      <th></th>\n",
       "      <th>transaction_description</th>\n",
       "      <th>sensitive_type</th>\n",
       "      <th>sensitive_label</th>\n",
       "      <th>transaction_type</th>\n",
       "    </tr>\n",
       "  </thead>\n",
       "  <tbody>\n",
       "    <tr>\n",
       "      <th>0</th>\n",
       "      <td>High-performance computer processor for use in...</td>\n",
       "      <td>dual_use_items</td>\n",
       "      <td>sensitive</td>\n",
       "      <td>NaN</td>\n",
       "    </tr>\n",
       "    <tr>\n",
       "      <th>1</th>\n",
       "      <td>Advanced encryption software for secure commun...</td>\n",
       "      <td>dual_use_items</td>\n",
       "      <td>sensitive</td>\n",
       "      <td>NaN</td>\n",
       "    </tr>\n",
       "    <tr>\n",
       "      <th>2</th>\n",
       "      <td>High-sensitivity microphones for use in survei...</td>\n",
       "      <td>dual_use_items</td>\n",
       "      <td>sensitive</td>\n",
       "      <td>NaN</td>\n",
       "    </tr>\n",
       "    <tr>\n",
       "      <th>3</th>\n",
       "      <td>High-resolution cameras for use in surveillanc...</td>\n",
       "      <td>dual_use_items</td>\n",
       "      <td>sensitive</td>\n",
       "      <td>NaN</td>\n",
       "    </tr>\n",
       "    <tr>\n",
       "      <th>4</th>\n",
       "      <td>Advanced navigation system for use in aviation...</td>\n",
       "      <td>dual_use_items</td>\n",
       "      <td>sensitive</td>\n",
       "      <td>NaN</td>\n",
       "    </tr>\n",
       "    <tr>\n",
       "      <th>...</th>\n",
       "      <td>...</td>\n",
       "      <td>...</td>\n",
       "      <td>...</td>\n",
       "      <td>...</td>\n",
       "    </tr>\n",
       "    <tr>\n",
       "      <th>9920</th>\n",
       "      <td>Purchase of subscription services from online ...</td>\n",
       "      <td>NaN</td>\n",
       "      <td>not_sensitive</td>\n",
       "      <td>ecommerce</td>\n",
       "    </tr>\n",
       "    <tr>\n",
       "      <th>9921</th>\n",
       "      <td>Purchase of membership services from online st...</td>\n",
       "      <td>NaN</td>\n",
       "      <td>not_sensitive</td>\n",
       "      <td>ecommerce</td>\n",
       "    </tr>\n",
       "    <tr>\n",
       "      <th>9922</th>\n",
       "      <td>Purchase of licensing fees from online retailer.</td>\n",
       "      <td>NaN</td>\n",
       "      <td>not_sensitive</td>\n",
       "      <td>ecommerce</td>\n",
       "    </tr>\n",
       "    <tr>\n",
       "      <th>9923</th>\n",
       "      <td>Purchase of royalty fees from online store.</td>\n",
       "      <td>NaN</td>\n",
       "      <td>not_sensitive</td>\n",
       "      <td>ecommerce</td>\n",
       "    </tr>\n",
       "    <tr>\n",
       "      <th>9924</th>\n",
       "      <td>Purchase of commission fees from online retailer.</td>\n",
       "      <td>NaN</td>\n",
       "      <td>not_sensitive</td>\n",
       "      <td>ecommerce</td>\n",
       "    </tr>\n",
       "  </tbody>\n",
       "</table>\n",
       "<p>9925 rows × 4 columns</p>\n",
       "</div>"
      ],
      "text/plain": [
       "                                transaction_description  sensitive_type  \\\n",
       "0     High-performance computer processor for use in...  dual_use_items   \n",
       "1     Advanced encryption software for secure commun...  dual_use_items   \n",
       "2     High-sensitivity microphones for use in survei...  dual_use_items   \n",
       "3     High-resolution cameras for use in surveillanc...  dual_use_items   \n",
       "4     Advanced navigation system for use in aviation...  dual_use_items   \n",
       "...                                                 ...             ...   \n",
       "9920  Purchase of subscription services from online ...             NaN   \n",
       "9921  Purchase of membership services from online st...             NaN   \n",
       "9922   Purchase of licensing fees from online retailer.             NaN   \n",
       "9923        Purchase of royalty fees from online store.             NaN   \n",
       "9924  Purchase of commission fees from online retailer.             NaN   \n",
       "\n",
       "     sensitive_label transaction_type  \n",
       "0          sensitive              NaN  \n",
       "1          sensitive              NaN  \n",
       "2          sensitive              NaN  \n",
       "3          sensitive              NaN  \n",
       "4          sensitive              NaN  \n",
       "...              ...              ...  \n",
       "9920   not_sensitive        ecommerce  \n",
       "9921   not_sensitive        ecommerce  \n",
       "9922   not_sensitive        ecommerce  \n",
       "9923   not_sensitive        ecommerce  \n",
       "9924   not_sensitive        ecommerce  \n",
       "\n",
       "[9925 rows x 4 columns]"
      ]
     },
     "execution_count": 44,
     "metadata": {},
     "output_type": "execute_result"
    }
   ],
   "source": [
    "combined_df"
   ]
  },
  {
   "cell_type": "code",
   "execution_count": 45,
   "metadata": {},
   "outputs": [],
   "source": [
    "combined_df.to_feather(\"dataset.feather\")"
   ]
  }
 ],
 "metadata": {
  "kernelspec": {
   "display_name": "jaredllm",
   "language": "python",
   "name": "python3"
  },
  "language_info": {
   "codemirror_mode": {
    "name": "ipython",
    "version": 3
   },
   "file_extension": ".py",
   "mimetype": "text/x-python",
   "name": "python",
   "nbconvert_exporter": "python",
   "pygments_lexer": "ipython3",
   "version": "3.12.4"
  }
 },
 "nbformat": 4,
 "nbformat_minor": 2
}
